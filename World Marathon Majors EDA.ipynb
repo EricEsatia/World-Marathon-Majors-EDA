{
 "cells": [
  {
   "cell_type": "code",
   "execution_count": 1,
   "id": "ddf1b727",
   "metadata": {},
   "outputs": [],
   "source": [
    "import pandas as pd\n",
    "import numpy as np\n",
    "import seaborn as sns\n",
    "import plotly.express as px\n",
    "import matplotlib.pyplot as plt"
   ]
  },
  {
   "cell_type": "code",
   "execution_count": 2,
   "id": "82408626",
   "metadata": {},
   "outputs": [],
   "source": [
    "df = pd.read_csv(\"D:/Datasets/Marathon/world_marathon_majors.csv\", encoding='ISO-8859-1')"
   ]
  },
  {
   "cell_type": "code",
   "execution_count": 3,
   "id": "8eeb0296",
   "metadata": {},
   "outputs": [
    {
     "data": {
      "text/html": [
       "<div>\n",
       "<style scoped>\n",
       "    .dataframe tbody tr th:only-of-type {\n",
       "        vertical-align: middle;\n",
       "    }\n",
       "\n",
       "    .dataframe tbody tr th {\n",
       "        vertical-align: top;\n",
       "    }\n",
       "\n",
       "    .dataframe thead th {\n",
       "        text-align: right;\n",
       "    }\n",
       "</style>\n",
       "<table border=\"1\" class=\"dataframe\">\n",
       "  <thead>\n",
       "    <tr style=\"text-align: right;\">\n",
       "      <th></th>\n",
       "      <th>year</th>\n",
       "      <th>winner</th>\n",
       "      <th>gender</th>\n",
       "      <th>country</th>\n",
       "      <th>time</th>\n",
       "      <th>marathon</th>\n",
       "    </tr>\n",
       "  </thead>\n",
       "  <tbody>\n",
       "    <tr>\n",
       "      <th>0</th>\n",
       "      <td>2018</td>\n",
       "      <td>Dickson Chumba</td>\n",
       "      <td>Male</td>\n",
       "      <td>Kenya</td>\n",
       "      <td>02:05:30</td>\n",
       "      <td>Tokyo</td>\n",
       "    </tr>\n",
       "    <tr>\n",
       "      <th>1</th>\n",
       "      <td>2018</td>\n",
       "      <td>Birhane Dibaba</td>\n",
       "      <td>Female</td>\n",
       "      <td>Ethiopia</td>\n",
       "      <td>02:19:51</td>\n",
       "      <td>Tokyo</td>\n",
       "    </tr>\n",
       "    <tr>\n",
       "      <th>2</th>\n",
       "      <td>2017</td>\n",
       "      <td>Wilson Kipsang</td>\n",
       "      <td>Male</td>\n",
       "      <td>Kenya</td>\n",
       "      <td>02:03:58</td>\n",
       "      <td>Tokyo</td>\n",
       "    </tr>\n",
       "    <tr>\n",
       "      <th>3</th>\n",
       "      <td>2017</td>\n",
       "      <td>Sarah Chepchirchir</td>\n",
       "      <td>Female</td>\n",
       "      <td>Kenya</td>\n",
       "      <td>02:19:47</td>\n",
       "      <td>Tokyo</td>\n",
       "    </tr>\n",
       "    <tr>\n",
       "      <th>4</th>\n",
       "      <td>2016</td>\n",
       "      <td>Feyisa Lilesa</td>\n",
       "      <td>Male</td>\n",
       "      <td>Ethiopia</td>\n",
       "      <td>02:06:56</td>\n",
       "      <td>Tokyo</td>\n",
       "    </tr>\n",
       "  </tbody>\n",
       "</table>\n",
       "</div>"
      ],
      "text/plain": [
       "   year              winner  gender   country      time marathon\n",
       "0  2018      Dickson Chumba    Male     Kenya  02:05:30    Tokyo\n",
       "1  2018      Birhane Dibaba  Female  Ethiopia  02:19:51    Tokyo\n",
       "2  2017      Wilson Kipsang    Male     Kenya  02:03:58    Tokyo\n",
       "3  2017  Sarah Chepchirchir  Female     Kenya  02:19:47    Tokyo\n",
       "4  2016       Feyisa Lilesa    Male  Ethiopia  02:06:56    Tokyo"
      ]
     },
     "execution_count": 3,
     "metadata": {},
     "output_type": "execute_result"
    }
   ],
   "source": [
    "df.head(5)"
   ]
  },
  {
   "cell_type": "code",
   "execution_count": 4,
   "id": "838dea79",
   "metadata": {},
   "outputs": [
    {
     "data": {
      "text/plain": [
       "(536, 6)"
      ]
     },
     "execution_count": 4,
     "metadata": {},
     "output_type": "execute_result"
    }
   ],
   "source": [
    "df.shape  #Describes the dimensions of the dataframe"
   ]
  },
  {
   "cell_type": "code",
   "execution_count": 5,
   "id": "af1d20d0",
   "metadata": {},
   "outputs": [
    {
     "data": {
      "text/plain": [
       "year         int64\n",
       "winner      object\n",
       "gender      object\n",
       "country     object\n",
       "time        object\n",
       "marathon    object\n",
       "dtype: object"
      ]
     },
     "execution_count": 5,
     "metadata": {},
     "output_type": "execute_result"
    }
   ],
   "source": [
    "df.dtypes  #Overview of the data types"
   ]
  },
  {
   "cell_type": "code",
   "execution_count": 6,
   "id": "86370db5",
   "metadata": {},
   "outputs": [
    {
     "name": "stdout",
     "output_type": "stream",
     "text": [
      "<class 'pandas.core.frame.DataFrame'>\n",
      "RangeIndex: 536 entries, 0 to 535\n",
      "Data columns (total 6 columns):\n",
      " #   Column    Non-Null Count  Dtype \n",
      "---  ------    --------------  ----- \n",
      " 0   year      536 non-null    int64 \n",
      " 1   winner    536 non-null    object\n",
      " 2   gender    536 non-null    object\n",
      " 3   country   536 non-null    object\n",
      " 4   time      536 non-null    object\n",
      " 5   marathon  536 non-null    object\n",
      "dtypes: int64(1), object(5)\n",
      "memory usage: 25.3+ KB\n"
     ]
    }
   ],
   "source": [
    "df.info()"
   ]
  },
  {
   "cell_type": "markdown",
   "id": "c9bce312",
   "metadata": {},
   "source": [
    "# Marathon Wins by Country"
   ]
  },
  {
   "cell_type": "code",
   "execution_count": 7,
   "id": "03433fa5",
   "metadata": {},
   "outputs": [
    {
     "data": {
      "text/plain": [
       "Kenya             136\n",
       "United States     104\n",
       "Ethiopia           51\n",
       "Germany            36\n",
       "United Kingdom     35\n",
       "Japan              22\n",
       "Norway             20\n",
       "Canada             17\n",
       "Portugal           11\n",
       "Mexico             10\n",
       "Finland            10\n",
       "Russia              8\n",
       "Poland              8\n",
       "Brazil              7\n",
       "Italy               6\n",
       "South Africa        5\n",
       "Belgium             5\n",
       "New Zealand         5\n",
       "Morocco             5\n",
       "Tanzania            4\n",
       "South Korea         3\n",
       "Ireland             3\n",
       "Australia           3\n",
       "Colombia            2\n",
       "Denmark             2\n",
       "Switzerland         2\n",
       "Romania             2\n",
       "Sweden              2\n",
       "Greece              2\n",
       "Spain               2\n",
       "Latvia              2\n",
       "China               1\n",
       "Hungary             1\n",
       "Eritrea             1\n",
       "Guatemala           1\n",
       "Yugoslavia          1\n",
       "Soviet Union        1\n",
       "Name: country, dtype: int64"
      ]
     },
     "execution_count": 7,
     "metadata": {},
     "output_type": "execute_result"
    }
   ],
   "source": [
    "df.country.value_counts()"
   ]
  },
  {
   "cell_type": "code",
   "execution_count": 11,
   "id": "e6d9bd2b",
   "metadata": {},
   "outputs": [
    {
     "data": {
      "image/png": "[encoded data removed]",
      "text/plain": [
       "<Figure size 1500x800 with 1 Axes>"
      ]
     },
     "metadata": {},
     "output_type": "display_data"
    }
   ],
   "source": [
    "#We look at the top 10 countries in a bar graph\n",
    "top_countries = df.country.value_counts().iloc[:10]\n",
    "top_countries.plot(kind = \"bar\", figsize=(15,8), fontsize=14)\n",
    "plt.ylabel(\"No. of Wins\", fontsize=14)\n",
    "plt.show()"
   ]
  },
  {
   "cell_type": "markdown",
   "id": "4e027dff",
   "metadata": {},
   "source": [
    "# Using a For loop to look at the Top 3 Countries"
   ]
  },
  {
   "cell_type": "code",
   "execution_count": 12,
   "id": "eebad22c",
   "metadata": {},
   "outputs": [],
   "source": [
    "# A look into the top three counties performance over the years\n",
    "top_countries = df['country'].value_counts().nlargest(3).index"
   ]
  },
  {
   "cell_type": "code",
   "execution_count": 19,
   "id": "2a6c5dd7",
   "metadata": {},
   "outputs": [
    {
     "data": {
      "image/png": "[encoded data removed]",
      "text/plain": [
       "<Figure size 1000x1500 with 3 Axes>"
      ]
     },
     "metadata": {},
     "output_type": "display_data"
    }
   ],
   "source": [
    "fig, axs = plt.subplots(3, 1, figsize=(10, 15))\n",
    "for i, country in enumerate(top_countries):\n",
    "    country_data = df[df['country'] == country].sort_values('year')\n",
    "    axs[i].hist(country_data['year'], bins=20, color='lightblue', edgecolor='black')\n",
    "    axs[i].set_title(f'Histogram for {country}', fontsize=16)\n",
    "    axs[i].set_xlabel('Year', fontsize=14)\n",
    "    axs[i].set_ylabel('Frequency', fontsize=14)\n",
    "plt.tight_layout()\n",
    "plt.show()\n",
    "\n",
    "#The loop iterates through each country, filters the data, and plots a histogram for the 'year' column.\n",
    "#The f-string embeds the value of the country variable into the string, creating a dynamic string with the name of the country."
   ]
  },
  {
   "cell_type": "code",
   "execution_count": 14,
   "id": "137eaad1",
   "metadata": {},
   "outputs": [],
   "source": [
    "#Post 2000 era has seen Kenya perform the best over the years"
   ]
  },
  {
   "cell_type": "markdown",
   "id": "9a4bcdbb",
   "metadata": {},
   "source": [
    "# Marathon Wins By Locations"
   ]
  },
  {
   "cell_type": "code",
   "execution_count": null,
   "id": "2587407d",
   "metadata": {},
   "outputs": [],
   "source": [
    "# How does the performance vary across different WMM locations\n",
    "# Would the results still look the same for races dominated by Kenya, the US, etc. or can we observe more variance?"
   ]
  },
  {
   "cell_type": "code",
   "execution_count": 26,
   "id": "c5067a24",
   "metadata": {
    "scrolled": false
   },
   "outputs": [
    {
     "data": {
      "image/png": "[encoded data removed]",
      "text/plain": [
       "<Figure size 1500x3600 with 6 Axes>"
      ]
     },
     "metadata": {},
     "output_type": "display_data"
    }
   ],
   "source": [
    "# List of unique marathon locations\n",
    "marathon_locations = df['marathon'].unique()\n",
    "\n",
    "# Set up subplots\n",
    "fig, axes = plt.subplots(nrows=len(marathon_locations), figsize=(15, 6 * len(marathon_locations)))\n",
    "\n",
    "# Loop through each marathon location\n",
    "for i, location in enumerate(marathon_locations):\n",
    "    # Filter DataFrame for the current location\n",
    "    location_df = df.loc[df.marathon == location]\n",
    "    \n",
    "    # Count victories by country\n",
    "    wins_by_country = location_df.country.value_counts().iloc[:5]\n",
    "    \n",
    "    # Plotting with seaborn\n",
    "    sns.barplot(x=wins_by_country.index, y=wins_by_country.values, ax=axes[i], palette=\"viridis\")\n",
    "    \n",
    "    axes[i].set_title(f\"{location} Marathon - Wins by Country\", fontsize=16)\n",
    "\n",
    "plt.tight_layout()\n",
    "plt.show()"
   ]
  },
  {
   "cell_type": "markdown",
   "id": "615ce5a7",
   "metadata": {},
   "source": [
    "# Best Perfoming Athlete(Top 10)"
   ]
  },
  {
   "cell_type": "code",
   "execution_count": 61,
   "id": "9cc765da",
   "metadata": {},
   "outputs": [
    {
     "data": {
      "text/html": [
       "<div>\n",
       "<style scoped>\n",
       "    .dataframe tbody tr th:only-of-type {\n",
       "        vertical-align: middle;\n",
       "    }\n",
       "\n",
       "    .dataframe tbody tr th {\n",
       "        vertical-align: top;\n",
       "    }\n",
       "\n",
       "    .dataframe thead th {\n",
       "        text-align: right;\n",
       "    }\n",
       "</style>\n",
       "<table border=\"1\" class=\"dataframe\">\n",
       "  <thead>\n",
       "    <tr style=\"text-align: right;\">\n",
       "      <th></th>\n",
       "      <th>year</th>\n",
       "      <th>winner</th>\n",
       "      <th>country</th>\n",
       "      <th>gender</th>\n",
       "      <th>marathon</th>\n",
       "    </tr>\n",
       "    <tr>\n",
       "      <th>time</th>\n",
       "      <th></th>\n",
       "      <th></th>\n",
       "      <th></th>\n",
       "      <th></th>\n",
       "      <th></th>\n",
       "    </tr>\n",
       "  </thead>\n",
       "  <tbody>\n",
       "    <tr>\n",
       "      <th>2024-01-08 02:02:57</th>\n",
       "      <td>2014</td>\n",
       "      <td>Dennis Kimetto</td>\n",
       "      <td>Kenya</td>\n",
       "      <td>Male</td>\n",
       "      <td>Berlin</td>\n",
       "    </tr>\n",
       "    <tr>\n",
       "      <th>2024-01-08 02:03:02</th>\n",
       "      <td>2011</td>\n",
       "      <td>Geoffrey Mutai</td>\n",
       "      <td>Kenya</td>\n",
       "      <td>Male</td>\n",
       "      <td>Boston</td>\n",
       "    </tr>\n",
       "    <tr>\n",
       "      <th>2024-01-08 02:03:03</th>\n",
       "      <td>2016</td>\n",
       "      <td>Kenenisa Bekele</td>\n",
       "      <td>Ethiopia</td>\n",
       "      <td>Male</td>\n",
       "      <td>Berlin</td>\n",
       "    </tr>\n",
       "    <tr>\n",
       "      <th>2024-01-08 02:03:05</th>\n",
       "      <td>2016</td>\n",
       "      <td>Eliud Kipchoge</td>\n",
       "      <td>Kenya</td>\n",
       "      <td>Male</td>\n",
       "      <td>London</td>\n",
       "    </tr>\n",
       "    <tr>\n",
       "      <th>2024-01-08 02:03:23</th>\n",
       "      <td>2013</td>\n",
       "      <td>Wilson Kipsang</td>\n",
       "      <td>Kenya</td>\n",
       "      <td>Male</td>\n",
       "      <td>Berlin</td>\n",
       "    </tr>\n",
       "    <tr>\n",
       "      <th>2024-01-08 02:03:32</th>\n",
       "      <td>2017</td>\n",
       "      <td>Eliud Kipchoge</td>\n",
       "      <td>Kenya</td>\n",
       "      <td>Male</td>\n",
       "      <td>Berlin</td>\n",
       "    </tr>\n",
       "    <tr>\n",
       "      <th>2024-01-08 02:03:38</th>\n",
       "      <td>2011</td>\n",
       "      <td>Patrick Musyoki</td>\n",
       "      <td>Kenya</td>\n",
       "      <td>Male</td>\n",
       "      <td>Berlin</td>\n",
       "    </tr>\n",
       "    <tr>\n",
       "      <th>2024-01-08 02:03:45</th>\n",
       "      <td>2013</td>\n",
       "      <td>Dennis Kimetto</td>\n",
       "      <td>Kenya</td>\n",
       "      <td>Male</td>\n",
       "      <td>Chicago</td>\n",
       "    </tr>\n",
       "    <tr>\n",
       "      <th>2024-01-08 02:03:58</th>\n",
       "      <td>2017</td>\n",
       "      <td>Wilson Kipsang</td>\n",
       "      <td>Kenya</td>\n",
       "      <td>Male</td>\n",
       "      <td>Tokyo</td>\n",
       "    </tr>\n",
       "    <tr>\n",
       "      <th>2024-01-08 02:03:59</th>\n",
       "      <td>2008</td>\n",
       "      <td>Haile Gebrselassie</td>\n",
       "      <td>Ethiopia</td>\n",
       "      <td>Male</td>\n",
       "      <td>Berlin</td>\n",
       "    </tr>\n",
       "  </tbody>\n",
       "</table>\n",
       "</div>"
      ],
      "text/plain": [
       "                     year              winner   country gender marathon\n",
       "time                                                                   \n",
       "2024-01-08 02:02:57  2014      Dennis Kimetto     Kenya   Male   Berlin\n",
       "2024-01-08 02:03:02  2011      Geoffrey Mutai     Kenya   Male   Boston\n",
       "2024-01-08 02:03:03  2016     Kenenisa Bekele  Ethiopia   Male   Berlin\n",
       "2024-01-08 02:03:05  2016      Eliud Kipchoge     Kenya   Male   London\n",
       "2024-01-08 02:03:23  2013      Wilson Kipsang     Kenya   Male   Berlin\n",
       "2024-01-08 02:03:32  2017      Eliud Kipchoge     Kenya   Male   Berlin\n",
       "2024-01-08 02:03:38  2011     Patrick Musyoki     Kenya   Male   Berlin\n",
       "2024-01-08 02:03:45  2013      Dennis Kimetto     Kenya   Male  Chicago\n",
       "2024-01-08 02:03:58  2017      Wilson Kipsang     Kenya   Male    Tokyo\n",
       "2024-01-08 02:03:59  2008  Haile Gebrselassie  Ethiopia   Male   Berlin"
      ]
     },
     "execution_count": 61,
     "metadata": {},
     "output_type": "execute_result"
    }
   ],
   "source": [
    "g_df = df.groupby(\"time\")[[\"year\", \"winner\", \"country\", \"gender\", \"marathon\"]].min()\n",
    "g_df.head(10)"
   ]
  },
  {
   "cell_type": "code",
   "execution_count": 35,
   "id": "74b124ff",
   "metadata": {},
   "outputs": [
    {
     "data": {
      "text/html": [
       "<div>\n",
       "<style scoped>\n",
       "    .dataframe tbody tr th:only-of-type {\n",
       "        vertical-align: middle;\n",
       "    }\n",
       "\n",
       "    .dataframe tbody tr th {\n",
       "        vertical-align: top;\n",
       "    }\n",
       "\n",
       "    .dataframe thead th {\n",
       "        text-align: right;\n",
       "    }\n",
       "</style>\n",
       "<table border=\"1\" class=\"dataframe\">\n",
       "  <thead>\n",
       "    <tr style=\"text-align: right;\">\n",
       "      <th></th>\n",
       "      <th>year</th>\n",
       "      <th>winner</th>\n",
       "      <th>gender</th>\n",
       "      <th>country</th>\n",
       "      <th>time</th>\n",
       "      <th>marathon</th>\n",
       "      <th>hours</th>\n",
       "      <th>minutes</th>\n",
       "      <th>seconds</th>\n",
       "      <th>formatted_time</th>\n",
       "      <th>second</th>\n",
       "    </tr>\n",
       "  </thead>\n",
       "  <tbody>\n",
       "    <tr>\n",
       "      <th>10</th>\n",
       "      <td>2013</td>\n",
       "      <td>Dennis Kimetto</td>\n",
       "      <td>Male</td>\n",
       "      <td>Kenya</td>\n",
       "      <td>2024-01-08 02:06:50</td>\n",
       "      <td>Tokyo</td>\n",
       "      <td>2</td>\n",
       "      <td>6</td>\n",
       "      <td>50</td>\n",
       "      <td>2.06.50</td>\n",
       "      <td>7610</td>\n",
       "    </tr>\n",
       "    <tr>\n",
       "      <th>30</th>\n",
       "      <td>2014</td>\n",
       "      <td>Dennis Kimetto</td>\n",
       "      <td>Male</td>\n",
       "      <td>Kenya</td>\n",
       "      <td>2024-01-08 02:02:57</td>\n",
       "      <td>Berlin</td>\n",
       "      <td>2</td>\n",
       "      <td>2</td>\n",
       "      <td>57</td>\n",
       "      <td>2.02.57</td>\n",
       "      <td>7377</td>\n",
       "    </tr>\n",
       "    <tr>\n",
       "      <th>463</th>\n",
       "      <td>2013</td>\n",
       "      <td>Dennis Kimetto</td>\n",
       "      <td>Male</td>\n",
       "      <td>Kenya</td>\n",
       "      <td>2024-01-08 02:03:45</td>\n",
       "      <td>Chicago</td>\n",
       "      <td>2</td>\n",
       "      <td>3</td>\n",
       "      <td>45</td>\n",
       "      <td>2.03.45</td>\n",
       "      <td>7425</td>\n",
       "    </tr>\n",
       "  </tbody>\n",
       "</table>\n",
       "</div>"
      ],
      "text/plain": [
       "     year          winner gender country                time marathon  hours  \\\n",
       "10   2013  Dennis Kimetto   Male   Kenya 2024-01-08 02:06:50    Tokyo      2   \n",
       "30   2014  Dennis Kimetto   Male   Kenya 2024-01-08 02:02:57   Berlin      2   \n",
       "463  2013  Dennis Kimetto   Male   Kenya 2024-01-08 02:03:45  Chicago      2   \n",
       "\n",
       "     minutes  seconds formatted_time  second  \n",
       "10         6       50        2.06.50    7610  \n",
       "30         2       57        2.02.57    7377  \n",
       "463        3       45        2.03.45    7425  "
      ]
     },
     "execution_count": 35,
     "metadata": {},
     "output_type": "execute_result"
    }
   ],
   "source": [
    "df[df[\"winner\"]=='Dennis Kimetto']"
   ]
  },
  {
   "cell_type": "code",
   "execution_count": null,
   "id": "0d946e39",
   "metadata": {},
   "outputs": [],
   "source": []
  },
  {
   "cell_type": "code",
   "execution_count": null,
   "id": "44b62789",
   "metadata": {},
   "outputs": [],
   "source": []
  },
  {
   "cell_type": "markdown",
   "id": "4af6e698",
   "metadata": {},
   "source": [
    "# Distribution By Gender"
   ]
  },
  {
   "cell_type": "markdown",
   "id": "cc9d597b",
   "metadata": {},
   "source": [
    "## Male Winners"
   ]
  },
  {
   "cell_type": "code",
   "execution_count": 56,
   "id": "a0d6e3d6",
   "metadata": {},
   "outputs": [
    {
     "data": {
      "image/png": "[encoded data removed]",
      "text/plain": [
       "<Figure size 1000x600 with 1 Axes>"
      ]
     },
     "metadata": {},
     "output_type": "display_data"
    }
   ],
   "source": [
    "df['time'] = pd.to_datetime(df['time'], format='%H:%M:%S')\n",
    "\n",
    "# Filter only male winners\n",
    "male_won = df[df['gender'] == 'Male']\n",
    "\n",
    "# Sort by marathon time\n",
    "male_top_10 = male_won.sort_values(by='time').head(10)\n",
    "\n",
    "# Plot a bar chart\n",
    "plt.figure(figsize=(10, 6))\n",
    "plt.bar(male_top_10['winner'], male_top_10['time'])\n",
    "plt.xlabel('winner')\n",
    "plt.ylabel('time')\n",
    "plt.title('Top 10 Male Marathon Winners')\n",
    "plt.xticks(rotation=45, ha='right')  # Rotate x-axis labels for better visibility\n",
    "plt.show()"
   ]
  },
  {
   "cell_type": "code",
   "execution_count": 55,
   "id": "f1765811",
   "metadata": {},
   "outputs": [
    {
     "data": {
      "application/vnd.plotly.v1+json": {
       "config": {
        "plotlyServerURL": "https://plot.ly"
       },
       "data": [
        {
         "customdata": [
          [
           "Dennis Kimetto"
          ],
          [
           "Kenenisa Bekele"
          ],
          [
           "Wilson Kipsang"
          ],
          [
           "Eliud Kipchoge"
          ],
          [
           "Patrick Musyoki"
          ],
          [
           "Haile Gebrselassie"
          ],
          [
           "Eliud Kipchoge"
          ],
          [
           "Geoffrey Mutai"
          ],
          [
           "Haile Gebrselassie"
          ],
          [
           "Paul Tergat"
          ],
          [
           "Patrick Musyoki"
          ],
          [
           "Haile Gebrselassie"
          ],
          [
           "Ronaldo da Costa"
          ],
          [
           "Haile Gebrselassie"
          ],
          [
           "Josephat Kiprono"
          ],
          [
           "Felix Limo"
          ],
          [
           "Raymond Kipkoech"
          ],
          [
           "Sammy Lelei"
          ],
          [
           "Elijah Lagat"
          ],
          [
           "Philip Manyim"
          ],
          [
           "Simon Biwott"
          ],
          [
           "David Tsebe"
          ],
          [
           "Steve Moneghetti"
          ],
          [
           "António Pinto"
          ],
          [
           "Joseph Ngolepus"
          ],
          [
           "Abel Antón"
          ],
          [
           "Alfredo Shahanga"
          ],
          [
           "Steve Brace"
          ],
          [
           "Xolile Yawa"
          ],
          [
           "Boguslaw Psujek"
          ],
          [
           "Suleiman Nyambui"
          ],
          [
           "Jimmy Ashworth"
          ],
          [
           "Suleiman Nyambui"
          ],
          [
           "John Skovbjerg"
          ],
          [
           "Karel Lismont"
          ],
          [
           "Domingo Tibaduiza"
          ],
          [
           "Günter Mielke"
          ],
          [
           "Ian Ray"
          ],
          [
           "Ingo Sensburg"
          ],
          [
           "Michael Spöttel"
          ],
          [
           "Ingo Sensburg"
          ],
          [
           "Ingo Sensburg"
          ],
          [
           "Günter Hallas"
          ],
          [
           "Ralf Bochröder"
          ]
         ],
         "hovertemplate": "marathon=Berlin<br>year=%{x}<br>time=%{y}<br>winner=%{customdata[0]}<extra></extra>",
         "legendgroup": "Berlin",
         "marker": {
          "color": "#636efa",
          "symbol": "circle"
         },
         "mode": "markers",
         "name": "Berlin",
         "orientation": "h",
         "showlegend": true,
         "type": "scatter",
         "x": [
          2014,
          2016,
          2013,
          2017,
          2011,
          2008,
          2015,
          2012,
          2007,
          2003,
          2010,
          2006,
          1998,
          2009,
          1999,
          2004,
          2002,
          1995,
          1997,
          2005,
          2000,
          1992,
          1990,
          1994,
          2001,
          1996,
          1989,
          1991,
          1993,
          1986,
          1987,
          1985,
          1988,
          1984,
          1983,
          1982,
          1977,
          1981,
          1980,
          1978,
          1979,
          1976,
          1974,
          1975
         ],
         "xaxis": "x",
         "y": [
          "2024-01-08T02:02:57",
          "2024-01-08T02:03:03",
          "2024-01-08T02:03:23",
          "2024-01-08T02:03:32",
          "2024-01-08T02:03:38",
          "2024-01-08T02:03:59",
          "2024-01-08T02:04:00",
          "2024-01-08T02:04:15",
          "2024-01-08T02:04:26",
          "2024-01-08T02:04:55",
          "2024-01-08T02:05:08",
          "2024-01-08T02:05:56",
          "2024-01-08T02:06:05",
          "2024-01-08T02:06:08",
          "2024-01-08T02:06:44",
          "2024-01-08T02:06:44",
          "2024-01-08T02:06:47",
          "2024-01-08T02:07:02",
          "2024-01-08T02:07:41",
          "2024-01-08T02:07:41",
          "2024-01-08T02:07:42",
          "2024-01-08T02:08:07",
          "2024-01-08T02:08:16",
          "2024-01-08T02:08:31",
          "2024-01-08T02:08:47",
          "2024-01-08T02:09:15",
          "2024-01-08T02:10:11",
          "2024-01-08T02:10:57",
          "2024-01-08T02:10:57",
          "2024-01-08T02:11:03",
          "2024-01-08T02:11:11",
          "2024-01-08T02:11:43",
          "2024-01-08T02:11:45",
          "2024-01-08T02:13:35",
          "2024-01-08T02:13:37",
          "2024-01-08T02:14:47",
          "2024-01-08T02:15:19",
          "2024-01-08T02:15:42",
          "2024-01-08T02:16:48",
          "2024-01-08T02:20:03",
          "2024-01-08T02:21:09",
          "2024-01-08T02:23:08",
          "2024-01-08T02:44:53",
          "2024-01-08T02:47:08"
         ],
         "yaxis": "y"
        },
        {
         "customdata": [
          [
           "Geoffrey Mutai"
          ],
          [
           "Robert Kiprono Cheruiyot"
          ],
          [
           "Robert Kipkoech Cheruiyot"
          ],
          [
           "Cosmas Ndeti"
          ],
          [
           "Moses Tanui"
          ],
          [
           "Robert Kipkoech Cheruiyot"
          ],
          [
           "Robert de Castella"
          ],
          [
           "Ibrahim Hussein"
          ],
          [
           "Gelindo Bordin"
          ],
          [
           "Meb Keflezighi"
          ],
          [
           "Deriba Merga"
          ],
          [
           "Ibrahim Hussein"
          ],
          [
           "Alberto Salazar"
          ],
          [
           "Greg Meyer"
          ],
          [
           "Rodgers Rop"
          ],
          [
           "Abebe Mekonnen"
          ],
          [
           "Moses Tanui"
          ],
          [
           "Lelisa Desisa Benti"
          ],
          [
           "Cosmas Ndeti"
          ],
          [
           "Toshihiko Seko"
          ],
          [
           "Bill Rodgers"
          ],
          [
           "Cosmas Ndeti"
          ],
          [
           "Geoffrey Kirui"
          ],
          [
           "Lee Bong-Ju"
          ],
          [
           "Elijah Lagat"
          ],
          [
           "Joseph Chebet"
          ],
          [
           "Bill Rodgers"
          ],
          [
           "Robert Kipkoech Cheruiyot"
          ],
          [
           "Bill Rodgers"
          ],
          [
           "Lelisa Desisa Benti"
          ],
          [
           "Ron Hill"
          ],
          [
           "Geoff Smith"
          ],
          [
           "Lameck Aguta"
          ],
          [
           "Timothy Cherigat"
          ],
          [
           "Ibrahim Hussein"
          ],
          [
           "Hailu Negussie"
          ],
          [
           "Toshihiko Seko"
          ],
          [
           "Bill Rodgers"
          ],
          [
           "Wesley Korir"
          ],
          [
           "Lemi Berhanu Hayle"
          ],
          [
           "Neil Cusack"
          ],
          [
           "Yoshiaki Unetani"
          ],
          [
           "Geoff Smith"
          ],
          [
           "Robert Kipkoech Cheruiyot"
          ],
          [
           "Antti Viskari"
          ],
          [
           "Jerome Drayton"
          ],
          [
           "Olavi Suomalainen"
          ],
          [
           "Dave McKenzie"
          ],
          [
           "Yuki Kawauchi"
          ],
          [
           "Jon Anderson"
          ],
          [
           "Morio Shigematsu"
          ],
          [
           "Kenji Kimihara"
          ],
          [
           "Clarence DeMar"
          ],
          [
           "Hideo Hamamura"
          ],
          [
           "Álvaro Mejía"
          ],
          [
           "Keizo Yamada"
          ],
          [
           "Frank Zuna"
          ],
          [
           "Aurèle Vandendriessche"
          ],
          [
           "Aurèle Vandendriessche"
          ],
          [
           "John J. Kelley"
          ],
          [
           "Jack Fultz"
          ],
          [
           "Veikko Karvonen"
          ],
          [
           "Paavo Kotila"
          ],
          [
           "Michael J. Ryan"
          ],
          [
           "Clarence DeMar"
          ],
          [
           "Amby Burfoot"
          ],
          [
           "Eino Oksanen"
          ],
          [
           "Eino Oksanen"
          ],
          [
           "Clarence DeMar"
          ],
          [
           "Eino Oksanen"
          ],
          [
           "Thomas Longboat"
          ],
          [
           "James Duffy"
          ],
          [
           "Fritz Carlson"
          ],
          [
           "Suh Yun-bok"
          ],
          [
           "Johnny Miles"
          ],
          [
           "Thomas Morrissey"
          ],
          [
           "Franjo Mihalic"
          ],
          [
           "Joe Smith"
          ],
          [
           "Arthur Roth"
          ],
          [
           "Shigeki Tanaka"
          ],
          [
           "Gérard Côté"
          ],
          [
           "Gérard Côté"
          ],
          [
           "Bill Kennedy"
          ],
          [
           "Ellison Brown"
          ],
          [
           "Fred Cameron"
          ],
          [
           "Carl Linder"
          ],
          [
           "Jack Caffery"
          ],
          [
           "Stylianos Kyriakides"
          ],
          [
           "Peter Trivoulides"
          ],
          [
           "Clarence DeMar"
          ],
          [
           "Leslie S. Pawson"
          ],
          [
           "John A. Kelley"
          ],
          [
           "Leslie S. Pawson"
          ],
          [
           "Gérard Côté"
          ],
          [
           "Édouard Fabre"
          ],
          [
           "Gérard Côté"
          ],
          [
           "Gösta Leandersson"
          ],
          [
           "Doroteo Flores"
          ],
          [
           "John A. Kelley"
          ],
          [
           "Ham Kee-Yong"
          ],
          [
           "Dave Komonen"
          ],
          [
           "Charles Mellor"
          ],
          [
           "Johnny Miles"
          ],
          [
           "Walter Young"
          ],
          [
           "Paul de Bruyn"
          ],
          [
           "Ellison Brown"
          ],
          [
           "Clarence DeMar"
          ],
          [
           "Leslie S. Pawson"
          ],
          [
           "Clarence DeMar"
          ],
          [
           "Michael Spring"
          ],
          [
           "Frederick Lorz"
          ],
          [
           "Jack Caffery"
          ],
          [
           "Clarence DeMar"
          ],
          [
           "John Lorden"
          ],
          [
           "Ronald J. MacDonald"
          ],
          [
           "Sammy Mellor"
          ],
          [
           "Tim Ford"
          ],
          [
           "James Henigan"
          ],
          [
           "Henri Renaud"
          ],
          [
           "Lawrence Brignolia"
          ],
          [
           "John J. McDermott"
          ]
         ],
         "hovertemplate": "marathon=Boston<br>year=%{x}<br>time=%{y}<br>winner=%{customdata[0]}<extra></extra>",
         "legendgroup": "Boston",
         "marker": {
          "color": "#EF553B",
          "symbol": "circle"
         },
         "mode": "markers",
         "name": "Boston",
         "orientation": "h",
         "showlegend": true,
         "type": "scatter",
         "x": [
          2011,
          2010,
          2006,
          1994,
          1998,
          2008,
          1986,
          1992,
          1990,
          2014,
          2009,
          1988,
          1982,
          1983,
          2002,
          1989,
          1996,
          2015,
          1995,
          1981,
          1979,
          1993,
          2017,
          2001,
          2000,
          1999,
          1975,
          2003,
          1978,
          2013,
          1970,
          1984,
          1997,
          2004,
          1991,
          2005,
          1987,
          1980,
          2012,
          2016,
          1974,
          1969,
          1985,
          2007,
          1956,
          1977,
          1972,
          1967,
          2018,
          1973,
          1965,
          1966,
          1922,
          1955,
          1971,
          1953,
          1921,
          1963,
          1964,
          1957,
          1976,
          1954,
          1960,
          1912,
          1911,
          1968,
          1959,
          1961,
          1923,
          1962,
          1907,
          1914,
          1913,
          1947,
          1926,
          1908,
          1958,
          1942,
          1916,
          1951,
          1943,
          1940,
          1917,
          1939,
          1910,
          1919,
          1901,
          1946,
          1920,
          1924,
          1941,
          1945,
          1933,
          1948,
          1915,
          1944,
          1949,
          1952,
          1935,
          1950,
          1934,
          1925,
          1929,
          1937,
          1932,
          1936,
          1930,
          1938,
          1928,
          1904,
          1905,
          1900,
          1927,
          1903,
          1898,
          1902,
          1906,
          1931,
          1909,
          1899,
          1897
         ],
         "xaxis": "x",
         "y": [
          "2024-01-08T02:03:02",
          "2024-01-08T02:05:52",
          "2024-01-08T02:07:14",
          "2024-01-08T02:07:15",
          "2024-01-08T02:07:34",
          "2024-01-08T02:07:45",
          "2024-01-08T02:07:51",
          "2024-01-08T02:08:14",
          "2024-01-08T02:08:19",
          "2024-01-08T02:08:37",
          "2024-01-08T02:08:42",
          "2024-01-08T02:08:43",
          "2024-01-08T02:08:52",
          "2024-01-08T02:09:00",
          "2024-01-08T02:09:02",
          "2024-01-08T02:09:06",
          "2024-01-08T02:09:15",
          "2024-01-08T02:09:17",
          "2024-01-08T02:09:22",
          "2024-01-08T02:09:26",
          "2024-01-08T02:09:27",
          "2024-01-08T02:09:33",
          "2024-01-08T02:09:37",
          "2024-01-08T02:09:43",
          "2024-01-08T02:09:47",
          "2024-01-08T02:09:52",
          "2024-01-08T02:09:55",
          "2024-01-08T02:10:11",
          "2024-01-08T02:10:13",
          "2024-01-08T02:10:22",
          "2024-01-08T02:10:30",
          "2024-01-08T02:10:34",
          "2024-01-08T02:10:34",
          "2024-01-08T02:10:37",
          "2024-01-08T02:11:06",
          "2024-01-08T02:11:44",
          "2024-01-08T02:11:50",
          "2024-01-08T02:12:11",
          "2024-01-08T02:12:40",
          "2024-01-08T02:12:45",
          "2024-01-08T02:13:39",
          "2024-01-08T02:13:49",
          "2024-01-08T02:14:05",
          "2024-01-08T02:14:13",
          "2024-01-08T02:14:14",
          "2024-01-08T02:14:46",
          "2024-01-08T02:15:39",
          "2024-01-08T02:15:45",
          "2024-01-08T02:15:58",
          "2024-01-08T02:16:03",
          "2024-01-08T02:16:33",
          "2024-01-08T02:17:11",
          "2024-01-08T02:18:10",
          "2024-01-08T02:18:22",
          "2024-01-08T02:18:45",
          "2024-01-08T02:18:51",
          "2024-01-08T02:18:57",
          "2024-01-08T02:18:58",
          "2024-01-08T02:19:59",
          "2024-01-08T02:20:05",
          "2024-01-08T02:20:19",
          "2024-01-08T02:20:39",
          "2024-01-08T02:20:54",
          "2024-01-08T02:21:18",
          "2024-01-08T02:21:39",
          "2024-01-08T02:22:17",
          "2024-01-08T02:22:42",
          "2024-01-08T02:23:39",
          "2024-01-08T02:23:47",
          "2024-01-08T02:23:48",
          "2024-01-08T02:24:24",
          "2024-01-08T02:25:14",
          "2024-01-08T02:25:14",
          "2024-01-08T02:25:39",
          "2024-01-08T02:25:40",
          "2024-01-08T02:25:43",
          "2024-01-08T02:25:54",
          "2024-01-08T02:26:51",
          "2024-01-08T02:27:16",
          "2024-01-08T02:27:45",
          "2024-01-08T02:28:25",
          "2024-01-08T02:28:28",
          "2024-01-08T02:28:37",
          "2024-01-08T02:28:51",
          "2024-01-08T02:28:52",
          "2024-01-08T02:29:13",
          "2024-01-08T02:29:23",
          "2024-01-08T02:29:27",
          "2024-01-08T02:29:31",
          "2024-01-08T02:29:40",
          "2024-01-08T02:30:38",
          "2024-01-08T02:30:40",
          "2024-01-08T02:31:01",
          "2024-01-08T02:31:02",
          "2024-01-08T02:31:41",
          "2024-01-08T02:31:50",
          "2024-01-08T02:31:50",
          "2024-01-08T02:31:53",
          "2024-01-08T02:32:07",
          "2024-01-08T02:32:39",
          "2024-01-08T02:32:53",
          "2024-01-08T02:33:00",
          "2024-01-08T02:33:08",
          "2024-01-08T02:33:20",
          "2024-01-08T02:33:36",
          "2024-01-08T02:33:40",
          "2024-01-08T02:34:48",
          "2024-01-08T02:35:34",
          "2024-01-08T02:37:07",
          "2024-01-08T02:38:04",
          "2024-01-08T02:38:25",
          "2024-01-08T02:39:44",
          "2024-01-08T02:40:22",
          "2024-01-08T02:41:29",
          "2024-01-08T02:42:00",
          "2024-01-08T02:43:12",
          "2024-01-08T02:45:45",
          "2024-01-08T02:46:45",
          "2024-01-08T02:53:36",
          "2024-01-08T02:54:38",
          "2024-01-08T02:55:10"
         ],
         "yaxis": "y"
        },
        {
         "customdata": [
          [
           "Eliud Kipchoge"
          ],
          [
           "Eliud Kipchoge"
          ],
          [
           "Wilson Kipsang"
          ],
          [
           "Emmanuel Mutai"
          ],
          [
           "Eliud Kipchoge"
          ],
          [
           "Wilson Kipsang"
          ],
          [
           "Samuel Wanjiru"
          ],
          [
           "Martin Lel"
          ],
          [
           "Tsegaye Kebede"
          ],
          [
           "Khalid Khannouchi"
          ],
          [
           "Daniel Wanjiru"
          ],
          [
           "Tsegaye Kebede"
          ],
          [
           "Evans Rutto"
          ],
          [
           "António Pinto"
          ],
          [
           "Felix Limo"
          ],
          [
           "Abdelkader El Mouaziz"
          ],
          [
           "Martin Lel"
          ],
          [
           "Martin Lel"
          ],
          [
           "António Pinto"
          ],
          [
           "Gezahegne Abera"
          ],
          [
           "Abel Antón"
          ],
          [
           "Abdelkader El Mouaziz"
          ],
          [
           "Steve Jones"
          ],
          [
           "Dionicio Cerón"
          ],
          [
           "Dionicio Cerón"
          ],
          [
           "Douglas Wakiihuri"
          ],
          [
           "Yakov Tolstikov"
          ],
          [
           "Hugh Jones"
          ],
          [
           "Mike Gratton"
          ],
          [
           "Hiromi Taniguchi"
          ],
          [
           "Charlie Spedding"
          ],
          [
           "Dionicio Cerón"
          ],
          [
           "Toshihiko Seko"
          ],
          [
           "António Pinto"
          ],
          [
           "Allister Hutton"
          ],
          [
           "Henrik Jørgensen"
          ],
          [
           "Eamonn Martin"
          ],
          [
           "Dick Beardsley"
          ],
          [
           "Inge Simonsen"
          ]
         ],
         "hovertemplate": "marathon=London<br>year=%{x}<br>time=%{y}<br>winner=%{customdata[0]}<extra></extra>",
         "legendgroup": "London",
         "marker": {
          "color": "#00cc96",
          "symbol": "circle"
         },
         "mode": "markers",
         "name": "London",
         "orientation": "h",
         "showlegend": true,
         "type": "scatter",
         "x": [
          2016,
          2018,
          2014,
          2011,
          2015,
          2012,
          2009,
          2008,
          2010,
          2002,
          2017,
          2013,
          2004,
          2000,
          2006,
          2001,
          2005,
          2007,
          1997,
          2003,
          1998,
          1999,
          1985,
          1995,
          1994,
          1989,
          1991,
          1982,
          1983,
          1987,
          1984,
          1996,
          1986,
          1992,
          1990,
          1988,
          1993,
          1981,
          1981
         ],
         "xaxis": "x",
         "y": [
          "2024-01-08T02:03:05",
          "2024-01-08T02:04:17",
          "2024-01-08T02:04:29",
          "2024-01-08T02:04:40",
          "2024-01-08T02:04:42",
          "2024-01-08T02:04:44",
          "2024-01-08T02:05:10",
          "2024-01-08T02:05:15",
          "2024-01-08T02:05:19",
          "2024-01-08T02:05:38",
          "2024-01-08T02:05:48",
          "2024-01-08T02:06:04",
          "2024-01-08T02:06:18",
          "2024-01-08T02:06:36",
          "2024-01-08T02:06:39",
          "2024-01-08T02:07:09",
          "2024-01-08T02:07:35",
          "2024-01-08T02:07:41",
          "2024-01-08T02:07:55",
          "2024-01-08T02:07:56",
          "2024-01-08T02:07:57",
          "2024-01-08T02:07:57",
          "2024-01-08T02:08:16",
          "2024-01-08T02:08:30",
          "2024-01-08T02:08:53",
          "2024-01-08T02:09:03",
          "2024-01-08T02:09:17",
          "2024-01-08T02:09:24",
          "2024-01-08T02:09:43",
          "2024-01-08T02:09:50",
          "2024-01-08T02:09:57",
          "2024-01-08T02:10:00",
          "2024-01-08T02:10:02",
          "2024-01-08T02:10:02",
          "2024-01-08T02:10:10",
          "2024-01-08T02:10:20",
          "2024-01-08T02:10:50",
          "2024-01-08T02:11:48",
          "2024-01-08T02:11:48"
         ],
         "yaxis": "y"
        },
        {
         "customdata": [
          [
           "Dennis Kimetto"
          ],
          [
           "Eliud Kipchoge"
          ],
          [
           "Tsegaye Kebede"
          ],
          [
           "Moses Mosop"
          ],
          [
           "Samuel Wanjiru"
          ],
          [
           "Khalid Khannouchi"
          ],
          [
           "Evans Rutto"
          ],
          [
           "Khalid Khannouchi"
          ],
          [
           "Evans Rutto"
          ],
          [
           "Samuel Wanjiru"
          ],
          [
           "Evans Cheruiyot"
          ],
          [
           "Ondoro Osoro"
          ],
          [
           "Khalid Khannouchi"
          ],
          [
           "Felix Limo"
          ],
          [
           "Khalid Khannouchi"
          ],
          [
           "Steve Jones"
          ],
          [
           "Robert Cheruiyot"
          ],
          [
           "Steve Jones"
          ],
          [
           "Toshihiko Seko"
          ],
          [
           "Paul Evans"
          ],
          [
           "Ben Kimondiu"
          ],
          [
           "Alejandro Cruz"
          ],
          [
           "Galen Rupp"
          ],
          [
           "Dickson Chumba"
          ],
          [
           "Martín Pitayo"
          ],
          [
           "Joseph Nzau"
          ],
          [
           "Greg Meyer"
          ],
          [
           "Patrick Ivuti"
          ],
          [
           "Luíz Antônio"
          ],
          [
           "Eamonn Martin"
          ],
          [
           "Abel Kirui"
          ],
          [
           "Paul Davies-Hale"
          ],
          [
           "Luíz Antônio"
          ],
          [
           "Frank Richardson"
          ],
          [
           "Joseildo Rocha"
          ],
          [
           "Phil Coppess"
          ],
          [
           "José Cesar de Souza"
          ],
          [
           "Dan Cloeter"
          ],
          [
           "Mark Stanforth"
          ],
          [
           "Dan Cloeter"
          ]
         ],
         "hovertemplate": "marathon=Chicago<br>year=%{x}<br>time=%{y}<br>winner=%{customdata[0]}<extra></extra>",
         "legendgroup": "Chicago",
         "marker": {
          "color": "#ab63fa",
          "symbol": "circle"
         },
         "mode": "markers",
         "name": "Chicago",
         "orientation": "h",
         "showlegend": true,
         "type": "scatter",
         "x": [
          2013,
          2014,
          2012,
          2011,
          2009,
          1999,
          2003,
          2002,
          2004,
          2010,
          2008,
          1998,
          2000,
          2005,
          1997,
          1985,
          2006,
          1984,
          1986,
          1996,
          2001,
          1988,
          2017,
          2015,
          1990,
          1983,
          1982,
          2007,
          1994,
          1995,
          2016,
          1989,
          1993,
          1980,
          1991,
          1981,
          1992,
          1977,
          1978,
          1979
         ],
         "xaxis": "x",
         "y": [
          "2024-01-08T02:03:45",
          "2024-01-08T02:04:11",
          "2024-01-08T02:04:38",
          "2024-01-08T02:05:37",
          "2024-01-08T02:05:41",
          "2024-01-08T02:05:42",
          "2024-01-08T02:05:50",
          "2024-01-08T02:05:56",
          "2024-01-08T02:06:16",
          "2024-01-08T02:06:23",
          "2024-01-08T02:06:25",
          "2024-01-08T02:06:54",
          "2024-01-08T02:07:01",
          "2024-01-08T02:07:02",
          "2024-01-08T02:07:10",
          "2024-01-08T02:07:13",
          "2024-01-08T02:07:35",
          "2024-01-08T02:08:05",
          "2024-01-08T02:08:27",
          "2024-01-08T02:08:52",
          "2024-01-08T02:08:52",
          "2024-01-08T02:08:57",
          "2024-01-08T02:09:20",
          "2024-01-08T02:09:25",
          "2024-01-08T02:09:41",
          "2024-01-08T02:09:44",
          "2024-01-08T02:10:59",
          "2024-01-08T02:11:11",
          "2024-01-08T02:11:16",
          "2024-01-08T02:11:18",
          "2024-01-08T02:11:23",
          "2024-01-08T02:11:25",
          "2024-01-08T02:13:14",
          "2024-01-08T02:14:04",
          "2024-01-08T02:14:33",
          "2024-01-08T02:16:13",
          "2024-01-08T02:16:14",
          "2024-01-08T02:17:52",
          "2024-01-08T02:19:20",
          "2024-01-08T02:23:20"
         ],
         "yaxis": "y"
        },
        {
         "customdata": [
          [
           "Wilson Kipsang"
          ],
          [
           "Dickson Chumba"
          ],
          [
           "Dickson Chumba"
          ],
          [
           "Endeshaw Negesse"
          ],
          [
           "Dennis Kimetto"
          ],
          [
           "Feyisa Lilesa"
          ],
          [
           "Viktor Röthlin"
          ],
          [
           "Hailu Mekonnen"
          ],
          [
           "Michael Kipyego"
          ],
          [
           "Daniel Njenga"
          ],
          [
           "Salim Kipsang"
          ],
          [
           "Masakazu Fujiwara"
          ]
         ],
         "hovertemplate": "marathon=Tokyo<br>year=%{x}<br>time=%{y}<br>winner=%{customdata[0]}<extra></extra>",
         "legendgroup": "Tokyo",
         "marker": {
          "color": "#FFA15A",
          "symbol": "circle"
         },
         "mode": "markers",
         "name": "Tokyo",
         "orientation": "h",
         "showlegend": true,
         "type": "scatter",
         "x": [
          2017,
          2018,
          2014,
          2015,
          2013,
          2016,
          2008,
          2011,
          2012,
          2007,
          2009,
          2010
         ],
         "xaxis": "x",
         "y": [
          "2024-01-08T02:03:58",
          "2024-01-08T02:05:30",
          "2024-01-08T02:05:42",
          "2024-01-08T02:06:00",
          "2024-01-08T02:06:50",
          "2024-01-08T02:06:56",
          "2024-01-08T02:07:23",
          "2024-01-08T02:07:35",
          "2024-01-08T02:07:37",
          "2024-01-08T02:09:45",
          "2024-01-08T02:10:27",
          "2024-01-08T02:12:19"
         ],
         "yaxis": "y"
        },
        {
         "customdata": [
          [
           "Geoffrey Mutai"
          ],
          [
           "Tesfaye Jifar"
          ],
          [
           "Ghirmay Ghebreslassie"
          ],
          [
           "Juma Ikangaa"
          ],
          [
           "Rodgers Rop"
          ],
          [
           "John Kagwe"
          ],
          [
           "Alberto Salazar"
          ],
          [
           "Gebregziabher Gebremariam"
          ],
          [
           "Steve Jones"
          ],
          [
           "Geoffrey Mutai"
          ],
          [
           "Marílson Gomes dos Santos"
          ],
          [
           "John Kagwe"
          ],
          [
           "Rod Dixon"
          ],
          [
           "Martin Lel"
          ],
          [
           "Joseph Chebet"
          ],
          [
           "Meb Keflezighi"
          ],
          [
           "Salvador García"
          ],
          [
           "Hendrick Ramaala"
          ],
          [
           "Alberto Salazar"
          ],
          [
           "Willie Mtolo"
          ],
          [
           "Paul Tergat"
          ],
          [
           "Alberto Salazar"
          ],
          [
           "Giacomo Leone"
          ],
          [
           "Marílson Gomes dos Santos"
          ],
          [
           "Andrés Espinosa"
          ],
          [
           "Abdelkader El Mouaziz"
          ],
          [
           "Bill Rodgers"
          ],
          [
           "Martin Lel"
          ],
          [
           "Stanley Biwott"
          ],
          [
           "Geoffrey Kamworor"
          ],
          [
           "Wilson Kipsang"
          ],
          [
           "Germán Silva"
          ],
          [
           "Ibrahim Hussein"
          ],
          [
           "Gianni Poli"
          ],
          [
           "Germán Silva"
          ],
          [
           "Bill Rodgers"
          ],
          [
           "Orlando Pizzolato"
          ],
          [
           "Bill Rodgers"
          ],
          [
           "Bill Rodgers"
          ],
          [
           "Douglas Wakiihuri"
          ],
          [
           "Orlando Pizzolato"
          ],
          [
           "Tom Fleming"
          ],
          [
           "Tom Fleming"
          ],
          [
           "Norman Higgins"
          ],
          [
           "Norbert Sander"
          ],
          [
           "Sheldon Karlin"
          ],
          [
           "Gary Muhrcke"
          ]
         ],
         "hovertemplate": "marathon=NYC<br>year=%{x}<br>time=%{y}<br>winner=%{customdata[0]}<extra></extra>",
         "legendgroup": "NYC",
         "marker": {
          "color": "#19d3f3",
          "symbol": "circle"
         },
         "mode": "markers",
         "name": "NYC",
         "orientation": "h",
         "showlegend": true,
         "type": "scatter",
         "x": [
          2011,
          2001,
          2016,
          1989,
          2002,
          1997,
          1981,
          2010,
          1988,
          2013,
          2008,
          1998,
          1983,
          2007,
          1999,
          2009,
          1991,
          2004,
          1982,
          1992,
          2005,
          1980,
          1996,
          2006,
          1993,
          2000,
          1976,
          2003,
          2015,
          2017,
          2014,
          1995,
          1987,
          1986,
          1994,
          1977,
          1985,
          1979,
          1978,
          1990,
          1984,
          1975,
          1973,
          1971,
          1974,
          1972,
          1970
         ],
         "xaxis": "x",
         "y": [
          "2024-01-08T02:05:06",
          "2024-01-08T02:07:43",
          "2024-01-08T02:07:51",
          "2024-01-08T02:08:01",
          "2024-01-08T02:08:07",
          "2024-01-08T02:08:12",
          "2024-01-08T02:08:13",
          "2024-01-08T02:08:14",
          "2024-01-08T02:08:20",
          "2024-01-08T02:08:24",
          "2024-01-08T02:08:43",
          "2024-01-08T02:08:45",
          "2024-01-08T02:08:59",
          "2024-01-08T02:09:04",
          "2024-01-08T02:09:14",
          "2024-01-08T02:09:15",
          "2024-01-08T02:09:28",
          "2024-01-08T02:09:28",
          "2024-01-08T02:09:29",
          "2024-01-08T02:09:29",
          "2024-01-08T02:09:30",
          "2024-01-08T02:09:41",
          "2024-01-08T02:09:54",
          "2024-01-08T02:09:58",
          "2024-01-08T02:10:04",
          "2024-01-08T02:10:09",
          "2024-01-08T02:10:10",
          "2024-01-08T02:10:30",
          "2024-01-08T02:10:34",
          "2024-01-08T02:10:53",
          "2024-01-08T02:10:59",
          "2024-01-08T02:11:00",
          "2024-01-08T02:11:01",
          "2024-01-08T02:11:06",
          "2024-01-08T02:11:21",
          "2024-01-08T02:11:28",
          "2024-01-08T02:11:34",
          "2024-01-08T02:11:42",
          "2024-01-08T02:12:12",
          "2024-01-08T02:12:39",
          "2024-01-08T02:14:53",
          "2024-01-08T02:19:27",
          "2024-01-08T02:21:54",
          "2024-01-08T02:22:54",
          "2024-01-08T02:26:30",
          "2024-01-08T02:27:52",
          "2024-01-08T02:31:38"
         ],
         "yaxis": "y"
        }
       ],
       "layout": {
        "legend": {
         "title": {
          "text": "marathon"
         },
         "tracegroupgap": 0
        },
        "template": {
         "data": {
          "bar": [
           {
            "error_x": {
             "color": "#2a3f5f"
            },
            "error_y": {
             "color": "#2a3f5f"
            },
            "marker": {
             "line": {
              "color": "#E5ECF6",
              "width": 0.5
             },
             "pattern": {
              "fillmode": "overlay",
              "size": 10,
              "solidity": 0.2
             }
            },
            "type": "bar"
           }
          ],
          "barpolar": [
           {
            "marker": {
             "line": {
              "color": "#E5ECF6",
              "width": 0.5
             },
             "pattern": {
              "fillmode": "overlay",
              "size": 10,
              "solidity": 0.2
             }
            },
            "type": "barpolar"
           }
          ],
          "carpet": [
           {
            "aaxis": {
             "endlinecolor": "#2a3f5f",
             "gridcolor": "white",
             "linecolor": "white",
             "minorgridcolor": "white",
             "startlinecolor": "#2a3f5f"
            },
            "baxis": {
             "endlinecolor": "#2a3f5f",
             "gridcolor": "white",
             "linecolor": "white",
             "minorgridcolor": "white",
             "startlinecolor": "#2a3f5f"
            },
            "type": "carpet"
           }
          ],
          "choropleth": [
           {
            "colorbar": {
             "outlinewidth": 0,
             "ticks": ""
            },
            "type": "choropleth"
           }
          ],
          "contour": [
           {
            "colorbar": {
             "outlinewidth": 0,
             "ticks": ""
            },
            "colorscale": [
             [
              0,
              "#0d0887"
             ],
             [
              0.1111111111111111,
              "#46039f"
             ],
             [
              0.2222222222222222,
              "#7201a8"
             ],
             [
              0.3333333333333333,
              "#9c179e"
             ],
             [
              0.4444444444444444,
              "#bd3786"
             ],
             [
              0.5555555555555556,
              "#d8576b"
             ],
             [
              0.6666666666666666,
              "#ed7953"
             ],
             [
              0.7777777777777778,
              "#fb9f3a"
             ],
             [
              0.8888888888888888,
              "#fdca26"
             ],
             [
              1,
              "#f0f921"
             ]
            ],
            "type": "contour"
           }
          ],
          "contourcarpet": [
           {
            "colorbar": {
             "outlinewidth": 0,
             "ticks": ""
            },
            "type": "contourcarpet"
           }
          ],
          "heatmap": [
           {
            "colorbar": {
             "outlinewidth": 0,
             "ticks": ""
            },
            "colorscale": [
             [
              0,
              "#0d0887"
             ],
             [
              0.1111111111111111,
              "#46039f"
             ],
             [
              0.2222222222222222,
              "#7201a8"
             ],
             [
              0.3333333333333333,
              "#9c179e"
             ],
             [
              0.4444444444444444,
              "#bd3786"
             ],
             [
              0.5555555555555556,
              "#d8576b"
             ],
             [
              0.6666666666666666,
              "#ed7953"
             ],
             [
              0.7777777777777778,
              "#fb9f3a"
             ],
             [
              0.8888888888888888,
              "#fdca26"
             ],
             [
              1,
              "#f0f921"
             ]
            ],
            "type": "heatmap"
           }
          ],
          "heatmapgl": [
           {
            "colorbar": {
             "outlinewidth": 0,
             "ticks": ""
            },
            "colorscale": [
             [
              0,
              "#0d0887"
             ],
             [
              0.1111111111111111,
              "#46039f"
             ],
             [
              0.2222222222222222,
              "#7201a8"
             ],
             [
              0.3333333333333333,
              "#9c179e"
             ],
             [
              0.4444444444444444,
              "#bd3786"
             ],
             [
              0.5555555555555556,
              "#d8576b"
             ],
             [
              0.6666666666666666,
              "#ed7953"
             ],
             [
              0.7777777777777778,
              "#fb9f3a"
             ],
             [
              0.8888888888888888,
              "#fdca26"
             ],
             [
              1,
              "#f0f921"
             ]
            ],
            "type": "heatmapgl"
           }
          ],
          "histogram": [
           {
            "marker": {
             "pattern": {
              "fillmode": "overlay",
              "size": 10,
              "solidity": 0.2
             }
            },
            "type": "histogram"
           }
          ],
          "histogram2d": [
           {
            "colorbar": {
             "outlinewidth": 0,
             "ticks": ""
            },
            "colorscale": [
             [
              0,
              "#0d0887"
             ],
             [
              0.1111111111111111,
              "#46039f"
             ],
             [
              0.2222222222222222,
              "#7201a8"
             ],
             [
              0.3333333333333333,
              "#9c179e"
             ],
             [
              0.4444444444444444,
              "#bd3786"
             ],
             [
              0.5555555555555556,
              "#d8576b"
             ],
             [
              0.6666666666666666,
              "#ed7953"
             ],
             [
              0.7777777777777778,
              "#fb9f3a"
             ],
             [
              0.8888888888888888,
              "#fdca26"
             ],
             [
              1,
              "#f0f921"
             ]
            ],
            "type": "histogram2d"
           }
          ],
          "histogram2dcontour": [
           {
            "colorbar": {
             "outlinewidth": 0,
             "ticks": ""
            },
            "colorscale": [
             [
              0,
              "#0d0887"
             ],
             [
              0.1111111111111111,
              "#46039f"
             ],
             [
              0.2222222222222222,
              "#7201a8"
             ],
             [
              0.3333333333333333,
              "#9c179e"
             ],
             [
              0.4444444444444444,
              "#bd3786"
             ],
             [
              0.5555555555555556,
              "#d8576b"
             ],
             [
              0.6666666666666666,
              "#ed7953"
             ],
             [
              0.7777777777777778,
              "#fb9f3a"
             ],
             [
              0.8888888888888888,
              "#fdca26"
             ],
             [
              1,
              "#f0f921"
             ]
            ],
            "type": "histogram2dcontour"
           }
          ],
          "mesh3d": [
           {
            "colorbar": {
             "outlinewidth": 0,
             "ticks": ""
            },
            "type": "mesh3d"
           }
          ],
          "parcoords": [
           {
            "line": {
             "colorbar": {
              "outlinewidth": 0,
              "ticks": ""
             }
            },
            "type": "parcoords"
           }
          ],
          "pie": [
           {
            "automargin": true,
            "type": "pie"
           }
          ],
          "scatter": [
           {
            "fillpattern": {
             "fillmode": "overlay",
             "size": 10,
             "solidity": 0.2
            },
            "type": "scatter"
           }
          ],
          "scatter3d": [
           {
            "line": {
             "colorbar": {
              "outlinewidth": 0,
              "ticks": ""
             }
            },
            "marker": {
             "colorbar": {
              "outlinewidth": 0,
              "ticks": ""
             }
            },
            "type": "scatter3d"
           }
          ],
          "scattercarpet": [
           {
            "marker": {
             "colorbar": {
              "outlinewidth": 0,
              "ticks": ""
             }
            },
            "type": "scattercarpet"
           }
          ],
          "scattergeo": [
           {
            "marker": {
             "colorbar": {
              "outlinewidth": 0,
              "ticks": ""
             }
            },
            "type": "scattergeo"
           }
          ],
          "scattergl": [
           {
            "marker": {
             "colorbar": {
              "outlinewidth": 0,
              "ticks": ""
             }
            },
            "type": "scattergl"
           }
          ],
          "scattermapbox": [
           {
            "marker": {
             "colorbar": {
              "outlinewidth": 0,
              "ticks": ""
             }
            },
            "type": "scattermapbox"
           }
          ],
          "scatterpolar": [
           {
            "marker": {
             "colorbar": {
              "outlinewidth": 0,
              "ticks": ""
             }
            },
            "type": "scatterpolar"
           }
          ],
          "scatterpolargl": [
           {
            "marker": {
             "colorbar": {
              "outlinewidth": 0,
              "ticks": ""
             }
            },
            "type": "scatterpolargl"
           }
          ],
          "scatterternary": [
           {
            "marker": {
             "colorbar": {
              "outlinewidth": 0,
              "ticks": ""
             }
            },
            "type": "scatterternary"
           }
          ],
          "surface": [
           {
            "colorbar": {
             "outlinewidth": 0,
             "ticks": ""
            },
            "colorscale": [
             [
              0,
              "#0d0887"
             ],
             [
              0.1111111111111111,
              "#46039f"
             ],
             [
              0.2222222222222222,
              "#7201a8"
             ],
             [
              0.3333333333333333,
              "#9c179e"
             ],
             [
              0.4444444444444444,
              "#bd3786"
             ],
             [
              0.5555555555555556,
              "#d8576b"
             ],
             [
              0.6666666666666666,
              "#ed7953"
             ],
             [
              0.7777777777777778,
              "#fb9f3a"
             ],
             [
              0.8888888888888888,
              "#fdca26"
             ],
             [
              1,
              "#f0f921"
             ]
            ],
            "type": "surface"
           }
          ],
          "table": [
           {
            "cells": {
             "fill": {
              "color": "#EBF0F8"
             },
             "line": {
              "color": "white"
             }
            },
            "header": {
             "fill": {
              "color": "#C8D4E3"
             },
             "line": {
              "color": "white"
             }
            },
            "type": "table"
           }
          ]
         },
         "layout": {
          "annotationdefaults": {
           "arrowcolor": "#2a3f5f",
           "arrowhead": 0,
           "arrowwidth": 1
          },
          "autotypenumbers": "strict",
          "coloraxis": {
           "colorbar": {
            "outlinewidth": 0,
            "ticks": ""
           }
          },
          "colorscale": {
           "diverging": [
            [
             0,
             "#8e0152"
            ],
            [
             0.1,
             "#c51b7d"
            ],
            [
             0.2,
             "#de77ae"
            ],
            [
             0.3,
             "#f1b6da"
            ],
            [
             0.4,
             "#fde0ef"
            ],
            [
             0.5,
             "#f7f7f7"
            ],
            [
             0.6,
             "#e6f5d0"
            ],
            [
             0.7,
             "#b8e186"
            ],
            [
             0.8,
             "#7fbc41"
            ],
            [
             0.9,
             "#4d9221"
            ],
            [
             1,
             "#276419"
            ]
           ],
           "sequential": [
            [
             0,
             "#0d0887"
            ],
            [
             0.1111111111111111,
             "#46039f"
            ],
            [
             0.2222222222222222,
             "#7201a8"
            ],
            [
             0.3333333333333333,
             "#9c179e"
            ],
            [
             0.4444444444444444,
             "#bd3786"
            ],
            [
             0.5555555555555556,
             "#d8576b"
            ],
            [
             0.6666666666666666,
             "#ed7953"
            ],
            [
             0.7777777777777778,
             "#fb9f3a"
            ],
            [
             0.8888888888888888,
             "#fdca26"
            ],
            [
             1,
             "#f0f921"
            ]
           ],
           "sequentialminus": [
            [
             0,
             "#0d0887"
            ],
            [
             0.1111111111111111,
             "#46039f"
            ],
            [
             0.2222222222222222,
             "#7201a8"
            ],
            [
             0.3333333333333333,
             "#9c179e"
            ],
            [
             0.4444444444444444,
             "#bd3786"
            ],
            [
             0.5555555555555556,
             "#d8576b"
            ],
            [
             0.6666666666666666,
             "#ed7953"
            ],
            [
             0.7777777777777778,
             "#fb9f3a"
            ],
            [
             0.8888888888888888,
             "#fdca26"
            ],
            [
             1,
             "#f0f921"
            ]
           ]
          },
          "colorway": [
           "#636efa",
           "#EF553B",
           "#00cc96",
           "#ab63fa",
           "#FFA15A",
           "#19d3f3",
           "#FF6692",
           "#B6E880",
           "#FF97FF",
           "#FECB52"
          ],
          "font": {
           "color": "#2a3f5f"
          },
          "geo": {
           "bgcolor": "white",
           "lakecolor": "white",
           "landcolor": "#E5ECF6",
           "showlakes": true,
           "showland": true,
           "subunitcolor": "white"
          },
          "hoverlabel": {
           "align": "left"
          },
          "hovermode": "closest",
          "mapbox": {
           "style": "light"
          },
          "paper_bgcolor": "white",
          "plot_bgcolor": "#E5ECF6",
          "polar": {
           "angularaxis": {
            "gridcolor": "white",
            "linecolor": "white",
            "ticks": ""
           },
           "bgcolor": "#E5ECF6",
           "radialaxis": {
            "gridcolor": "white",
            "linecolor": "white",
            "ticks": ""
           }
          },
          "scene": {
           "xaxis": {
            "backgroundcolor": "#E5ECF6",
            "gridcolor": "white",
            "gridwidth": 2,
            "linecolor": "white",
            "showbackground": true,
            "ticks": "",
            "zerolinecolor": "white"
           },
           "yaxis": {
            "backgroundcolor": "#E5ECF6",
            "gridcolor": "white",
            "gridwidth": 2,
            "linecolor": "white",
            "showbackground": true,
            "ticks": "",
            "zerolinecolor": "white"
           },
           "zaxis": {
            "backgroundcolor": "#E5ECF6",
            "gridcolor": "white",
            "gridwidth": 2,
            "linecolor": "white",
            "showbackground": true,
            "ticks": "",
            "zerolinecolor": "white"
           }
          },
          "shapedefaults": {
           "line": {
            "color": "#2a3f5f"
           }
          },
          "ternary": {
           "aaxis": {
            "gridcolor": "white",
            "linecolor": "white",
            "ticks": ""
           },
           "baxis": {
            "gridcolor": "white",
            "linecolor": "white",
            "ticks": ""
           },
           "bgcolor": "#E5ECF6",
           "caxis": {
            "gridcolor": "white",
            "linecolor": "white",
            "ticks": ""
           }
          },
          "title": {
           "x": 0.05
          },
          "xaxis": {
           "automargin": true,
           "gridcolor": "white",
           "linecolor": "white",
           "ticks": "",
           "title": {
            "standoff": 15
           },
           "zerolinecolor": "white",
           "zerolinewidth": 2
          },
          "yaxis": {
           "automargin": true,
           "gridcolor": "white",
           "linecolor": "white",
           "ticks": "",
           "title": {
            "standoff": 15
           },
           "zerolinecolor": "white",
           "zerolinewidth": 2
          }
         }
        },
        "title": {
         "text": "Male Winners Time"
        },
        "xaxis": {
         "anchor": "y",
         "domain": [
          0,
          1
         ],
         "title": {
          "text": "year"
         }
        },
        "yaxis": {
         "anchor": "x",
         "domain": [
          0,
          1
         ],
         "title": {
          "text": "time"
         }
        }
       }
      },
      "text/html": [
       "<div>                            <div id=\"ac5fe153-9bd3-43a1-9a33-abc7ba812eb4\" class=\"plotly-graph-div\" style=\"height:525px; width:100%;\"></div>            <script type=\"text/javascript\">                require([\"plotly\"], function(Plotly) {                    window.PLOTLYENV=window.PLOTLYENV || {};                                    if (document.getElementById(\"ac5fe153-9bd3-43a1-9a33-abc7ba812eb4\")) {                    Plotly.newPlot(                        \"ac5fe153-9bd3-43a1-9a33-abc7ba812eb4\",                        [{\"customdata\":[[\"Dennis Kimetto\"],[\"Kenenisa Bekele\"],[\"Wilson Kipsang\"],[\"Eliud Kipchoge\"],[\"Patrick Musyoki\"],[\"Haile Gebrselassie\"],[\"Eliud Kipchoge\"],[\"Geoffrey Mutai\"],[\"Haile Gebrselassie\"],[\"Paul Tergat\"],[\"Patrick Musyoki\"],[\"Haile Gebrselassie\"],[\"Ronaldo da Costa\"],[\"Haile Gebrselassie\"],[\"Josephat Kiprono\"],[\"Felix Limo\"],[\"Raymond Kipkoech\"],[\"Sammy Lelei\"],[\"Elijah Lagat\"],[\"Philip Manyim\"],[\"Simon Biwott\"],[\"David Tsebe\"],[\"Steve Moneghetti\"],[\"Ant\\u00f3nio Pinto\"],[\"Joseph Ngolepus\"],[\"Abel Ant\\u00f3n\"],[\"Alfredo Shahanga\"],[\"Steve Brace\"],[\"Xolile Yawa\"],[\"Boguslaw Psujek\"],[\"Suleiman Nyambui\"],[\"Jimmy Ashworth\"],[\"Suleiman Nyambui\"],[\"John Skovbjerg\"],[\"Karel Lismont\"],[\"Domingo Tibaduiza\"],[\"G\\u00fcnter Mielke\"],[\"Ian Ray\"],[\"Ingo Sensburg\"],[\"Michael Sp\\u00f6ttel\"],[\"Ingo Sensburg\"],[\"Ingo Sensburg\"],[\"G\\u00fcnter Hallas\"],[\"Ralf Bochr\\u00f6der\"]],\"hovertemplate\":\"marathon=Berlin<br>year=%{x}<br>time=%{y}<br>winner=%{customdata[0]}<extra></extra>\",\"legendgroup\":\"Berlin\",\"marker\":{\"color\":\"#636efa\",\"symbol\":\"circle\"},\"mode\":\"markers\",\"name\":\"Berlin\",\"orientation\":\"h\",\"showlegend\":true,\"x\":[2014,2016,2013,2017,2011,2008,2015,2012,2007,2003,2010,2006,1998,2009,1999,2004,2002,1995,1997,2005,2000,1992,1990,1994,2001,1996,1989,1991,1993,1986,1987,1985,1988,1984,1983,1982,1977,1981,1980,1978,1979,1976,1974,1975],\"xaxis\":\"x\",\"y\":[\"2024-01-08T02:02:57\",\"2024-01-08T02:03:03\",\"2024-01-08T02:03:23\",\"2024-01-08T02:03:32\",\"2024-01-08T02:03:38\",\"2024-01-08T02:03:59\",\"2024-01-08T02:04:00\",\"2024-01-08T02:04:15\",\"2024-01-08T02:04:26\",\"2024-01-08T02:04:55\",\"2024-01-08T02:05:08\",\"2024-01-08T02:05:56\",\"2024-01-08T02:06:05\",\"2024-01-08T02:06:08\",\"2024-01-08T02:06:44\",\"2024-01-08T02:06:44\",\"2024-01-08T02:06:47\",\"2024-01-08T02:07:02\",\"2024-01-08T02:07:41\",\"2024-01-08T02:07:41\",\"2024-01-08T02:07:42\",\"2024-01-08T02:08:07\",\"2024-01-08T02:08:16\",\"2024-01-08T02:08:31\",\"2024-01-08T02:08:47\",\"2024-01-08T02:09:15\",\"2024-01-08T02:10:11\",\"2024-01-08T02:10:57\",\"2024-01-08T02:10:57\",\"2024-01-08T02:11:03\",\"2024-01-08T02:11:11\",\"2024-01-08T02:11:43\",\"2024-01-08T02:11:45\",\"2024-01-08T02:13:35\",\"2024-01-08T02:13:37\",\"2024-01-08T02:14:47\",\"2024-01-08T02:15:19\",\"2024-01-08T02:15:42\",\"2024-01-08T02:16:48\",\"2024-01-08T02:20:03\",\"2024-01-08T02:21:09\",\"2024-01-08T02:23:08\",\"2024-01-08T02:44:53\",\"2024-01-08T02:47:08\"],\"yaxis\":\"y\",\"type\":\"scatter\"},{\"customdata\":[[\"Geoffrey Mutai\"],[\"Robert Kiprono Cheruiyot\"],[\"Robert Kipkoech Cheruiyot\"],[\"Cosmas Ndeti\"],[\"Moses Tanui\"],[\"Robert Kipkoech Cheruiyot\"],[\"Robert de Castella\"],[\"Ibrahim Hussein\"],[\"Gelindo Bordin\"],[\"Meb Keflezighi\"],[\"Deriba Merga\"],[\"Ibrahim Hussein\"],[\"Alberto Salazar\"],[\"Greg Meyer\"],[\"Rodgers Rop\"],[\"Abebe Mekonnen\"],[\"Moses Tanui\"],[\"Lelisa Desisa Benti\"],[\"Cosmas Ndeti\"],[\"Toshihiko Seko\"],[\"Bill Rodgers\"],[\"Cosmas Ndeti\"],[\"Geoffrey Kirui\"],[\"Lee Bong-Ju\"],[\"Elijah Lagat\"],[\"Joseph Chebet\"],[\"Bill Rodgers\"],[\"Robert Kipkoech Cheruiyot\"],[\"Bill Rodgers\"],[\"Lelisa Desisa Benti\"],[\"Ron Hill\"],[\"Geoff Smith\"],[\"Lameck Aguta\"],[\"Timothy Cherigat\"],[\"Ibrahim Hussein\"],[\"Hailu Negussie\"],[\"Toshihiko Seko\"],[\"Bill Rodgers\"],[\"Wesley Korir\"],[\"Lemi Berhanu Hayle\"],[\"Neil Cusack\"],[\"Yoshiaki Unetani\"],[\"Geoff Smith\"],[\"Robert Kipkoech Cheruiyot\"],[\"Antti Viskari\"],[\"Jerome Drayton\"],[\"Olavi Suomalainen\"],[\"Dave McKenzie\"],[\"Yuki Kawauchi\"],[\"Jon Anderson\"],[\"Morio Shigematsu\"],[\"Kenji Kimihara\"],[\"Clarence DeMar\"],[\"Hideo Hamamura\"],[\"\\u00c1lvaro Mej\\u00eda\"],[\"Keizo Yamada\"],[\"Frank Zuna\"],[\"Aur\\u00e8le Vandendriessche\"],[\"Aur\\u00e8le Vandendriessche\"],[\"John J. Kelley\"],[\"Jack Fultz\"],[\"Veikko Karvonen\"],[\"Paavo Kotila\"],[\"Michael J. Ryan\"],[\"Clarence DeMar\"],[\"Amby Burfoot\"],[\"Eino Oksanen\"],[\"Eino Oksanen\"],[\"Clarence DeMar\"],[\"Eino Oksanen\"],[\"Thomas Longboat\"],[\"James Duffy\"],[\"Fritz Carlson\"],[\"Suh Yun-bok\"],[\"Johnny Miles\"],[\"Thomas Morrissey\"],[\"Franjo Mihalic\"],[\"Joe Smith\"],[\"Arthur Roth\"],[\"Shigeki Tanaka\"],[\"G\\u00e9rard C\\u00f4t\\u00e9\"],[\"G\\u00e9rard C\\u00f4t\\u00e9\"],[\"Bill Kennedy\"],[\"Ellison Brown\"],[\"Fred Cameron\"],[\"Carl Linder\"],[\"Jack Caffery\"],[\"Stylianos Kyriakides\"],[\"Peter Trivoulides\"],[\"Clarence DeMar\"],[\"Leslie S. Pawson\"],[\"John A. Kelley\"],[\"Leslie S. Pawson\"],[\"G\\u00e9rard C\\u00f4t\\u00e9\"],[\"\\u00c9douard Fabre\"],[\"G\\u00e9rard C\\u00f4t\\u00e9\"],[\"G\\u00f6sta Leandersson\"],[\"Doroteo Flores\"],[\"John A. Kelley\"],[\"Ham Kee-Yong\"],[\"Dave Komonen\"],[\"Charles Mellor\"],[\"Johnny Miles\"],[\"Walter Young\"],[\"Paul de Bruyn\"],[\"Ellison Brown\"],[\"Clarence DeMar\"],[\"Leslie S. Pawson\"],[\"Clarence DeMar\"],[\"Michael Spring\"],[\"Frederick Lorz\"],[\"Jack Caffery\"],[\"Clarence DeMar\"],[\"John Lorden\"],[\"Ronald J. MacDonald\"],[\"Sammy Mellor\"],[\"Tim Ford\"],[\"James Henigan\"],[\"Henri Renaud\"],[\"Lawrence Brignolia\"],[\"John J. McDermott\"]],\"hovertemplate\":\"marathon=Boston<br>year=%{x}<br>time=%{y}<br>winner=%{customdata[0]}<extra></extra>\",\"legendgroup\":\"Boston\",\"marker\":{\"color\":\"#EF553B\",\"symbol\":\"circle\"},\"mode\":\"markers\",\"name\":\"Boston\",\"orientation\":\"h\",\"showlegend\":true,\"x\":[2011,2010,2006,1994,1998,2008,1986,1992,1990,2014,2009,1988,1982,1983,2002,1989,1996,2015,1995,1981,1979,1993,2017,2001,2000,1999,1975,2003,1978,2013,1970,1984,1997,2004,1991,2005,1987,1980,2012,2016,1974,1969,1985,2007,1956,1977,1972,1967,2018,1973,1965,1966,1922,1955,1971,1953,1921,1963,1964,1957,1976,1954,1960,1912,1911,1968,1959,1961,1923,1962,1907,1914,1913,1947,1926,1908,1958,1942,1916,1951,1943,1940,1917,1939,1910,1919,1901,1946,1920,1924,1941,1945,1933,1948,1915,1944,1949,1952,1935,1950,1934,1925,1929,1937,1932,1936,1930,1938,1928,1904,1905,1900,1927,1903,1898,1902,1906,1931,1909,1899,1897],\"xaxis\":\"x\",\"y\":[\"2024-01-08T02:03:02\",\"2024-01-08T02:05:52\",\"2024-01-08T02:07:14\",\"2024-01-08T02:07:15\",\"2024-01-08T02:07:34\",\"2024-01-08T02:07:45\",\"2024-01-08T02:07:51\",\"2024-01-08T02:08:14\",\"2024-01-08T02:08:19\",\"2024-01-08T02:08:37\",\"2024-01-08T02:08:42\",\"2024-01-08T02:08:43\",\"2024-01-08T02:08:52\",\"2024-01-08T02:09:00\",\"2024-01-08T02:09:02\",\"2024-01-08T02:09:06\",\"2024-01-08T02:09:15\",\"2024-01-08T02:09:17\",\"2024-01-08T02:09:22\",\"2024-01-08T02:09:26\",\"2024-01-08T02:09:27\",\"2024-01-08T02:09:33\",\"2024-01-08T02:09:37\",\"2024-01-08T02:09:43\",\"2024-01-08T02:09:47\",\"2024-01-08T02:09:52\",\"2024-01-08T02:09:55\",\"2024-01-08T02:10:11\",\"2024-01-08T02:10:13\",\"2024-01-08T02:10:22\",\"2024-01-08T02:10:30\",\"2024-01-08T02:10:34\",\"2024-01-08T02:10:34\",\"2024-01-08T02:10:37\",\"2024-01-08T02:11:06\",\"2024-01-08T02:11:44\",\"2024-01-08T02:11:50\",\"2024-01-08T02:12:11\",\"2024-01-08T02:12:40\",\"2024-01-08T02:12:45\",\"2024-01-08T02:13:39\",\"2024-01-08T02:13:49\",\"2024-01-08T02:14:05\",\"2024-01-08T02:14:13\",\"2024-01-08T02:14:14\",\"2024-01-08T02:14:46\",\"2024-01-08T02:15:39\",\"2024-01-08T02:15:45\",\"2024-01-08T02:15:58\",\"2024-01-08T02:16:03\",\"2024-01-08T02:16:33\",\"2024-01-08T02:17:11\",\"2024-01-08T02:18:10\",\"2024-01-08T02:18:22\",\"2024-01-08T02:18:45\",\"2024-01-08T02:18:51\",\"2024-01-08T02:18:57\",\"2024-01-08T02:18:58\",\"2024-01-08T02:19:59\",\"2024-01-08T02:20:05\",\"2024-01-08T02:20:19\",\"2024-01-08T02:20:39\",\"2024-01-08T02:20:54\",\"2024-01-08T02:21:18\",\"2024-01-08T02:21:39\",\"2024-01-08T02:22:17\",\"2024-01-08T02:22:42\",\"2024-01-08T02:23:39\",\"2024-01-08T02:23:47\",\"2024-01-08T02:23:48\",\"2024-01-08T02:24:24\",\"2024-01-08T02:25:14\",\"2024-01-08T02:25:14\",\"2024-01-08T02:25:39\",\"2024-01-08T02:25:40\",\"2024-01-08T02:25:43\",\"2024-01-08T02:25:54\",\"2024-01-08T02:26:51\",\"2024-01-08T02:27:16\",\"2024-01-08T02:27:45\",\"2024-01-08T02:28:25\",\"2024-01-08T02:28:28\",\"2024-01-08T02:28:37\",\"2024-01-08T02:28:51\",\"2024-01-08T02:28:52\",\"2024-01-08T02:29:13\",\"2024-01-08T02:29:23\",\"2024-01-08T02:29:27\",\"2024-01-08T02:29:31\",\"2024-01-08T02:29:40\",\"2024-01-08T02:30:38\",\"2024-01-08T02:30:40\",\"2024-01-08T02:31:01\",\"2024-01-08T02:31:02\",\"2024-01-08T02:31:41\",\"2024-01-08T02:31:50\",\"2024-01-08T02:31:50\",\"2024-01-08T02:31:53\",\"2024-01-08T02:32:07\",\"2024-01-08T02:32:39\",\"2024-01-08T02:32:53\",\"2024-01-08T02:33:00\",\"2024-01-08T02:33:08\",\"2024-01-08T02:33:20\",\"2024-01-08T02:33:36\",\"2024-01-08T02:33:40\",\"2024-01-08T02:34:48\",\"2024-01-08T02:35:34\",\"2024-01-08T02:37:07\",\"2024-01-08T02:38:04\",\"2024-01-08T02:38:25\",\"2024-01-08T02:39:44\",\"2024-01-08T02:40:22\",\"2024-01-08T02:41:29\",\"2024-01-08T02:42:00\",\"2024-01-08T02:43:12\",\"2024-01-08T02:45:45\",\"2024-01-08T02:46:45\",\"2024-01-08T02:53:36\",\"2024-01-08T02:54:38\",\"2024-01-08T02:55:10\"],\"yaxis\":\"y\",\"type\":\"scatter\"},{\"customdata\":[[\"Eliud Kipchoge\"],[\"Eliud Kipchoge\"],[\"Wilson Kipsang\"],[\"Emmanuel Mutai\"],[\"Eliud Kipchoge\"],[\"Wilson Kipsang\"],[\"Samuel Wanjiru\"],[\"Martin Lel\"],[\"Tsegaye Kebede\"],[\"Khalid Khannouchi\"],[\"Daniel Wanjiru\"],[\"Tsegaye Kebede\"],[\"Evans Rutto\"],[\"Ant\\u00f3nio Pinto\"],[\"Felix Limo\"],[\"Abdelkader El Mouaziz\"],[\"Martin Lel\"],[\"Martin Lel\"],[\"Ant\\u00f3nio Pinto\"],[\"Gezahegne Abera\"],[\"Abel Ant\\u00f3n\"],[\"Abdelkader El Mouaziz\"],[\"Steve Jones\"],[\"Dionicio Cer\\u00f3n\"],[\"Dionicio Cer\\u00f3n\"],[\"Douglas Wakiihuri\"],[\"Yakov Tolstikov\"],[\"Hugh Jones\"],[\"Mike Gratton\"],[\"Hiromi Taniguchi\"],[\"Charlie Spedding\"],[\"Dionicio Cer\\u00f3n\"],[\"Toshihiko Seko\"],[\"Ant\\u00f3nio Pinto\"],[\"Allister Hutton\"],[\"Henrik J\\u00f8rgensen\"],[\"Eamonn Martin\"],[\"Dick Beardsley\"],[\"Inge Simonsen\"]],\"hovertemplate\":\"marathon=London<br>year=%{x}<br>time=%{y}<br>winner=%{customdata[0]}<extra></extra>\",\"legendgroup\":\"London\",\"marker\":{\"color\":\"#00cc96\",\"symbol\":\"circle\"},\"mode\":\"markers\",\"name\":\"London\",\"orientation\":\"h\",\"showlegend\":true,\"x\":[2016,2018,2014,2011,2015,2012,2009,2008,2010,2002,2017,2013,2004,2000,2006,2001,2005,2007,1997,2003,1998,1999,1985,1995,1994,1989,1991,1982,1983,1987,1984,1996,1986,1992,1990,1988,1993,1981,1981],\"xaxis\":\"x\",\"y\":[\"2024-01-08T02:03:05\",\"2024-01-08T02:04:17\",\"2024-01-08T02:04:29\",\"2024-01-08T02:04:40\",\"2024-01-08T02:04:42\",\"2024-01-08T02:04:44\",\"2024-01-08T02:05:10\",\"2024-01-08T02:05:15\",\"2024-01-08T02:05:19\",\"2024-01-08T02:05:38\",\"2024-01-08T02:05:48\",\"2024-01-08T02:06:04\",\"2024-01-08T02:06:18\",\"2024-01-08T02:06:36\",\"2024-01-08T02:06:39\",\"2024-01-08T02:07:09\",\"2024-01-08T02:07:35\",\"2024-01-08T02:07:41\",\"2024-01-08T02:07:55\",\"2024-01-08T02:07:56\",\"2024-01-08T02:07:57\",\"2024-01-08T02:07:57\",\"2024-01-08T02:08:16\",\"2024-01-08T02:08:30\",\"2024-01-08T02:08:53\",\"2024-01-08T02:09:03\",\"2024-01-08T02:09:17\",\"2024-01-08T02:09:24\",\"2024-01-08T02:09:43\",\"2024-01-08T02:09:50\",\"2024-01-08T02:09:57\",\"2024-01-08T02:10:00\",\"2024-01-08T02:10:02\",\"2024-01-08T02:10:02\",\"2024-01-08T02:10:10\",\"2024-01-08T02:10:20\",\"2024-01-08T02:10:50\",\"2024-01-08T02:11:48\",\"2024-01-08T02:11:48\"],\"yaxis\":\"y\",\"type\":\"scatter\"},{\"customdata\":[[\"Dennis Kimetto\"],[\"Eliud Kipchoge\"],[\"Tsegaye Kebede\"],[\"Moses Mosop\"],[\"Samuel Wanjiru\"],[\"Khalid Khannouchi\"],[\"Evans Rutto\"],[\"Khalid Khannouchi\"],[\"Evans Rutto\"],[\"Samuel Wanjiru\"],[\"Evans Cheruiyot\"],[\"Ondoro Osoro\"],[\"Khalid Khannouchi\"],[\"Felix Limo\"],[\"Khalid Khannouchi\"],[\"Steve Jones\"],[\"Robert Cheruiyot\"],[\"Steve Jones\"],[\"Toshihiko Seko\"],[\"Paul Evans\"],[\"Ben Kimondiu\"],[\"Alejandro Cruz\"],[\"Galen Rupp\"],[\"Dickson Chumba\"],[\"Mart\\u00edn Pitayo\"],[\"Joseph Nzau\"],[\"Greg Meyer\"],[\"Patrick Ivuti\"],[\"Lu\\u00edz Ant\\u00f4nio\"],[\"Eamonn Martin\"],[\"Abel Kirui\"],[\"Paul Davies-Hale\"],[\"Lu\\u00edz Ant\\u00f4nio\"],[\"Frank Richardson\"],[\"Joseildo Rocha\"],[\"Phil Coppess\"],[\"Jos\\u00e9 Cesar de Souza\"],[\"Dan Cloeter\"],[\"Mark Stanforth\"],[\"Dan Cloeter\"]],\"hovertemplate\":\"marathon=Chicago<br>year=%{x}<br>time=%{y}<br>winner=%{customdata[0]}<extra></extra>\",\"legendgroup\":\"Chicago\",\"marker\":{\"color\":\"#ab63fa\",\"symbol\":\"circle\"},\"mode\":\"markers\",\"name\":\"Chicago\",\"orientation\":\"h\",\"showlegend\":true,\"x\":[2013,2014,2012,2011,2009,1999,2003,2002,2004,2010,2008,1998,2000,2005,1997,1985,2006,1984,1986,1996,2001,1988,2017,2015,1990,1983,1982,2007,1994,1995,2016,1989,1993,1980,1991,1981,1992,1977,1978,1979],\"xaxis\":\"x\",\"y\":[\"2024-01-08T02:03:45\",\"2024-01-08T02:04:11\",\"2024-01-08T02:04:38\",\"2024-01-08T02:05:37\",\"2024-01-08T02:05:41\",\"2024-01-08T02:05:42\",\"2024-01-08T02:05:50\",\"2024-01-08T02:05:56\",\"2024-01-08T02:06:16\",\"2024-01-08T02:06:23\",\"2024-01-08T02:06:25\",\"2024-01-08T02:06:54\",\"2024-01-08T02:07:01\",\"2024-01-08T02:07:02\",\"2024-01-08T02:07:10\",\"2024-01-08T02:07:13\",\"2024-01-08T02:07:35\",\"2024-01-08T02:08:05\",\"2024-01-08T02:08:27\",\"2024-01-08T02:08:52\",\"2024-01-08T02:08:52\",\"2024-01-08T02:08:57\",\"2024-01-08T02:09:20\",\"2024-01-08T02:09:25\",\"2024-01-08T02:09:41\",\"2024-01-08T02:09:44\",\"2024-01-08T02:10:59\",\"2024-01-08T02:11:11\",\"2024-01-08T02:11:16\",\"2024-01-08T02:11:18\",\"2024-01-08T02:11:23\",\"2024-01-08T02:11:25\",\"2024-01-08T02:13:14\",\"2024-01-08T02:14:04\",\"2024-01-08T02:14:33\",\"2024-01-08T02:16:13\",\"2024-01-08T02:16:14\",\"2024-01-08T02:17:52\",\"2024-01-08T02:19:20\",\"2024-01-08T02:23:20\"],\"yaxis\":\"y\",\"type\":\"scatter\"},{\"customdata\":[[\"Wilson Kipsang\"],[\"Dickson Chumba\"],[\"Dickson Chumba\"],[\"Endeshaw Negesse\"],[\"Dennis Kimetto\"],[\"Feyisa Lilesa\"],[\"Viktor R\\u00f6thlin\"],[\"Hailu Mekonnen\"],[\"Michael Kipyego\"],[\"Daniel Njenga\"],[\"Salim Kipsang\"],[\"Masakazu Fujiwara\"]],\"hovertemplate\":\"marathon=Tokyo<br>year=%{x}<br>time=%{y}<br>winner=%{customdata[0]}<extra></extra>\",\"legendgroup\":\"Tokyo\",\"marker\":{\"color\":\"#FFA15A\",\"symbol\":\"circle\"},\"mode\":\"markers\",\"name\":\"Tokyo\",\"orientation\":\"h\",\"showlegend\":true,\"x\":[2017,2018,2014,2015,2013,2016,2008,2011,2012,2007,2009,2010],\"xaxis\":\"x\",\"y\":[\"2024-01-08T02:03:58\",\"2024-01-08T02:05:30\",\"2024-01-08T02:05:42\",\"2024-01-08T02:06:00\",\"2024-01-08T02:06:50\",\"2024-01-08T02:06:56\",\"2024-01-08T02:07:23\",\"2024-01-08T02:07:35\",\"2024-01-08T02:07:37\",\"2024-01-08T02:09:45\",\"2024-01-08T02:10:27\",\"2024-01-08T02:12:19\"],\"yaxis\":\"y\",\"type\":\"scatter\"},{\"customdata\":[[\"Geoffrey Mutai\"],[\"Tesfaye Jifar\"],[\"Ghirmay Ghebreslassie\"],[\"Juma Ikangaa\"],[\"Rodgers Rop\"],[\"John Kagwe\"],[\"Alberto Salazar\"],[\"Gebregziabher Gebremariam\"],[\"Steve Jones\"],[\"Geoffrey Mutai\"],[\"Mar\\u00edlson Gomes dos Santos\"],[\"John Kagwe\"],[\"Rod Dixon\"],[\"Martin Lel\"],[\"Joseph Chebet\"],[\"Meb Keflezighi\"],[\"Salvador Garc\\u00eda\"],[\"Hendrick Ramaala\"],[\"Alberto Salazar\"],[\"Willie Mtolo\"],[\"Paul Tergat\"],[\"Alberto Salazar\"],[\"Giacomo Leone\"],[\"Mar\\u00edlson Gomes dos Santos\"],[\"Andr\\u00e9s Espinosa\"],[\"Abdelkader El Mouaziz\"],[\"Bill Rodgers\"],[\"Martin Lel\"],[\"Stanley Biwott\"],[\"Geoffrey Kamworor\"],[\"Wilson Kipsang\"],[\"Germ\\u00e1n Silva\"],[\"Ibrahim Hussein\"],[\"Gianni Poli\"],[\"Germ\\u00e1n Silva\"],[\"Bill Rodgers\"],[\"Orlando Pizzolato\"],[\"Bill Rodgers\"],[\"Bill Rodgers\"],[\"Douglas Wakiihuri\"],[\"Orlando Pizzolato\"],[\"Tom Fleming\"],[\"Tom Fleming\"],[\"Norman Higgins\"],[\"Norbert Sander\"],[\"Sheldon Karlin\"],[\"Gary Muhrcke\"]],\"hovertemplate\":\"marathon=NYC<br>year=%{x}<br>time=%{y}<br>winner=%{customdata[0]}<extra></extra>\",\"legendgroup\":\"NYC\",\"marker\":{\"color\":\"#19d3f3\",\"symbol\":\"circle\"},\"mode\":\"markers\",\"name\":\"NYC\",\"orientation\":\"h\",\"showlegend\":true,\"x\":[2011,2001,2016,1989,2002,1997,1981,2010,1988,2013,2008,1998,1983,2007,1999,2009,1991,2004,1982,1992,2005,1980,1996,2006,1993,2000,1976,2003,2015,2017,2014,1995,1987,1986,1994,1977,1985,1979,1978,1990,1984,1975,1973,1971,1974,1972,1970],\"xaxis\":\"x\",\"y\":[\"2024-01-08T02:05:06\",\"2024-01-08T02:07:43\",\"2024-01-08T02:07:51\",\"2024-01-08T02:08:01\",\"2024-01-08T02:08:07\",\"2024-01-08T02:08:12\",\"2024-01-08T02:08:13\",\"2024-01-08T02:08:14\",\"2024-01-08T02:08:20\",\"2024-01-08T02:08:24\",\"2024-01-08T02:08:43\",\"2024-01-08T02:08:45\",\"2024-01-08T02:08:59\",\"2024-01-08T02:09:04\",\"2024-01-08T02:09:14\",\"2024-01-08T02:09:15\",\"2024-01-08T02:09:28\",\"2024-01-08T02:09:28\",\"2024-01-08T02:09:29\",\"2024-01-08T02:09:29\",\"2024-01-08T02:09:30\",\"2024-01-08T02:09:41\",\"2024-01-08T02:09:54\",\"2024-01-08T02:09:58\",\"2024-01-08T02:10:04\",\"2024-01-08T02:10:09\",\"2024-01-08T02:10:10\",\"2024-01-08T02:10:30\",\"2024-01-08T02:10:34\",\"2024-01-08T02:10:53\",\"2024-01-08T02:10:59\",\"2024-01-08T02:11:00\",\"2024-01-08T02:11:01\",\"2024-01-08T02:11:06\",\"2024-01-08T02:11:21\",\"2024-01-08T02:11:28\",\"2024-01-08T02:11:34\",\"2024-01-08T02:11:42\",\"2024-01-08T02:12:12\",\"2024-01-08T02:12:39\",\"2024-01-08T02:14:53\",\"2024-01-08T02:19:27\",\"2024-01-08T02:21:54\",\"2024-01-08T02:22:54\",\"2024-01-08T02:26:30\",\"2024-01-08T02:27:52\",\"2024-01-08T02:31:38\"],\"yaxis\":\"y\",\"type\":\"scatter\"}],                        {\"template\":{\"data\":{\"histogram2dcontour\":[{\"type\":\"histogram2dcontour\",\"colorbar\":{\"outlinewidth\":0,\"ticks\":\"\"},\"colorscale\":[[0.0,\"#0d0887\"],[0.1111111111111111,\"#46039f\"],[0.2222222222222222,\"#7201a8\"],[0.3333333333333333,\"#9c179e\"],[0.4444444444444444,\"#bd3786\"],[0.5555555555555556,\"#d8576b\"],[0.6666666666666666,\"#ed7953\"],[0.7777777777777778,\"#fb9f3a\"],[0.8888888888888888,\"#fdca26\"],[1.0,\"#f0f921\"]]}],\"choropleth\":[{\"type\":\"choropleth\",\"colorbar\":{\"outlinewidth\":0,\"ticks\":\"\"}}],\"histogram2d\":[{\"type\":\"histogram2d\",\"colorbar\":{\"outlinewidth\":0,\"ticks\":\"\"},\"colorscale\":[[0.0,\"#0d0887\"],[0.1111111111111111,\"#46039f\"],[0.2222222222222222,\"#7201a8\"],[0.3333333333333333,\"#9c179e\"],[0.4444444444444444,\"#bd3786\"],[0.5555555555555556,\"#d8576b\"],[0.6666666666666666,\"#ed7953\"],[0.7777777777777778,\"#fb9f3a\"],[0.8888888888888888,\"#fdca26\"],[1.0,\"#f0f921\"]]}],\"heatmap\":[{\"type\":\"heatmap\",\"colorbar\":{\"outlinewidth\":0,\"ticks\":\"\"},\"colorscale\":[[0.0,\"#0d0887\"],[0.1111111111111111,\"#46039f\"],[0.2222222222222222,\"#7201a8\"],[0.3333333333333333,\"#9c179e\"],[0.4444444444444444,\"#bd3786\"],[0.5555555555555556,\"#d8576b\"],[0.6666666666666666,\"#ed7953\"],[0.7777777777777778,\"#fb9f3a\"],[0.8888888888888888,\"#fdca26\"],[1.0,\"#f0f921\"]]}],\"heatmapgl\":[{\"type\":\"heatmapgl\",\"colorbar\":{\"outlinewidth\":0,\"ticks\":\"\"},\"colorscale\":[[0.0,\"#0d0887\"],[0.1111111111111111,\"#46039f\"],[0.2222222222222222,\"#7201a8\"],[0.3333333333333333,\"#9c179e\"],[0.4444444444444444,\"#bd3786\"],[0.5555555555555556,\"#d8576b\"],[0.6666666666666666,\"#ed7953\"],[0.7777777777777778,\"#fb9f3a\"],[0.8888888888888888,\"#fdca26\"],[1.0,\"#f0f921\"]]}],\"contourcarpet\":[{\"type\":\"contourcarpet\",\"colorbar\":{\"outlinewidth\":0,\"ticks\":\"\"}}],\"contour\":[{\"type\":\"contour\",\"colorbar\":{\"outlinewidth\":0,\"ticks\":\"\"},\"colorscale\":[[0.0,\"#0d0887\"],[0.1111111111111111,\"#46039f\"],[0.2222222222222222,\"#7201a8\"],[0.3333333333333333,\"#9c179e\"],[0.4444444444444444,\"#bd3786\"],[0.5555555555555556,\"#d8576b\"],[0.6666666666666666,\"#ed7953\"],[0.7777777777777778,\"#fb9f3a\"],[0.8888888888888888,\"#fdca26\"],[1.0,\"#f0f921\"]]}],\"surface\":[{\"type\":\"surface\",\"colorbar\":{\"outlinewidth\":0,\"ticks\":\"\"},\"colorscale\":[[0.0,\"#0d0887\"],[0.1111111111111111,\"#46039f\"],[0.2222222222222222,\"#7201a8\"],[0.3333333333333333,\"#9c179e\"],[0.4444444444444444,\"#bd3786\"],[0.5555555555555556,\"#d8576b\"],[0.6666666666666666,\"#ed7953\"],[0.7777777777777778,\"#fb9f3a\"],[0.8888888888888888,\"#fdca26\"],[1.0,\"#f0f921\"]]}],\"mesh3d\":[{\"type\":\"mesh3d\",\"colorbar\":{\"outlinewidth\":0,\"ticks\":\"\"}}],\"scatter\":[{\"fillpattern\":{\"fillmode\":\"overlay\",\"size\":10,\"solidity\":0.2},\"type\":\"scatter\"}],\"parcoords\":[{\"type\":\"parcoords\",\"line\":{\"colorbar\":{\"outlinewidth\":0,\"ticks\":\"\"}}}],\"scatterpolargl\":[{\"type\":\"scatterpolargl\",\"marker\":{\"colorbar\":{\"outlinewidth\":0,\"ticks\":\"\"}}}],\"bar\":[{\"error_x\":{\"color\":\"#2a3f5f\"},\"error_y\":{\"color\":\"#2a3f5f\"},\"marker\":{\"line\":{\"color\":\"#E5ECF6\",\"width\":0.5},\"pattern\":{\"fillmode\":\"overlay\",\"size\":10,\"solidity\":0.2}},\"type\":\"bar\"}],\"scattergeo\":[{\"type\":\"scattergeo\",\"marker\":{\"colorbar\":{\"outlinewidth\":0,\"ticks\":\"\"}}}],\"scatterpolar\":[{\"type\":\"scatterpolar\",\"marker\":{\"colorbar\":{\"outlinewidth\":0,\"ticks\":\"\"}}}],\"histogram\":[{\"marker\":{\"pattern\":{\"fillmode\":\"overlay\",\"size\":10,\"solidity\":0.2}},\"type\":\"histogram\"}],\"scattergl\":[{\"type\":\"scattergl\",\"marker\":{\"colorbar\":{\"outlinewidth\":0,\"ticks\":\"\"}}}],\"scatter3d\":[{\"type\":\"scatter3d\",\"line\":{\"colorbar\":{\"outlinewidth\":0,\"ticks\":\"\"}},\"marker\":{\"colorbar\":{\"outlinewidth\":0,\"ticks\":\"\"}}}],\"scattermapbox\":[{\"type\":\"scattermapbox\",\"marker\":{\"colorbar\":{\"outlinewidth\":0,\"ticks\":\"\"}}}],\"scatterternary\":[{\"type\":\"scatterternary\",\"marker\":{\"colorbar\":{\"outlinewidth\":0,\"ticks\":\"\"}}}],\"scattercarpet\":[{\"type\":\"scattercarpet\",\"marker\":{\"colorbar\":{\"outlinewidth\":0,\"ticks\":\"\"}}}],\"carpet\":[{\"aaxis\":{\"endlinecolor\":\"#2a3f5f\",\"gridcolor\":\"white\",\"linecolor\":\"white\",\"minorgridcolor\":\"white\",\"startlinecolor\":\"#2a3f5f\"},\"baxis\":{\"endlinecolor\":\"#2a3f5f\",\"gridcolor\":\"white\",\"linecolor\":\"white\",\"minorgridcolor\":\"white\",\"startlinecolor\":\"#2a3f5f\"},\"type\":\"carpet\"}],\"table\":[{\"cells\":{\"fill\":{\"color\":\"#EBF0F8\"},\"line\":{\"color\":\"white\"}},\"header\":{\"fill\":{\"color\":\"#C8D4E3\"},\"line\":{\"color\":\"white\"}},\"type\":\"table\"}],\"barpolar\":[{\"marker\":{\"line\":{\"color\":\"#E5ECF6\",\"width\":0.5},\"pattern\":{\"fillmode\":\"overlay\",\"size\":10,\"solidity\":0.2}},\"type\":\"barpolar\"}],\"pie\":[{\"automargin\":true,\"type\":\"pie\"}]},\"layout\":{\"autotypenumbers\":\"strict\",\"colorway\":[\"#636efa\",\"#EF553B\",\"#00cc96\",\"#ab63fa\",\"#FFA15A\",\"#19d3f3\",\"#FF6692\",\"#B6E880\",\"#FF97FF\",\"#FECB52\"],\"font\":{\"color\":\"#2a3f5f\"},\"hovermode\":\"closest\",\"hoverlabel\":{\"align\":\"left\"},\"paper_bgcolor\":\"white\",\"plot_bgcolor\":\"#E5ECF6\",\"polar\":{\"bgcolor\":\"#E5ECF6\",\"angularaxis\":{\"gridcolor\":\"white\",\"linecolor\":\"white\",\"ticks\":\"\"},\"radialaxis\":{\"gridcolor\":\"white\",\"linecolor\":\"white\",\"ticks\":\"\"}},\"ternary\":{\"bgcolor\":\"#E5ECF6\",\"aaxis\":{\"gridcolor\":\"white\",\"linecolor\":\"white\",\"ticks\":\"\"},\"baxis\":{\"gridcolor\":\"white\",\"linecolor\":\"white\",\"ticks\":\"\"},\"caxis\":{\"gridcolor\":\"white\",\"linecolor\":\"white\",\"ticks\":\"\"}},\"coloraxis\":{\"colorbar\":{\"outlinewidth\":0,\"ticks\":\"\"}},\"colorscale\":{\"sequential\":[[0.0,\"#0d0887\"],[0.1111111111111111,\"#46039f\"],[0.2222222222222222,\"#7201a8\"],[0.3333333333333333,\"#9c179e\"],[0.4444444444444444,\"#bd3786\"],[0.5555555555555556,\"#d8576b\"],[0.6666666666666666,\"#ed7953\"],[0.7777777777777778,\"#fb9f3a\"],[0.8888888888888888,\"#fdca26\"],[1.0,\"#f0f921\"]],\"sequentialminus\":[[0.0,\"#0d0887\"],[0.1111111111111111,\"#46039f\"],[0.2222222222222222,\"#7201a8\"],[0.3333333333333333,\"#9c179e\"],[0.4444444444444444,\"#bd3786\"],[0.5555555555555556,\"#d8576b\"],[0.6666666666666666,\"#ed7953\"],[0.7777777777777778,\"#fb9f3a\"],[0.8888888888888888,\"#fdca26\"],[1.0,\"#f0f921\"]],\"diverging\":[[0,\"#8e0152\"],[0.1,\"#c51b7d\"],[0.2,\"#de77ae\"],[0.3,\"#f1b6da\"],[0.4,\"#fde0ef\"],[0.5,\"#f7f7f7\"],[0.6,\"#e6f5d0\"],[0.7,\"#b8e186\"],[0.8,\"#7fbc41\"],[0.9,\"#4d9221\"],[1,\"#276419\"]]},\"xaxis\":{\"gridcolor\":\"white\",\"linecolor\":\"white\",\"ticks\":\"\",\"title\":{\"standoff\":15},\"zerolinecolor\":\"white\",\"automargin\":true,\"zerolinewidth\":2},\"yaxis\":{\"gridcolor\":\"white\",\"linecolor\":\"white\",\"ticks\":\"\",\"title\":{\"standoff\":15},\"zerolinecolor\":\"white\",\"automargin\":true,\"zerolinewidth\":2},\"scene\":{\"xaxis\":{\"backgroundcolor\":\"#E5ECF6\",\"gridcolor\":\"white\",\"linecolor\":\"white\",\"showbackground\":true,\"ticks\":\"\",\"zerolinecolor\":\"white\",\"gridwidth\":2},\"yaxis\":{\"backgroundcolor\":\"#E5ECF6\",\"gridcolor\":\"white\",\"linecolor\":\"white\",\"showbackground\":true,\"ticks\":\"\",\"zerolinecolor\":\"white\",\"gridwidth\":2},\"zaxis\":{\"backgroundcolor\":\"#E5ECF6\",\"gridcolor\":\"white\",\"linecolor\":\"white\",\"showbackground\":true,\"ticks\":\"\",\"zerolinecolor\":\"white\",\"gridwidth\":2}},\"shapedefaults\":{\"line\":{\"color\":\"#2a3f5f\"}},\"annotationdefaults\":{\"arrowcolor\":\"#2a3f5f\",\"arrowhead\":0,\"arrowwidth\":1},\"geo\":{\"bgcolor\":\"white\",\"landcolor\":\"#E5ECF6\",\"subunitcolor\":\"white\",\"showland\":true,\"showlakes\":true,\"lakecolor\":\"white\"},\"title\":{\"x\":0.05},\"mapbox\":{\"style\":\"light\"}}},\"xaxis\":{\"anchor\":\"y\",\"domain\":[0.0,1.0],\"title\":{\"text\":\"year\"}},\"yaxis\":{\"anchor\":\"x\",\"domain\":[0.0,1.0],\"title\":{\"text\":\"time\"}},\"legend\":{\"title\":{\"text\":\"marathon\"},\"tracegroupgap\":0},\"title\":{\"text\":\"Male Winners Time\"}},                        {\"responsive\": true}                    ).then(function(){\n",
       "                            \n",
       "var gd = document.getElementById('ac5fe153-9bd3-43a1-9a33-abc7ba812eb4');\n",
       "var x = new MutationObserver(function (mutations, observer) {{\n",
       "        var display = window.getComputedStyle(gd).display;\n",
       "        if (!display || display === 'none') {{\n",
       "            console.log([gd, 'removed!']);\n",
       "            Plotly.purge(gd);\n",
       "            observer.disconnect();\n",
       "        }}\n",
       "}});\n",
       "\n",
       "// Listen for the removal of the full notebook cells\n",
       "var notebookContainer = gd.closest('#notebook-container');\n",
       "if (notebookContainer) {{\n",
       "    x.observe(notebookContainer, {childList: true});\n",
       "}}\n",
       "\n",
       "// Listen for the clearing of the current output cell\n",
       "var outputEl = gd.closest('.output');\n",
       "if (outputEl) {{\n",
       "    x.observe(outputEl, {childList: true});\n",
       "}}\n",
       "\n",
       "                        })                };                });            </script>        </div>"
      ]
     },
     "metadata": {},
     "output_type": "display_data"
    }
   ],
   "source": [
    "px.scatter(data_frame=male_won.sort_values('time'), \n",
    "y='time', x='year', color='marathon', \n",
    "hover_data=['winner'],title=\"Male Winners Time\")"
   ]
  },
  {
   "cell_type": "markdown",
   "id": "547b8f53",
   "metadata": {},
   "source": [
    "## Female Winners"
   ]
  },
  {
   "cell_type": "code",
   "execution_count": 82,
   "id": "f65347f9",
   "metadata": {},
   "outputs": [
    {
     "data": {
      "image/png": "[encoded data removed]",
      "text/plain": [
       "<Figure size 1000x600 with 1 Axes>"
      ]
     },
     "metadata": {},
     "output_type": "display_data"
    }
   ],
   "source": [
    "df['time'] = pd.to_datetime(df['time'], format='%H:%M:%S')\n",
    "\n",
    "# Filter only male winners\n",
    "female_won = df[df['gender'] == 'Female']\n",
    "\n",
    "# Sort by marathon time\n",
    "female_top_10 = female_won.sort_values(by='time').head(10)\n",
    "\n",
    "# Plot a bar chart\n",
    "plt.figure(figsize=(10, 6))\n",
    "plt.bar(female_top_10['winner'], female_top_10['time'])\n",
    "plt.xlabel('winner')\n",
    "plt.ylabel('time')\n",
    "plt.title('Top 10 Female Marathon Winners')\n",
    "plt.xticks(rotation=45, ha='right')  # Rotate x-axis labels for better visibility\n",
    "plt.show()"
   ]
  },
  {
   "cell_type": "code",
   "execution_count": 57,
   "id": "8233578b",
   "metadata": {},
   "outputs": [
    {
     "data": {
      "application/vnd.plotly.v1+json": {
       "config": {
        "plotlyServerURL": "https://plot.ly"
       },
       "data": [
        {
         "customdata": [
          [
           "Birhane Dibaba"
          ],
          [
           "Sarah Chepchirchir"
          ],
          [
           "Helah Kiprop"
          ],
          [
           "Birhane Dibaba"
          ],
          [
           "Tirfi Tsegaye"
          ],
          [
           "Aberu Kebede"
          ],
          [
           "Atsede Habtamu"
          ],
          [
           "Noriko Higuchi"
          ],
          [
           "Alevtina Biktimirova"
          ],
          [
           "Mizuho Nasukawa"
          ],
          [
           "Claudia Dreher"
          ],
          [
           "Hitomi Niiya"
          ]
         ],
         "hovertemplate": "marathon=Tokyo<br>year=%{x}<br>time=%{y}<br>winner=%{customdata[0]}<extra></extra>",
         "legendgroup": "Tokyo",
         "marker": {
          "color": "#636efa",
          "symbol": "circle"
         },
         "mode": "markers",
         "name": "Tokyo",
         "orientation": "h",
         "showlegend": true,
         "type": "scatter",
         "x": [
          2018,
          2017,
          2016,
          2015,
          2014,
          2013,
          2012,
          2011,
          2010,
          2009,
          2008,
          2007
         ],
         "xaxis": "x",
         "y": [
          "2024-01-08T02:19:51",
          "2024-01-08T02:19:47",
          "2024-01-08T02:21:27",
          "2024-01-08T02:23:15",
          "2024-01-08T02:22:23",
          "2024-01-08T02:25:34",
          "2024-01-08T02:25:28",
          "2024-01-08T02:28:49",
          "2024-01-08T02:34:39",
          "2024-01-08T02:25:38",
          "2024-01-08T02:35:35",
          "2024-01-08T02:31:02"
         ],
         "yaxis": "y"
        },
        {
         "customdata": [
          [
           "Gladys Cherono"
          ],
          [
           "Aberu Kebede"
          ],
          [
           "Gladys Cherono"
          ],
          [
           "Tirfi Tsegaye"
          ],
          [
           "Florence Kiplagat"
          ],
          [
           "Aberu Kebede"
          ],
          [
           "Florence Kiplagat"
          ],
          [
           "Aberu Kebede"
          ],
          [
           "Atsede Habtamu"
          ],
          [
           "Irina Mikitenko"
          ],
          [
           "Gete Wami"
          ],
          [
           "Gete Wami"
          ],
          [
           "Noguchi"
          ],
          [
           "Yoko Shibui"
          ],
          [
           "Yasuko Hashimoto"
          ],
          [
           "Naoko Takahashi"
          ],
          [
           "Naoko Takahashi"
          ],
          [
           "Kazumi Matsuo"
          ],
          [
           "Tegla Loroupe"
          ],
          [
           "Marleen Renders"
          ],
          [
           "Catherina McKiernan"
          ],
          [
           "Colleen De Reuck"
          ],
          [
           "Uta Pippig"
          ],
          [
           "Katrin Dörre-Heinig"
          ],
          [
           "Renata Kokowska"
          ],
          [
           "Uta Pippig"
          ],
          [
           "Renata Kokowska"
          ],
          [
           "Uta Pippig"
          ],
          [
           "Päivi Tikkanen"
          ],
          [
           "Renata Kokowska"
          ],
          [
           "Kerstin Preßler"
          ],
          [
           "Charlotte Teske"
          ],
          [
           "Magda Ilands"
          ],
          [
           "Ágnes Sipka"
          ],
          [
           "Karen Holdsworth"
          ],
          [
           "Jean Lochhead"
          ],
          [
           "Angelika Stephan"
          ],
          [
           "Gerlinde Püttmann"
          ],
          [
           "Jutta von Haase"
          ],
          [
           "Ursula Blaschke"
          ],
          [
           "Christa Vahlensieck"
          ],
          [
           "Jutta von Haase"
          ],
          [
           "Christin Bochröder"
          ],
          [
           "Jutta von Haase"
          ]
         ],
         "hovertemplate": "marathon=Berlin<br>year=%{x}<br>time=%{y}<br>winner=%{customdata[0]}<extra></extra>",
         "legendgroup": "Berlin",
         "marker": {
          "color": "#EF553B",
          "symbol": "circle"
         },
         "mode": "markers",
         "name": "Berlin",
         "orientation": "h",
         "showlegend": true,
         "type": "scatter",
         "x": [
          2017,
          2016,
          2015,
          2014,
          2013,
          2012,
          2011,
          2010,
          2009,
          2008,
          2007,
          2006,
          2005,
          2004,
          2003,
          2002,
          2001,
          2000,
          1999,
          1998,
          1997,
          1996,
          1995,
          1994,
          1993,
          1992,
          1991,
          1990,
          1989,
          1988,
          1987,
          1986,
          1985,
          1984,
          1983,
          1982,
          1981,
          1980,
          1979,
          1978,
          1977,
          1976,
          1975,
          1974
         ],
         "xaxis": "x",
         "y": [
          "2024-01-08T02:20:23",
          "2024-01-08T02:20:45",
          "2024-01-08T02:19:25",
          "2024-01-08T02:20:18",
          "2024-01-08T02:21:13",
          "2024-01-08T02:20:30",
          "2024-01-08T02:19:44",
          "2024-01-08T02:23:58",
          "2024-01-08T02:24:47",
          "2024-01-08T02:19:19",
          "2024-01-08T02:23:17",
          "2024-01-08T02:21:34",
          "2024-01-08T02:19:12",
          "2024-01-08T02:19:41",
          "2024-01-08T02:26:32",
          "2024-01-08T02:21:49",
          "2024-01-08T02:19:46",
          "2024-01-08T02:26:15",
          "2024-01-08T02:20:43",
          "2024-01-08T02:25:22",
          "2024-01-08T02:23:44",
          "2024-01-08T02:26:35",
          "2024-01-08T02:25:37",
          "2024-01-08T02:25:15",
          "2024-01-08T02:26:20",
          "2024-01-08T02:30:22",
          "2024-01-08T02:27:36",
          "2024-01-08T02:28:37",
          "2024-01-08T02:28:45",
          "2024-01-08T02:29:16",
          "2024-01-08T02:31:22",
          "2024-01-08T02:32:10",
          "2024-01-08T02:34:10",
          "2024-01-08T02:39:32",
          "2024-01-08T02:40:32",
          "2024-01-08T02:47:05",
          "2024-01-08T02:47:24",
          "2024-01-08T02:47:18",
          "2024-01-08T03:07:07",
          "2024-01-08T02:57:09",
          "2024-01-08T02:34:48",
          "2024-01-08T03:05:19",
          "2024-01-08T02:59:15",
          "2024-01-08T03:22:01"
         ],
         "yaxis": "y"
        },
        {
         "customdata": [
          [
           "Desi Linden"
          ],
          [
           "Edna Kiplagat"
          ],
          [
           "Atsede Baysa"
          ],
          [
           "Caroline Rotich"
          ],
          [
           "Rita Jeptoo"
          ],
          [
           "Bizunesh Deba"
          ],
          [
           "Rita Jeptoo"
          ],
          [
           "Sharon Cherop"
          ],
          [
           "Caroline Kilel"
          ],
          [
           "Teyba Erkesso"
          ],
          [
           "Salina Kosgei"
          ],
          [
           "Dire Tune"
          ],
          [
           "Lidiya Grigoryeva"
          ],
          [
           "Rita Jeptoo"
          ],
          [
           "Catherine Ndereba"
          ],
          [
           "Catherine Ndereba"
          ],
          [
           "Svetlana Zakharova"
          ],
          [
           "Margaret Okayo"
          ],
          [
           "Catherine Ndereba"
          ],
          [
           "Catherine Ndereba"
          ],
          [
           "Fatuma Roba"
          ],
          [
           "Fatuma Roba"
          ],
          [
           "Fatuma Roba"
          ],
          [
           "Uta Pippig"
          ],
          [
           "Uta Pippig"
          ],
          [
           "Uta Pippig"
          ],
          [
           "Olga Markova"
          ],
          [
           "Olga Markova"
          ],
          [
           "Wanda Panfil"
          ],
          [
           "Rosa Mota"
          ],
          [
           "Ingrid Kristiansen"
          ],
          [
           "Rosa Mota"
          ],
          [
           "Rosa Mota"
          ],
          [
           "Ingrid Kristiansen"
          ],
          [
           "Lisa Larsen Weidenbach"
          ],
          [
           "Lorraine Moller"
          ],
          [
           "Joan Benoit"
          ],
          [
           "Charlotte Teske"
          ],
          [
           "Allison Roe"
          ],
          [
           "Jacqueline Gareau"
          ],
          [
           "Joan Benoit"
          ],
          [
           "Gayle Barron"
          ],
          [
           "Miki Gorman"
          ],
          [
           "Kim Merritt"
          ],
          [
           "Liane Winter"
          ],
          [
           "Miki Gorman"
          ],
          [
           "Jacqueline Hansen"
          ],
          [
           "Nina Kuscsik"
          ],
          [
           "Sara Mae Berman"
          ],
          [
           "Sara Mae Berman"
          ],
          [
           "Sara Mae Berman"
          ],
          [
           "Bobbi Gibb"
          ],
          [
           "Bobbi Gibb"
          ],
          [
           "Bobbi Gibb"
          ]
         ],
         "hovertemplate": "marathon=Boston<br>year=%{x}<br>time=%{y}<br>winner=%{customdata[0]}<extra></extra>",
         "legendgroup": "Boston",
         "marker": {
          "color": "#00cc96",
          "symbol": "circle"
         },
         "mode": "markers",
         "name": "Boston",
         "orientation": "h",
         "showlegend": true,
         "type": "scatter",
         "x": [
          2018,
          2017,
          2016,
          2015,
          2014,
          2014,
          2013,
          2012,
          2011,
          2010,
          2009,
          2008,
          2007,
          2006,
          2005,
          2004,
          2003,
          2002,
          2001,
          2000,
          1999,
          1998,
          1997,
          1996,
          1995,
          1994,
          1993,
          1992,
          1991,
          1990,
          1989,
          1988,
          1987,
          1986,
          1985,
          1984,
          1983,
          1982,
          1981,
          1980,
          1979,
          1978,
          1977,
          1976,
          1975,
          1974,
          1973,
          1972,
          1971,
          1970,
          1969,
          1968,
          1967,
          1966
         ],
         "xaxis": "x",
         "y": [
          "2024-01-08T02:39:54",
          "2024-01-08T02:21:52",
          "2024-01-08T02:29:19",
          "2024-01-08T02:24:55",
          "2024-01-08T02:18:57",
          "2024-01-08T02:19:59",
          "2024-01-08T02:26:25",
          "2024-01-08T02:31:50",
          "2024-01-08T02:22:36",
          "2024-01-08T02:26:11",
          "2024-01-08T02:32:16",
          "2024-01-08T02:25:25",
          "2024-01-08T02:29:18",
          "2024-01-08T02:23:38",
          "2024-01-08T02:25:12",
          "2024-01-08T02:24:27",
          "2024-01-08T02:25:19",
          "2024-01-08T02:20:43",
          "2024-01-08T02:23:53",
          "2024-01-08T02:26:11",
          "2024-01-08T02:23:25",
          "2024-01-08T02:23:21",
          "2024-01-08T02:26:23",
          "2024-01-08T02:27:12",
          "2024-01-08T02:25:11",
          "2024-01-08T02:21:45",
          "2024-01-08T02:25:27",
          "2024-01-08T02:23:43",
          "2024-01-08T02:24:18",
          "2024-01-08T02:25:24",
          "2024-01-08T02:24:33",
          "2024-01-08T02:24:30",
          "2024-01-08T02:25:21",
          "2024-01-08T02:24:55",
          "2024-01-08T02:34:06",
          "2024-01-08T02:29:28",
          "2024-01-08T02:22:43",
          "2024-01-08T02:29:33",
          "2024-01-08T02:26:46",
          "2024-01-08T02:34:28",
          "2024-01-08T02:35:15",
          "2024-01-08T02:44:52",
          "2024-01-08T02:48:33",
          "2024-01-08T02:47:10",
          "2024-01-08T02:42:24",
          "2024-01-08T02:47:11",
          "2024-01-08T03:05:59",
          "2024-01-08T03:10:26",
          "2024-01-08T03:08:30",
          "2024-01-08T03:05:07",
          "2024-01-08T03:22:46",
          "2024-01-08T03:30:00",
          "2024-01-08T03:27:17",
          "2024-01-08T03:21:40"
         ],
         "yaxis": "y"
        },
        {
         "customdata": [
          [
           "Shalane Flanagan"
          ],
          [
           "Mary Keitany"
          ],
          [
           "Mary Keitany"
          ],
          [
           "Mary Keitany"
          ],
          [
           "Priscah Jeptoo"
          ],
          [
           "Firehiwot Dado"
          ],
          [
           "Edna Kiplagat"
          ],
          [
           "Derartu Tulu"
          ],
          [
           "Paula Radcliffe"
          ],
          [
           "Paula Radcliffe"
          ],
          [
           "Jelena Prokopcuka"
          ],
          [
           "Jelena Prokopcuka"
          ],
          [
           "Paula Radcliffe"
          ],
          [
           "Margaret Okayo"
          ],
          [
           "Joyce Chepchumba"
          ],
          [
           "Margaret Okayo"
          ],
          [
           "Lyudmila Petrova"
          ],
          [
           "Adriana Fernandez"
          ],
          [
           "Franca Fiacconi"
          ],
          [
           "Franziska Rochat-Moser"
          ],
          [
           "Anuta Catuna"
          ],
          [
           "Tegla Loroupe"
          ],
          [
           "Tegla Loroupe"
          ],
          [
           "Uta Pippig"
          ],
          [
           "Lisa Ondieki"
          ],
          [
           "Liz McColgan"
          ],
          [
           "Wanda Panfil"
          ],
          [
           "Ingrid Kristiansen"
          ],
          [
           "Grete Waitz"
          ],
          [
           "Priscilla Welch"
          ],
          [
           "Grete Waitz"
          ],
          [
           "Grete Waitz"
          ],
          [
           "Grete Waitz"
          ],
          [
           "Grete Waitz"
          ],
          [
           "Grete Waitz"
          ],
          [
           "Allison Roe"
          ],
          [
           "Grete Waitz"
          ],
          [
           "Grete Waitz"
          ],
          [
           "Grete Waitz"
          ],
          [
           "Miki Gorman"
          ],
          [
           "Miki Gorman"
          ],
          [
           "Kim Merritt"
          ],
          [
           "Kathrine Switzer"
          ],
          [
           "Nina Kuscsik"
          ],
          [
           "Nina Kuscsik"
          ]
         ],
         "hovertemplate": "marathon=NYC<br>year=%{x}<br>time=%{y}<br>winner=%{customdata[0]}<extra></extra>",
         "legendgroup": "NYC",
         "marker": {
          "color": "#ab63fa",
          "symbol": "circle"
         },
         "mode": "markers",
         "name": "NYC",
         "orientation": "h",
         "showlegend": true,
         "type": "scatter",
         "x": [
          2017,
          2016,
          2015,
          2014,
          2013,
          2011,
          2010,
          2009,
          2008,
          2007,
          2006,
          2005,
          2004,
          2003,
          2002,
          2001,
          2000,
          1999,
          1998,
          1997,
          1996,
          1995,
          1994,
          1993,
          1992,
          1991,
          1990,
          1989,
          1988,
          1987,
          1986,
          1985,
          1984,
          1983,
          1982,
          1981,
          1980,
          1979,
          1978,
          1977,
          1976,
          1975,
          1974,
          1973,
          1972
         ],
         "xaxis": "x",
         "y": [
          "2024-01-08T02:26:53",
          "2024-01-08T02:24:26",
          "2024-01-08T02:24:25",
          "2024-01-08T02:25:07",
          "2024-01-08T02:25:07",
          "2024-01-08T02:23:15",
          "2024-01-08T02:28:20",
          "2024-01-08T02:28:52",
          "2024-01-08T02:23:56",
          "2024-01-08T02:23:09",
          "2024-01-08T02:25:05",
          "2024-01-08T02:24:41",
          "2024-01-08T02:23:10",
          "2024-01-08T02:22:31",
          "2024-01-08T02:25:56",
          "2024-01-08T02:24:21",
          "2024-01-08T02:25:45",
          "2024-01-08T02:25:06",
          "2024-01-08T02:25:17",
          "2024-01-08T02:28:43",
          "2024-01-08T02:28:18",
          "2024-01-08T02:28:06",
          "2024-01-08T02:27:37",
          "2024-01-08T02:26:24",
          "2024-01-08T02:24:40",
          "2024-01-08T02:27:32",
          "2024-01-08T02:30:45",
          "2024-01-08T02:25:30",
          "2024-01-08T02:28:07",
          "2024-01-08T02:30:17",
          "2024-01-08T02:28:06",
          "2024-01-08T02:28:34",
          "2024-01-08T02:29:30",
          "2024-01-08T02:27:00",
          "2024-01-08T02:27:14",
          "2024-01-08T02:25:29",
          "2024-01-08T02:25:42",
          "2024-01-08T02:27:33",
          "2024-01-08T02:32:30",
          "2024-01-08T02:43:10",
          "2024-01-08T02:39:11",
          "2024-01-08T02:46:14",
          "2024-01-08T03:07:29",
          "2024-01-08T02:57:07",
          "2024-01-08T03:08:41"
         ],
         "yaxis": "y"
        },
        {
         "customdata": [
          [
           "Mary Keitany"
          ],
          [
           "Jemima Sumgong"
          ],
          [
           "Tigist Tufa"
          ],
          [
           "Edna Kiplagat"
          ],
          [
           "Priscah Jeptoo"
          ],
          [
           "Mary Keitany"
          ],
          [
           "Mary Keitany"
          ],
          [
           "Aselefech Mergia"
          ],
          [
           "Irina Mikitenko"
          ],
          [
           "Irina Mikitenko"
          ],
          [
           "Zhou Chunxiu"
          ],
          [
           "Deena Kastor"
          ],
          [
           "Paula Radcliffe"
          ],
          [
           "Margaret Okayo"
          ],
          [
           "Paula Radcliffe"
          ],
          [
           "Paula Radcliffe"
          ],
          [
           "Derartu Tulu"
          ],
          [
           "Tegla Laroupe"
          ],
          [
           "Joyce Chepchumba"
          ],
          [
           "Catherina McKiernan"
          ],
          [
           "Joyce Chepchumba"
          ],
          [
           "Liz McColgan"
          ],
          [
           "Malgorzata Sobanska"
          ],
          [
           "Katrin Dörre-Heinig"
          ],
          [
           "Katrin Dörre-Heinig"
          ],
          [
           "Katrin Dörre-Heinig"
          ],
          [
           "Rosa Mota"
          ],
          [
           "Wanda Panfil"
          ],
          [
           "Véronique Marot"
          ],
          [
           "Ingrid Kristiansen"
          ],
          [
           "Ingrid Kristiansen"
          ],
          [
           "Grete Waitz"
          ],
          [
           "Ingrid Kristiansen"
          ],
          [
           "Ingrid Kristiansen"
          ],
          [
           "Grete Waitz"
          ],
          [
           "Joyce Smith"
          ],
          [
           "Joyce Smith"
          ],
          [
           "Vivian Cheruiyot"
          ]
         ],
         "hovertemplate": "marathon=London<br>year=%{x}<br>time=%{y}<br>winner=%{customdata[0]}<extra></extra>",
         "legendgroup": "London",
         "marker": {
          "color": "#FFA15A",
          "symbol": "circle"
         },
         "mode": "markers",
         "name": "London",
         "orientation": "h",
         "showlegend": true,
         "type": "scatter",
         "x": [
          2017,
          2016,
          2015,
          2014,
          2013,
          2012,
          2011,
          2010,
          2009,
          2008,
          2007,
          2006,
          2005,
          2004,
          2003,
          2002,
          2001,
          2000,
          1999,
          1998,
          1997,
          1996,
          1995,
          1994,
          1993,
          1992,
          1991,
          1990,
          1989,
          1988,
          1987,
          1986,
          1985,
          1984,
          1983,
          1982,
          1981,
          2018
         ],
         "xaxis": "x",
         "y": [
          "2024-01-08T02:17:01",
          "2024-01-08T02:22:58",
          "2024-01-08T02:23:21",
          "2024-01-08T02:20:21",
          "2024-01-08T02:20:15",
          "2024-01-08T02:18:37",
          "2024-01-08T02:19:19",
          "2024-01-08T02:22:38",
          "2024-01-08T02:22:11",
          "2024-01-08T02:24:14",
          "2024-01-08T02:20:38",
          "2024-01-08T02:19:35",
          "2024-01-08T02:17:42",
          "2024-01-08T02:22:35",
          "2024-01-08T02:15:25",
          "2024-01-08T02:18:56",
          "2024-01-08T02:23:57",
          "2024-01-08T02:24:33",
          "2024-01-08T02:23:22",
          "2024-01-08T02:26:26",
          "2024-01-08T02:26:51",
          "2024-01-08T02:27:54",
          "2024-01-08T02:27:43",
          "2024-01-08T02:32:34",
          "2024-01-08T02:27:09",
          "2024-01-08T02:29:39",
          "2024-01-08T02:26:14",
          "2024-01-08T02:26:31",
          "2024-01-08T02:25:56",
          "2024-01-08T02:25:41",
          "2024-01-08T02:22:48",
          "2024-01-08T02:24:54",
          "2024-01-08T02:21:06",
          "2024-01-08T02:24:26",
          "2024-01-08T02:25:29",
          "2024-01-08T02:29:43",
          "2024-01-08T02:29:57",
          "2024-01-08T02:18:31"
         ],
         "yaxis": "y"
        },
        {
         "customdata": [
          [
           "Tirunesh Dibaba"
          ],
          [
           "Florence Kiplagat"
          ],
          [
           "Florence Kiplagat"
          ],
          [
           "Mare Dibaba"
          ],
          [
           "Rita Jeptoo"
          ],
          [
           "Atsede Baysa"
          ],
          [
           "Ejegayehu Dibaba"
          ],
          [
           "Atsede Baysa"
          ],
          [
           "Irina Mikitenko"
          ],
          [
           "Lidiya Grigoryeva"
          ],
          [
           "Berhane Adere"
          ],
          [
           "Berhane Adere"
          ],
          [
           "Deena Kastor"
          ],
          [
           "Dita, Constantina"
          ],
          [
           "Svetlana Zakharova"
          ],
          [
           "Paula Radcliffe"
          ],
          [
           "Catherine Ndereba"
          ],
          [
           "Catherine Ndereba"
          ],
          [
           "Joyce Chepchumba"
          ],
          [
           "Joyce Chepchumba"
          ],
          [
           "Marian Sutton"
          ],
          [
           "Marian Sutton"
          ],
          [
           "Ritva Lemettinen"
          ],
          [
           "Kristy Johnston"
          ],
          [
           "Ritva Lemettinen"
          ],
          [
           "Linda Somers"
          ],
          [
           "Midde Hamrin"
          ],
          [
           "Aurora Cunha"
          ],
          [
           "Lisa Weidenbach"
          ],
          [
           "Lisa Weidenbach"
          ],
          [
           "Ingrid Kristiansen"
          ],
          [
           "Joan Benoit"
          ],
          [
           "Rosa Mota"
          ],
          [
           "Rosa Mota"
          ],
          [
           "Nancy Conz"
          ],
          [
           "Tina Gandy"
          ],
          [
           "Sue Peterson"
          ],
          [
           "Laura Michalek"
          ],
          [
           "Lynae Larson"
          ],
          [
           "Dorothy Doolittle"
          ]
         ],
         "hovertemplate": "marathon=Chicago<br>year=%{x}<br>time=%{y}<br>winner=%{customdata[0]}<extra></extra>",
         "legendgroup": "Chicago",
         "marker": {
          "color": "#19d3f3",
          "symbol": "circle"
         },
         "mode": "markers",
         "name": "Chicago",
         "orientation": "h",
         "showlegend": true,
         "type": "scatter",
         "x": [
          2017,
          2016,
          2015,
          2014,
          2013,
          2012,
          2011,
          2010,
          2009,
          2008,
          2007,
          2006,
          2005,
          2004,
          2003,
          2002,
          2001,
          2000,
          1999,
          1998,
          1997,
          1996,
          1995,
          1994,
          1993,
          1992,
          1991,
          1990,
          1989,
          1988,
          1986,
          1985,
          1984,
          1983,
          1982,
          1981,
          1980,
          1979,
          1978,
          1977
         ],
         "xaxis": "x",
         "y": [
          "2024-01-08T02:18:31",
          "2024-01-08T02:21:32",
          "2024-01-08T02:23:33",
          "2024-01-08T02:25:37",
          "2024-01-08T02:19:57",
          "2024-01-08T02:22:03",
          "2024-01-08T02:22:09",
          "2024-01-08T02:23:40",
          "2024-01-08T02:26:31",
          "2024-01-08T02:27:17",
          "2024-01-08T02:33:49",
          "2024-01-08T02:20:42",
          "2024-01-08T02:21:25",
          "2024-01-08T02:23:45",
          "2024-01-08T02:23:07",
          "2024-01-08T02:17:18",
          "2024-01-08T02:18:47",
          "2024-01-08T02:21:33",
          "2024-01-08T02:25:59",
          "2024-01-08T02:23:57",
          "2024-01-08T02:29:03",
          "2024-01-08T02:30:41",
          "2024-01-08T02:28:27",
          "2024-01-08T02:31:34",
          "2024-01-08T02:33:18",
          "2024-01-08T02:37:41",
          "2024-01-08T02:36:21",
          "2024-01-08T02:30:11",
          "2024-01-08T02:28:15",
          "2024-01-08T02:29:17",
          "2024-01-08T02:27:08",
          "2024-01-08T02:21:21",
          "2024-01-08T02:26:01",
          "2024-01-08T02:31:12",
          "2024-01-08T02:33:23",
          "2024-01-08T02:49:39",
          "2024-01-08T02:45:03",
          "2024-01-08T03:15:45",
          "2024-01-08T02:59:25",
          "2024-01-08T02:50:47"
         ],
         "yaxis": "y"
        }
       ],
       "layout": {
        "legend": {
         "title": {
          "text": "marathon"
         },
         "tracegroupgap": 0
        },
        "template": {
         "data": {
          "bar": [
           {
            "error_x": {
             "color": "#2a3f5f"
            },
            "error_y": {
             "color": "#2a3f5f"
            },
            "marker": {
             "line": {
              "color": "#E5ECF6",
              "width": 0.5
             },
             "pattern": {
              "fillmode": "overlay",
              "size": 10,
              "solidity": 0.2
             }
            },
            "type": "bar"
           }
          ],
          "barpolar": [
           {
            "marker": {
             "line": {
              "color": "#E5ECF6",
              "width": 0.5
             },
             "pattern": {
              "fillmode": "overlay",
              "size": 10,
              "solidity": 0.2
             }
            },
            "type": "barpolar"
           }
          ],
          "carpet": [
           {
            "aaxis": {
             "endlinecolor": "#2a3f5f",
             "gridcolor": "white",
             "linecolor": "white",
             "minorgridcolor": "white",
             "startlinecolor": "#2a3f5f"
            },
            "baxis": {
             "endlinecolor": "#2a3f5f",
             "gridcolor": "white",
             "linecolor": "white",
             "minorgridcolor": "white",
             "startlinecolor": "#2a3f5f"
            },
            "type": "carpet"
           }
          ],
          "choropleth": [
           {
            "colorbar": {
             "outlinewidth": 0,
             "ticks": ""
            },
            "type": "choropleth"
           }
          ],
          "contour": [
           {
            "colorbar": {
             "outlinewidth": 0,
             "ticks": ""
            },
            "colorscale": [
             [
              0,
              "#0d0887"
             ],
             [
              0.1111111111111111,
              "#46039f"
             ],
             [
              0.2222222222222222,
              "#7201a8"
             ],
             [
              0.3333333333333333,
              "#9c179e"
             ],
             [
              0.4444444444444444,
              "#bd3786"
             ],
             [
              0.5555555555555556,
              "#d8576b"
             ],
             [
              0.6666666666666666,
              "#ed7953"
             ],
             [
              0.7777777777777778,
              "#fb9f3a"
             ],
             [
              0.8888888888888888,
              "#fdca26"
             ],
             [
              1,
              "#f0f921"
             ]
            ],
            "type": "contour"
           }
          ],
          "contourcarpet": [
           {
            "colorbar": {
             "outlinewidth": 0,
             "ticks": ""
            },
            "type": "contourcarpet"
           }
          ],
          "heatmap": [
           {
            "colorbar": {
             "outlinewidth": 0,
             "ticks": ""
            },
            "colorscale": [
             [
              0,
              "#0d0887"
             ],
             [
              0.1111111111111111,
              "#46039f"
             ],
             [
              0.2222222222222222,
              "#7201a8"
             ],
             [
              0.3333333333333333,
              "#9c179e"
             ],
             [
              0.4444444444444444,
              "#bd3786"
             ],
             [
              0.5555555555555556,
              "#d8576b"
             ],
             [
              0.6666666666666666,
              "#ed7953"
             ],
             [
              0.7777777777777778,
              "#fb9f3a"
             ],
             [
              0.8888888888888888,
              "#fdca26"
             ],
             [
              1,
              "#f0f921"
             ]
            ],
            "type": "heatmap"
           }
          ],
          "heatmapgl": [
           {
            "colorbar": {
             "outlinewidth": 0,
             "ticks": ""
            },
            "colorscale": [
             [
              0,
              "#0d0887"
             ],
             [
              0.1111111111111111,
              "#46039f"
             ],
             [
              0.2222222222222222,
              "#7201a8"
             ],
             [
              0.3333333333333333,
              "#9c179e"
             ],
             [
              0.4444444444444444,
              "#bd3786"
             ],
             [
              0.5555555555555556,
              "#d8576b"
             ],
             [
              0.6666666666666666,
              "#ed7953"
             ],
             [
              0.7777777777777778,
              "#fb9f3a"
             ],
             [
              0.8888888888888888,
              "#fdca26"
             ],
             [
              1,
              "#f0f921"
             ]
            ],
            "type": "heatmapgl"
           }
          ],
          "histogram": [
           {
            "marker": {
             "pattern": {
              "fillmode": "overlay",
              "size": 10,
              "solidity": 0.2
             }
            },
            "type": "histogram"
           }
          ],
          "histogram2d": [
           {
            "colorbar": {
             "outlinewidth": 0,
             "ticks": ""
            },
            "colorscale": [
             [
              0,
              "#0d0887"
             ],
             [
              0.1111111111111111,
              "#46039f"
             ],
             [
              0.2222222222222222,
              "#7201a8"
             ],
             [
              0.3333333333333333,
              "#9c179e"
             ],
             [
              0.4444444444444444,
              "#bd3786"
             ],
             [
              0.5555555555555556,
              "#d8576b"
             ],
             [
              0.6666666666666666,
              "#ed7953"
             ],
             [
              0.7777777777777778,
              "#fb9f3a"
             ],
             [
              0.8888888888888888,
              "#fdca26"
             ],
             [
              1,
              "#f0f921"
             ]
            ],
            "type": "histogram2d"
           }
          ],
          "histogram2dcontour": [
           {
            "colorbar": {
             "outlinewidth": 0,
             "ticks": ""
            },
            "colorscale": [
             [
              0,
              "#0d0887"
             ],
             [
              0.1111111111111111,
              "#46039f"
             ],
             [
              0.2222222222222222,
              "#7201a8"
             ],
             [
              0.3333333333333333,
              "#9c179e"
             ],
             [
              0.4444444444444444,
              "#bd3786"
             ],
             [
              0.5555555555555556,
              "#d8576b"
             ],
             [
              0.6666666666666666,
              "#ed7953"
             ],
             [
              0.7777777777777778,
              "#fb9f3a"
             ],
             [
              0.8888888888888888,
              "#fdca26"
             ],
             [
              1,
              "#f0f921"
             ]
            ],
            "type": "histogram2dcontour"
           }
          ],
          "mesh3d": [
           {
            "colorbar": {
             "outlinewidth": 0,
             "ticks": ""
            },
            "type": "mesh3d"
           }
          ],
          "parcoords": [
           {
            "line": {
             "colorbar": {
              "outlinewidth": 0,
              "ticks": ""
             }
            },
            "type": "parcoords"
           }
          ],
          "pie": [
           {
            "automargin": true,
            "type": "pie"
           }
          ],
          "scatter": [
           {
            "fillpattern": {
             "fillmode": "overlay",
             "size": 10,
             "solidity": 0.2
            },
            "type": "scatter"
           }
          ],
          "scatter3d": [
           {
            "line": {
             "colorbar": {
              "outlinewidth": 0,
              "ticks": ""
             }
            },
            "marker": {
             "colorbar": {
              "outlinewidth": 0,
              "ticks": ""
             }
            },
            "type": "scatter3d"
           }
          ],
          "scattercarpet": [
           {
            "marker": {
             "colorbar": {
              "outlinewidth": 0,
              "ticks": ""
             }
            },
            "type": "scattercarpet"
           }
          ],
          "scattergeo": [
           {
            "marker": {
             "colorbar": {
              "outlinewidth": 0,
              "ticks": ""
             }
            },
            "type": "scattergeo"
           }
          ],
          "scattergl": [
           {
            "marker": {
             "colorbar": {
              "outlinewidth": 0,
              "ticks": ""
             }
            },
            "type": "scattergl"
           }
          ],
          "scattermapbox": [
           {
            "marker": {
             "colorbar": {
              "outlinewidth": 0,
              "ticks": ""
             }
            },
            "type": "scattermapbox"
           }
          ],
          "scatterpolar": [
           {
            "marker": {
             "colorbar": {
              "outlinewidth": 0,
              "ticks": ""
             }
            },
            "type": "scatterpolar"
           }
          ],
          "scatterpolargl": [
           {
            "marker": {
             "colorbar": {
              "outlinewidth": 0,
              "ticks": ""
             }
            },
            "type": "scatterpolargl"
           }
          ],
          "scatterternary": [
           {
            "marker": {
             "colorbar": {
              "outlinewidth": 0,
              "ticks": ""
             }
            },
            "type": "scatterternary"
           }
          ],
          "surface": [
           {
            "colorbar": {
             "outlinewidth": 0,
             "ticks": ""
            },
            "colorscale": [
             [
              0,
              "#0d0887"
             ],
             [
              0.1111111111111111,
              "#46039f"
             ],
             [
              0.2222222222222222,
              "#7201a8"
             ],
             [
              0.3333333333333333,
              "#9c179e"
             ],
             [
              0.4444444444444444,
              "#bd3786"
             ],
             [
              0.5555555555555556,
              "#d8576b"
             ],
             [
              0.6666666666666666,
              "#ed7953"
             ],
             [
              0.7777777777777778,
              "#fb9f3a"
             ],
             [
              0.8888888888888888,
              "#fdca26"
             ],
             [
              1,
              "#f0f921"
             ]
            ],
            "type": "surface"
           }
          ],
          "table": [
           {
            "cells": {
             "fill": {
              "color": "#EBF0F8"
             },
             "line": {
              "color": "white"
             }
            },
            "header": {
             "fill": {
              "color": "#C8D4E3"
             },
             "line": {
              "color": "white"
             }
            },
            "type": "table"
           }
          ]
         },
         "layout": {
          "annotationdefaults": {
           "arrowcolor": "#2a3f5f",
           "arrowhead": 0,
           "arrowwidth": 1
          },
          "autotypenumbers": "strict",
          "coloraxis": {
           "colorbar": {
            "outlinewidth": 0,
            "ticks": ""
           }
          },
          "colorscale": {
           "diverging": [
            [
             0,
             "#8e0152"
            ],
            [
             0.1,
             "#c51b7d"
            ],
            [
             0.2,
             "#de77ae"
            ],
            [
             0.3,
             "#f1b6da"
            ],
            [
             0.4,
             "#fde0ef"
            ],
            [
             0.5,
             "#f7f7f7"
            ],
            [
             0.6,
             "#e6f5d0"
            ],
            [
             0.7,
             "#b8e186"
            ],
            [
             0.8,
             "#7fbc41"
            ],
            [
             0.9,
             "#4d9221"
            ],
            [
             1,
             "#276419"
            ]
           ],
           "sequential": [
            [
             0,
             "#0d0887"
            ],
            [
             0.1111111111111111,
             "#46039f"
            ],
            [
             0.2222222222222222,
             "#7201a8"
            ],
            [
             0.3333333333333333,
             "#9c179e"
            ],
            [
             0.4444444444444444,
             "#bd3786"
            ],
            [
             0.5555555555555556,
             "#d8576b"
            ],
            [
             0.6666666666666666,
             "#ed7953"
            ],
            [
             0.7777777777777778,
             "#fb9f3a"
            ],
            [
             0.8888888888888888,
             "#fdca26"
            ],
            [
             1,
             "#f0f921"
            ]
           ],
           "sequentialminus": [
            [
             0,
             "#0d0887"
            ],
            [
             0.1111111111111111,
             "#46039f"
            ],
            [
             0.2222222222222222,
             "#7201a8"
            ],
            [
             0.3333333333333333,
             "#9c179e"
            ],
            [
             0.4444444444444444,
             "#bd3786"
            ],
            [
             0.5555555555555556,
             "#d8576b"
            ],
            [
             0.6666666666666666,
             "#ed7953"
            ],
            [
             0.7777777777777778,
             "#fb9f3a"
            ],
            [
             0.8888888888888888,
             "#fdca26"
            ],
            [
             1,
             "#f0f921"
            ]
           ]
          },
          "colorway": [
           "#636efa",
           "#EF553B",
           "#00cc96",
           "#ab63fa",
           "#FFA15A",
           "#19d3f3",
           "#FF6692",
           "#B6E880",
           "#FF97FF",
           "#FECB52"
          ],
          "font": {
           "color": "#2a3f5f"
          },
          "geo": {
           "bgcolor": "white",
           "lakecolor": "white",
           "landcolor": "#E5ECF6",
           "showlakes": true,
           "showland": true,
           "subunitcolor": "white"
          },
          "hoverlabel": {
           "align": "left"
          },
          "hovermode": "closest",
          "mapbox": {
           "style": "light"
          },
          "paper_bgcolor": "white",
          "plot_bgcolor": "#E5ECF6",
          "polar": {
           "angularaxis": {
            "gridcolor": "white",
            "linecolor": "white",
            "ticks": ""
           },
           "bgcolor": "#E5ECF6",
           "radialaxis": {
            "gridcolor": "white",
            "linecolor": "white",
            "ticks": ""
           }
          },
          "scene": {
           "xaxis": {
            "backgroundcolor": "#E5ECF6",
            "gridcolor": "white",
            "gridwidth": 2,
            "linecolor": "white",
            "showbackground": true,
            "ticks": "",
            "zerolinecolor": "white"
           },
           "yaxis": {
            "backgroundcolor": "#E5ECF6",
            "gridcolor": "white",
            "gridwidth": 2,
            "linecolor": "white",
            "showbackground": true,
            "ticks": "",
            "zerolinecolor": "white"
           },
           "zaxis": {
            "backgroundcolor": "#E5ECF6",
            "gridcolor": "white",
            "gridwidth": 2,
            "linecolor": "white",
            "showbackground": true,
            "ticks": "",
            "zerolinecolor": "white"
           }
          },
          "shapedefaults": {
           "line": {
            "color": "#2a3f5f"
           }
          },
          "ternary": {
           "aaxis": {
            "gridcolor": "white",
            "linecolor": "white",
            "ticks": ""
           },
           "baxis": {
            "gridcolor": "white",
            "linecolor": "white",
            "ticks": ""
           },
           "bgcolor": "#E5ECF6",
           "caxis": {
            "gridcolor": "white",
            "linecolor": "white",
            "ticks": ""
           }
          },
          "title": {
           "x": 0.05
          },
          "xaxis": {
           "automargin": true,
           "gridcolor": "white",
           "linecolor": "white",
           "ticks": "",
           "title": {
            "standoff": 15
           },
           "zerolinecolor": "white",
           "zerolinewidth": 2
          },
          "yaxis": {
           "automargin": true,
           "gridcolor": "white",
           "linecolor": "white",
           "ticks": "",
           "title": {
            "standoff": 15
           },
           "zerolinecolor": "white",
           "zerolinewidth": 2
          }
         }
        },
        "title": {
         "text": "Female Winners Time"
        },
        "xaxis": {
         "anchor": "y",
         "domain": [
          0,
          1
         ],
         "title": {
          "text": "year"
         }
        },
        "yaxis": {
         "anchor": "x",
         "domain": [
          0,
          1
         ],
         "title": {
          "text": "time"
         }
        }
       }
      },
      "text/html": [
       "<div>                            <div id=\"6dde0e93-cbbd-4eb1-aa44-26c9fa0c14ba\" class=\"plotly-graph-div\" style=\"height:525px; width:100%;\"></div>            <script type=\"text/javascript\">                require([\"plotly\"], function(Plotly) {                    window.PLOTLYENV=window.PLOTLYENV || {};                                    if (document.getElementById(\"6dde0e93-cbbd-4eb1-aa44-26c9fa0c14ba\")) {                    Plotly.newPlot(                        \"6dde0e93-cbbd-4eb1-aa44-26c9fa0c14ba\",                        [{\"customdata\":[[\"Birhane Dibaba\"],[\"Sarah Chepchirchir\"],[\"Helah Kiprop\"],[\"Birhane Dibaba\"],[\"Tirfi Tsegaye\"],[\"Aberu Kebede\"],[\"Atsede Habtamu\"],[\"Noriko Higuchi\"],[\"Alevtina Biktimirova\"],[\"Mizuho Nasukawa\"],[\"Claudia Dreher\"],[\"Hitomi Niiya\"]],\"hovertemplate\":\"marathon=Tokyo<br>year=%{x}<br>time=%{y}<br>winner=%{customdata[0]}<extra></extra>\",\"legendgroup\":\"Tokyo\",\"marker\":{\"color\":\"#636efa\",\"symbol\":\"circle\"},\"mode\":\"markers\",\"name\":\"Tokyo\",\"orientation\":\"h\",\"showlegend\":true,\"x\":[2018,2017,2016,2015,2014,2013,2012,2011,2010,2009,2008,2007],\"xaxis\":\"x\",\"y\":[\"2024-01-08T02:19:51\",\"2024-01-08T02:19:47\",\"2024-01-08T02:21:27\",\"2024-01-08T02:23:15\",\"2024-01-08T02:22:23\",\"2024-01-08T02:25:34\",\"2024-01-08T02:25:28\",\"2024-01-08T02:28:49\",\"2024-01-08T02:34:39\",\"2024-01-08T02:25:38\",\"2024-01-08T02:35:35\",\"2024-01-08T02:31:02\"],\"yaxis\":\"y\",\"type\":\"scatter\"},{\"customdata\":[[\"Gladys Cherono\"],[\"Aberu Kebede\"],[\"Gladys Cherono\"],[\"Tirfi Tsegaye\"],[\"Florence Kiplagat\"],[\"Aberu Kebede\"],[\"Florence Kiplagat\"],[\"Aberu Kebede\"],[\"Atsede Habtamu\"],[\"Irina Mikitenko\"],[\"Gete Wami\"],[\"Gete Wami\"],[\"Noguchi\"],[\"Yoko Shibui\"],[\"Yasuko Hashimoto\"],[\"Naoko Takahashi\"],[\"Naoko Takahashi\"],[\"Kazumi Matsuo\"],[\"Tegla Loroupe\"],[\"Marleen Renders\"],[\"Catherina McKiernan\"],[\"Colleen De Reuck\"],[\"Uta Pippig\"],[\"Katrin D\\u00f6rre-Heinig\"],[\"Renata Kokowska\"],[\"Uta Pippig\"],[\"Renata Kokowska\"],[\"Uta Pippig\"],[\"P\\u00e4ivi Tikkanen\"],[\"Renata Kokowska\"],[\"Kerstin Pre\\u00dfler\"],[\"Charlotte Teske\"],[\"Magda Ilands\"],[\"\\u00c1gnes Sipka\"],[\"Karen Holdsworth\"],[\"Jean Lochhead\"],[\"Angelika Stephan\"],[\"Gerlinde P\\u00fcttmann\"],[\"Jutta von Haase\"],[\"Ursula Blaschke\"],[\"Christa Vahlensieck\"],[\"Jutta von Haase\"],[\"Christin Bochr\\u00f6der\"],[\"Jutta von Haase\"]],\"hovertemplate\":\"marathon=Berlin<br>year=%{x}<br>time=%{y}<br>winner=%{customdata[0]}<extra></extra>\",\"legendgroup\":\"Berlin\",\"marker\":{\"color\":\"#EF553B\",\"symbol\":\"circle\"},\"mode\":\"markers\",\"name\":\"Berlin\",\"orientation\":\"h\",\"showlegend\":true,\"x\":[2017,2016,2015,2014,2013,2012,2011,2010,2009,2008,2007,2006,2005,2004,2003,2002,2001,2000,1999,1998,1997,1996,1995,1994,1993,1992,1991,1990,1989,1988,1987,1986,1985,1984,1983,1982,1981,1980,1979,1978,1977,1976,1975,1974],\"xaxis\":\"x\",\"y\":[\"2024-01-08T02:20:23\",\"2024-01-08T02:20:45\",\"2024-01-08T02:19:25\",\"2024-01-08T02:20:18\",\"2024-01-08T02:21:13\",\"2024-01-08T02:20:30\",\"2024-01-08T02:19:44\",\"2024-01-08T02:23:58\",\"2024-01-08T02:24:47\",\"2024-01-08T02:19:19\",\"2024-01-08T02:23:17\",\"2024-01-08T02:21:34\",\"2024-01-08T02:19:12\",\"2024-01-08T02:19:41\",\"2024-01-08T02:26:32\",\"2024-01-08T02:21:49\",\"2024-01-08T02:19:46\",\"2024-01-08T02:26:15\",\"2024-01-08T02:20:43\",\"2024-01-08T02:25:22\",\"2024-01-08T02:23:44\",\"2024-01-08T02:26:35\",\"2024-01-08T02:25:37\",\"2024-01-08T02:25:15\",\"2024-01-08T02:26:20\",\"2024-01-08T02:30:22\",\"2024-01-08T02:27:36\",\"2024-01-08T02:28:37\",\"2024-01-08T02:28:45\",\"2024-01-08T02:29:16\",\"2024-01-08T02:31:22\",\"2024-01-08T02:32:10\",\"2024-01-08T02:34:10\",\"2024-01-08T02:39:32\",\"2024-01-08T02:40:32\",\"2024-01-08T02:47:05\",\"2024-01-08T02:47:24\",\"2024-01-08T02:47:18\",\"2024-01-08T03:07:07\",\"2024-01-08T02:57:09\",\"2024-01-08T02:34:48\",\"2024-01-08T03:05:19\",\"2024-01-08T02:59:15\",\"2024-01-08T03:22:01\"],\"yaxis\":\"y\",\"type\":\"scatter\"},{\"customdata\":[[\"Desi Linden\"],[\"Edna Kiplagat\"],[\"Atsede Baysa\"],[\"Caroline Rotich\"],[\"Rita Jeptoo\"],[\"Bizunesh Deba\"],[\"Rita Jeptoo\"],[\"Sharon Cherop\"],[\"Caroline Kilel\"],[\"Teyba Erkesso\"],[\"Salina Kosgei\"],[\"Dire Tune\"],[\"Lidiya Grigoryeva\"],[\"Rita Jeptoo\"],[\"Catherine Ndereba\"],[\"Catherine Ndereba\"],[\"Svetlana Zakharova\"],[\"Margaret Okayo\"],[\"Catherine Ndereba\"],[\"Catherine Ndereba\"],[\"Fatuma Roba\"],[\"Fatuma Roba\"],[\"Fatuma Roba\"],[\"Uta Pippig\"],[\"Uta Pippig\"],[\"Uta Pippig\"],[\"Olga Markova\"],[\"Olga Markova\"],[\"Wanda Panfil\"],[\"Rosa Mota\"],[\"Ingrid Kristiansen\"],[\"Rosa Mota\"],[\"Rosa Mota\"],[\"Ingrid Kristiansen\"],[\"Lisa Larsen Weidenbach\"],[\"Lorraine Moller\"],[\"Joan Benoit\"],[\"Charlotte Teske\"],[\"Allison Roe\"],[\"Jacqueline Gareau\"],[\"Joan Benoit\"],[\"Gayle Barron\"],[\"Miki Gorman\"],[\"Kim Merritt\"],[\"Liane Winter\"],[\"Miki Gorman\"],[\"Jacqueline Hansen\"],[\"Nina Kuscsik\"],[\"Sara Mae Berman\"],[\"Sara Mae Berman\"],[\"Sara Mae Berman\"],[\"Bobbi Gibb\"],[\"Bobbi Gibb\"],[\"Bobbi Gibb\"]],\"hovertemplate\":\"marathon=Boston<br>year=%{x}<br>time=%{y}<br>winner=%{customdata[0]}<extra></extra>\",\"legendgroup\":\"Boston\",\"marker\":{\"color\":\"#00cc96\",\"symbol\":\"circle\"},\"mode\":\"markers\",\"name\":\"Boston\",\"orientation\":\"h\",\"showlegend\":true,\"x\":[2018,2017,2016,2015,2014,2014,2013,2012,2011,2010,2009,2008,2007,2006,2005,2004,2003,2002,2001,2000,1999,1998,1997,1996,1995,1994,1993,1992,1991,1990,1989,1988,1987,1986,1985,1984,1983,1982,1981,1980,1979,1978,1977,1976,1975,1974,1973,1972,1971,1970,1969,1968,1967,1966],\"xaxis\":\"x\",\"y\":[\"2024-01-08T02:39:54\",\"2024-01-08T02:21:52\",\"2024-01-08T02:29:19\",\"2024-01-08T02:24:55\",\"2024-01-08T02:18:57\",\"2024-01-08T02:19:59\",\"2024-01-08T02:26:25\",\"2024-01-08T02:31:50\",\"2024-01-08T02:22:36\",\"2024-01-08T02:26:11\",\"2024-01-08T02:32:16\",\"2024-01-08T02:25:25\",\"2024-01-08T02:29:18\",\"2024-01-08T02:23:38\",\"2024-01-08T02:25:12\",\"2024-01-08T02:24:27\",\"2024-01-08T02:25:19\",\"2024-01-08T02:20:43\",\"2024-01-08T02:23:53\",\"2024-01-08T02:26:11\",\"2024-01-08T02:23:25\",\"2024-01-08T02:23:21\",\"2024-01-08T02:26:23\",\"2024-01-08T02:27:12\",\"2024-01-08T02:25:11\",\"2024-01-08T02:21:45\",\"2024-01-08T02:25:27\",\"2024-01-08T02:23:43\",\"2024-01-08T02:24:18\",\"2024-01-08T02:25:24\",\"2024-01-08T02:24:33\",\"2024-01-08T02:24:30\",\"2024-01-08T02:25:21\",\"2024-01-08T02:24:55\",\"2024-01-08T02:34:06\",\"2024-01-08T02:29:28\",\"2024-01-08T02:22:43\",\"2024-01-08T02:29:33\",\"2024-01-08T02:26:46\",\"2024-01-08T02:34:28\",\"2024-01-08T02:35:15\",\"2024-01-08T02:44:52\",\"2024-01-08T02:48:33\",\"2024-01-08T02:47:10\",\"2024-01-08T02:42:24\",\"2024-01-08T02:47:11\",\"2024-01-08T03:05:59\",\"2024-01-08T03:10:26\",\"2024-01-08T03:08:30\",\"2024-01-08T03:05:07\",\"2024-01-08T03:22:46\",\"2024-01-08T03:30:00\",\"2024-01-08T03:27:17\",\"2024-01-08T03:21:40\"],\"yaxis\":\"y\",\"type\":\"scatter\"},{\"customdata\":[[\"Shalane Flanagan\"],[\"Mary Keitany\"],[\"Mary Keitany\"],[\"Mary Keitany\"],[\"Priscah Jeptoo\"],[\"Firehiwot Dado\"],[\"Edna Kiplagat\"],[\"Derartu Tulu\"],[\"Paula Radcliffe\"],[\"Paula Radcliffe\"],[\"Jelena Prokopcuka\"],[\"Jelena Prokopcuka\"],[\"Paula Radcliffe\"],[\"Margaret Okayo\"],[\"Joyce Chepchumba\"],[\"Margaret Okayo\"],[\"Lyudmila Petrova\"],[\"Adriana Fernandez\"],[\"Franca Fiacconi\"],[\"Franziska Rochat-Moser\"],[\"Anuta Catuna\"],[\"Tegla Loroupe\"],[\"Tegla Loroupe\"],[\"Uta Pippig\"],[\"Lisa Ondieki\"],[\"Liz McColgan\"],[\"Wanda Panfil\"],[\"Ingrid Kristiansen\"],[\"Grete Waitz\"],[\"Priscilla Welch\"],[\"Grete Waitz\"],[\"Grete Waitz\"],[\"Grete Waitz\"],[\"Grete Waitz\"],[\"Grete Waitz\"],[\"Allison Roe\"],[\"Grete Waitz\"],[\"Grete Waitz\"],[\"Grete Waitz\"],[\"Miki Gorman\"],[\"Miki Gorman\"],[\"Kim Merritt\"],[\"Kathrine Switzer\"],[\"Nina Kuscsik\"],[\"Nina Kuscsik\"]],\"hovertemplate\":\"marathon=NYC<br>year=%{x}<br>time=%{y}<br>winner=%{customdata[0]}<extra></extra>\",\"legendgroup\":\"NYC\",\"marker\":{\"color\":\"#ab63fa\",\"symbol\":\"circle\"},\"mode\":\"markers\",\"name\":\"NYC\",\"orientation\":\"h\",\"showlegend\":true,\"x\":[2017,2016,2015,2014,2013,2011,2010,2009,2008,2007,2006,2005,2004,2003,2002,2001,2000,1999,1998,1997,1996,1995,1994,1993,1992,1991,1990,1989,1988,1987,1986,1985,1984,1983,1982,1981,1980,1979,1978,1977,1976,1975,1974,1973,1972],\"xaxis\":\"x\",\"y\":[\"2024-01-08T02:26:53\",\"2024-01-08T02:24:26\",\"2024-01-08T02:24:25\",\"2024-01-08T02:25:07\",\"2024-01-08T02:25:07\",\"2024-01-08T02:23:15\",\"2024-01-08T02:28:20\",\"2024-01-08T02:28:52\",\"2024-01-08T02:23:56\",\"2024-01-08T02:23:09\",\"2024-01-08T02:25:05\",\"2024-01-08T02:24:41\",\"2024-01-08T02:23:10\",\"2024-01-08T02:22:31\",\"2024-01-08T02:25:56\",\"2024-01-08T02:24:21\",\"2024-01-08T02:25:45\",\"2024-01-08T02:25:06\",\"2024-01-08T02:25:17\",\"2024-01-08T02:28:43\",\"2024-01-08T02:28:18\",\"2024-01-08T02:28:06\",\"2024-01-08T02:27:37\",\"2024-01-08T02:26:24\",\"2024-01-08T02:24:40\",\"2024-01-08T02:27:32\",\"2024-01-08T02:30:45\",\"2024-01-08T02:25:30\",\"2024-01-08T02:28:07\",\"2024-01-08T02:30:17\",\"2024-01-08T02:28:06\",\"2024-01-08T02:28:34\",\"2024-01-08T02:29:30\",\"2024-01-08T02:27:00\",\"2024-01-08T02:27:14\",\"2024-01-08T02:25:29\",\"2024-01-08T02:25:42\",\"2024-01-08T02:27:33\",\"2024-01-08T02:32:30\",\"2024-01-08T02:43:10\",\"2024-01-08T02:39:11\",\"2024-01-08T02:46:14\",\"2024-01-08T03:07:29\",\"2024-01-08T02:57:07\",\"2024-01-08T03:08:41\"],\"yaxis\":\"y\",\"type\":\"scatter\"},{\"customdata\":[[\"Mary Keitany\"],[\"Jemima Sumgong\"],[\"Tigist Tufa\"],[\"Edna Kiplagat\"],[\"Priscah Jeptoo\"],[\"Mary Keitany\"],[\"Mary Keitany\"],[\"Aselefech Mergia\"],[\"Irina Mikitenko\"],[\"Irina Mikitenko\"],[\"Zhou Chunxiu\"],[\"Deena Kastor\"],[\"Paula Radcliffe\"],[\"Margaret Okayo\"],[\"Paula Radcliffe\"],[\"Paula Radcliffe\"],[\"Derartu Tulu\"],[\"Tegla Laroupe\"],[\"Joyce Chepchumba\"],[\"Catherina McKiernan\"],[\"Joyce Chepchumba\"],[\"Liz McColgan\"],[\"Malgorzata Sobanska\"],[\"Katrin D\\u00f6rre-Heinig\"],[\"Katrin D\\u00f6rre-Heinig\"],[\"Katrin D\\u00f6rre-Heinig\"],[\"Rosa Mota\"],[\"Wanda Panfil\"],[\"V\\u00e9ronique Marot\"],[\"Ingrid Kristiansen\"],[\"Ingrid Kristiansen\"],[\"Grete Waitz\"],[\"Ingrid Kristiansen\"],[\"Ingrid Kristiansen\"],[\"Grete Waitz\"],[\"Joyce Smith\"],[\"Joyce Smith\"],[\"Vivian Cheruiyot\"]],\"hovertemplate\":\"marathon=London<br>year=%{x}<br>time=%{y}<br>winner=%{customdata[0]}<extra></extra>\",\"legendgroup\":\"London\",\"marker\":{\"color\":\"#FFA15A\",\"symbol\":\"circle\"},\"mode\":\"markers\",\"name\":\"London\",\"orientation\":\"h\",\"showlegend\":true,\"x\":[2017,2016,2015,2014,2013,2012,2011,2010,2009,2008,2007,2006,2005,2004,2003,2002,2001,2000,1999,1998,1997,1996,1995,1994,1993,1992,1991,1990,1989,1988,1987,1986,1985,1984,1983,1982,1981,2018],\"xaxis\":\"x\",\"y\":[\"2024-01-08T02:17:01\",\"2024-01-08T02:22:58\",\"2024-01-08T02:23:21\",\"2024-01-08T02:20:21\",\"2024-01-08T02:20:15\",\"2024-01-08T02:18:37\",\"2024-01-08T02:19:19\",\"2024-01-08T02:22:38\",\"2024-01-08T02:22:11\",\"2024-01-08T02:24:14\",\"2024-01-08T02:20:38\",\"2024-01-08T02:19:35\",\"2024-01-08T02:17:42\",\"2024-01-08T02:22:35\",\"2024-01-08T02:15:25\",\"2024-01-08T02:18:56\",\"2024-01-08T02:23:57\",\"2024-01-08T02:24:33\",\"2024-01-08T02:23:22\",\"2024-01-08T02:26:26\",\"2024-01-08T02:26:51\",\"2024-01-08T02:27:54\",\"2024-01-08T02:27:43\",\"2024-01-08T02:32:34\",\"2024-01-08T02:27:09\",\"2024-01-08T02:29:39\",\"2024-01-08T02:26:14\",\"2024-01-08T02:26:31\",\"2024-01-08T02:25:56\",\"2024-01-08T02:25:41\",\"2024-01-08T02:22:48\",\"2024-01-08T02:24:54\",\"2024-01-08T02:21:06\",\"2024-01-08T02:24:26\",\"2024-01-08T02:25:29\",\"2024-01-08T02:29:43\",\"2024-01-08T02:29:57\",\"2024-01-08T02:18:31\"],\"yaxis\":\"y\",\"type\":\"scatter\"},{\"customdata\":[[\"Tirunesh Dibaba\"],[\"Florence Kiplagat\"],[\"Florence Kiplagat\"],[\"Mare Dibaba\"],[\"Rita Jeptoo\"],[\"Atsede Baysa\"],[\"Ejegayehu Dibaba\"],[\"Atsede Baysa\"],[\"Irina Mikitenko\"],[\"Lidiya Grigoryeva\"],[\"Berhane Adere\"],[\"Berhane Adere\"],[\"Deena Kastor\"],[\"Dita, Constantina\"],[\"Svetlana Zakharova\"],[\"Paula Radcliffe\"],[\"Catherine Ndereba\"],[\"Catherine Ndereba\"],[\"Joyce Chepchumba\"],[\"Joyce Chepchumba\"],[\"Marian Sutton\"],[\"Marian Sutton\"],[\"Ritva Lemettinen\"],[\"Kristy Johnston\"],[\"Ritva Lemettinen\"],[\"Linda Somers\"],[\"Midde Hamrin\"],[\"Aurora Cunha\"],[\"Lisa Weidenbach\"],[\"Lisa Weidenbach\"],[\"Ingrid Kristiansen\"],[\"Joan Benoit\"],[\"Rosa Mota\"],[\"Rosa Mota\"],[\"Nancy Conz\"],[\"Tina Gandy\"],[\"Sue Peterson\"],[\"Laura Michalek\"],[\"Lynae Larson\"],[\"Dorothy Doolittle\"]],\"hovertemplate\":\"marathon=Chicago<br>year=%{x}<br>time=%{y}<br>winner=%{customdata[0]}<extra></extra>\",\"legendgroup\":\"Chicago\",\"marker\":{\"color\":\"#19d3f3\",\"symbol\":\"circle\"},\"mode\":\"markers\",\"name\":\"Chicago\",\"orientation\":\"h\",\"showlegend\":true,\"x\":[2017,2016,2015,2014,2013,2012,2011,2010,2009,2008,2007,2006,2005,2004,2003,2002,2001,2000,1999,1998,1997,1996,1995,1994,1993,1992,1991,1990,1989,1988,1986,1985,1984,1983,1982,1981,1980,1979,1978,1977],\"xaxis\":\"x\",\"y\":[\"2024-01-08T02:18:31\",\"2024-01-08T02:21:32\",\"2024-01-08T02:23:33\",\"2024-01-08T02:25:37\",\"2024-01-08T02:19:57\",\"2024-01-08T02:22:03\",\"2024-01-08T02:22:09\",\"2024-01-08T02:23:40\",\"2024-01-08T02:26:31\",\"2024-01-08T02:27:17\",\"2024-01-08T02:33:49\",\"2024-01-08T02:20:42\",\"2024-01-08T02:21:25\",\"2024-01-08T02:23:45\",\"2024-01-08T02:23:07\",\"2024-01-08T02:17:18\",\"2024-01-08T02:18:47\",\"2024-01-08T02:21:33\",\"2024-01-08T02:25:59\",\"2024-01-08T02:23:57\",\"2024-01-08T02:29:03\",\"2024-01-08T02:30:41\",\"2024-01-08T02:28:27\",\"2024-01-08T02:31:34\",\"2024-01-08T02:33:18\",\"2024-01-08T02:37:41\",\"2024-01-08T02:36:21\",\"2024-01-08T02:30:11\",\"2024-01-08T02:28:15\",\"2024-01-08T02:29:17\",\"2024-01-08T02:27:08\",\"2024-01-08T02:21:21\",\"2024-01-08T02:26:01\",\"2024-01-08T02:31:12\",\"2024-01-08T02:33:23\",\"2024-01-08T02:49:39\",\"2024-01-08T02:45:03\",\"2024-01-08T03:15:45\",\"2024-01-08T02:59:25\",\"2024-01-08T02:50:47\"],\"yaxis\":\"y\",\"type\":\"scatter\"}],                        {\"template\":{\"data\":{\"histogram2dcontour\":[{\"type\":\"histogram2dcontour\",\"colorbar\":{\"outlinewidth\":0,\"ticks\":\"\"},\"colorscale\":[[0.0,\"#0d0887\"],[0.1111111111111111,\"#46039f\"],[0.2222222222222222,\"#7201a8\"],[0.3333333333333333,\"#9c179e\"],[0.4444444444444444,\"#bd3786\"],[0.5555555555555556,\"#d8576b\"],[0.6666666666666666,\"#ed7953\"],[0.7777777777777778,\"#fb9f3a\"],[0.8888888888888888,\"#fdca26\"],[1.0,\"#f0f921\"]]}],\"choropleth\":[{\"type\":\"choropleth\",\"colorbar\":{\"outlinewidth\":0,\"ticks\":\"\"}}],\"histogram2d\":[{\"type\":\"histogram2d\",\"colorbar\":{\"outlinewidth\":0,\"ticks\":\"\"},\"colorscale\":[[0.0,\"#0d0887\"],[0.1111111111111111,\"#46039f\"],[0.2222222222222222,\"#7201a8\"],[0.3333333333333333,\"#9c179e\"],[0.4444444444444444,\"#bd3786\"],[0.5555555555555556,\"#d8576b\"],[0.6666666666666666,\"#ed7953\"],[0.7777777777777778,\"#fb9f3a\"],[0.8888888888888888,\"#fdca26\"],[1.0,\"#f0f921\"]]}],\"heatmap\":[{\"type\":\"heatmap\",\"colorbar\":{\"outlinewidth\":0,\"ticks\":\"\"},\"colorscale\":[[0.0,\"#0d0887\"],[0.1111111111111111,\"#46039f\"],[0.2222222222222222,\"#7201a8\"],[0.3333333333333333,\"#9c179e\"],[0.4444444444444444,\"#bd3786\"],[0.5555555555555556,\"#d8576b\"],[0.6666666666666666,\"#ed7953\"],[0.7777777777777778,\"#fb9f3a\"],[0.8888888888888888,\"#fdca26\"],[1.0,\"#f0f921\"]]}],\"heatmapgl\":[{\"type\":\"heatmapgl\",\"colorbar\":{\"outlinewidth\":0,\"ticks\":\"\"},\"colorscale\":[[0.0,\"#0d0887\"],[0.1111111111111111,\"#46039f\"],[0.2222222222222222,\"#7201a8\"],[0.3333333333333333,\"#9c179e\"],[0.4444444444444444,\"#bd3786\"],[0.5555555555555556,\"#d8576b\"],[0.6666666666666666,\"#ed7953\"],[0.7777777777777778,\"#fb9f3a\"],[0.8888888888888888,\"#fdca26\"],[1.0,\"#f0f921\"]]}],\"contourcarpet\":[{\"type\":\"contourcarpet\",\"colorbar\":{\"outlinewidth\":0,\"ticks\":\"\"}}],\"contour\":[{\"type\":\"contour\",\"colorbar\":{\"outlinewidth\":0,\"ticks\":\"\"},\"colorscale\":[[0.0,\"#0d0887\"],[0.1111111111111111,\"#46039f\"],[0.2222222222222222,\"#7201a8\"],[0.3333333333333333,\"#9c179e\"],[0.4444444444444444,\"#bd3786\"],[0.5555555555555556,\"#d8576b\"],[0.6666666666666666,\"#ed7953\"],[0.7777777777777778,\"#fb9f3a\"],[0.8888888888888888,\"#fdca26\"],[1.0,\"#f0f921\"]]}],\"surface\":[{\"type\":\"surface\",\"colorbar\":{\"outlinewidth\":0,\"ticks\":\"\"},\"colorscale\":[[0.0,\"#0d0887\"],[0.1111111111111111,\"#46039f\"],[0.2222222222222222,\"#7201a8\"],[0.3333333333333333,\"#9c179e\"],[0.4444444444444444,\"#bd3786\"],[0.5555555555555556,\"#d8576b\"],[0.6666666666666666,\"#ed7953\"],[0.7777777777777778,\"#fb9f3a\"],[0.8888888888888888,\"#fdca26\"],[1.0,\"#f0f921\"]]}],\"mesh3d\":[{\"type\":\"mesh3d\",\"colorbar\":{\"outlinewidth\":0,\"ticks\":\"\"}}],\"scatter\":[{\"fillpattern\":{\"fillmode\":\"overlay\",\"size\":10,\"solidity\":0.2},\"type\":\"scatter\"}],\"parcoords\":[{\"type\":\"parcoords\",\"line\":{\"colorbar\":{\"outlinewidth\":0,\"ticks\":\"\"}}}],\"scatterpolargl\":[{\"type\":\"scatterpolargl\",\"marker\":{\"colorbar\":{\"outlinewidth\":0,\"ticks\":\"\"}}}],\"bar\":[{\"error_x\":{\"color\":\"#2a3f5f\"},\"error_y\":{\"color\":\"#2a3f5f\"},\"marker\":{\"line\":{\"color\":\"#E5ECF6\",\"width\":0.5},\"pattern\":{\"fillmode\":\"overlay\",\"size\":10,\"solidity\":0.2}},\"type\":\"bar\"}],\"scattergeo\":[{\"type\":\"scattergeo\",\"marker\":{\"colorbar\":{\"outlinewidth\":0,\"ticks\":\"\"}}}],\"scatterpolar\":[{\"type\":\"scatterpolar\",\"marker\":{\"colorbar\":{\"outlinewidth\":0,\"ticks\":\"\"}}}],\"histogram\":[{\"marker\":{\"pattern\":{\"fillmode\":\"overlay\",\"size\":10,\"solidity\":0.2}},\"type\":\"histogram\"}],\"scattergl\":[{\"type\":\"scattergl\",\"marker\":{\"colorbar\":{\"outlinewidth\":0,\"ticks\":\"\"}}}],\"scatter3d\":[{\"type\":\"scatter3d\",\"line\":{\"colorbar\":{\"outlinewidth\":0,\"ticks\":\"\"}},\"marker\":{\"colorbar\":{\"outlinewidth\":0,\"ticks\":\"\"}}}],\"scattermapbox\":[{\"type\":\"scattermapbox\",\"marker\":{\"colorbar\":{\"outlinewidth\":0,\"ticks\":\"\"}}}],\"scatterternary\":[{\"type\":\"scatterternary\",\"marker\":{\"colorbar\":{\"outlinewidth\":0,\"ticks\":\"\"}}}],\"scattercarpet\":[{\"type\":\"scattercarpet\",\"marker\":{\"colorbar\":{\"outlinewidth\":0,\"ticks\":\"\"}}}],\"carpet\":[{\"aaxis\":{\"endlinecolor\":\"#2a3f5f\",\"gridcolor\":\"white\",\"linecolor\":\"white\",\"minorgridcolor\":\"white\",\"startlinecolor\":\"#2a3f5f\"},\"baxis\":{\"endlinecolor\":\"#2a3f5f\",\"gridcolor\":\"white\",\"linecolor\":\"white\",\"minorgridcolor\":\"white\",\"startlinecolor\":\"#2a3f5f\"},\"type\":\"carpet\"}],\"table\":[{\"cells\":{\"fill\":{\"color\":\"#EBF0F8\"},\"line\":{\"color\":\"white\"}},\"header\":{\"fill\":{\"color\":\"#C8D4E3\"},\"line\":{\"color\":\"white\"}},\"type\":\"table\"}],\"barpolar\":[{\"marker\":{\"line\":{\"color\":\"#E5ECF6\",\"width\":0.5},\"pattern\":{\"fillmode\":\"overlay\",\"size\":10,\"solidity\":0.2}},\"type\":\"barpolar\"}],\"pie\":[{\"automargin\":true,\"type\":\"pie\"}]},\"layout\":{\"autotypenumbers\":\"strict\",\"colorway\":[\"#636efa\",\"#EF553B\",\"#00cc96\",\"#ab63fa\",\"#FFA15A\",\"#19d3f3\",\"#FF6692\",\"#B6E880\",\"#FF97FF\",\"#FECB52\"],\"font\":{\"color\":\"#2a3f5f\"},\"hovermode\":\"closest\",\"hoverlabel\":{\"align\":\"left\"},\"paper_bgcolor\":\"white\",\"plot_bgcolor\":\"#E5ECF6\",\"polar\":{\"bgcolor\":\"#E5ECF6\",\"angularaxis\":{\"gridcolor\":\"white\",\"linecolor\":\"white\",\"ticks\":\"\"},\"radialaxis\":{\"gridcolor\":\"white\",\"linecolor\":\"white\",\"ticks\":\"\"}},\"ternary\":{\"bgcolor\":\"#E5ECF6\",\"aaxis\":{\"gridcolor\":\"white\",\"linecolor\":\"white\",\"ticks\":\"\"},\"baxis\":{\"gridcolor\":\"white\",\"linecolor\":\"white\",\"ticks\":\"\"},\"caxis\":{\"gridcolor\":\"white\",\"linecolor\":\"white\",\"ticks\":\"\"}},\"coloraxis\":{\"colorbar\":{\"outlinewidth\":0,\"ticks\":\"\"}},\"colorscale\":{\"sequential\":[[0.0,\"#0d0887\"],[0.1111111111111111,\"#46039f\"],[0.2222222222222222,\"#7201a8\"],[0.3333333333333333,\"#9c179e\"],[0.4444444444444444,\"#bd3786\"],[0.5555555555555556,\"#d8576b\"],[0.6666666666666666,\"#ed7953\"],[0.7777777777777778,\"#fb9f3a\"],[0.8888888888888888,\"#fdca26\"],[1.0,\"#f0f921\"]],\"sequentialminus\":[[0.0,\"#0d0887\"],[0.1111111111111111,\"#46039f\"],[0.2222222222222222,\"#7201a8\"],[0.3333333333333333,\"#9c179e\"],[0.4444444444444444,\"#bd3786\"],[0.5555555555555556,\"#d8576b\"],[0.6666666666666666,\"#ed7953\"],[0.7777777777777778,\"#fb9f3a\"],[0.8888888888888888,\"#fdca26\"],[1.0,\"#f0f921\"]],\"diverging\":[[0,\"#8e0152\"],[0.1,\"#c51b7d\"],[0.2,\"#de77ae\"],[0.3,\"#f1b6da\"],[0.4,\"#fde0ef\"],[0.5,\"#f7f7f7\"],[0.6,\"#e6f5d0\"],[0.7,\"#b8e186\"],[0.8,\"#7fbc41\"],[0.9,\"#4d9221\"],[1,\"#276419\"]]},\"xaxis\":{\"gridcolor\":\"white\",\"linecolor\":\"white\",\"ticks\":\"\",\"title\":{\"standoff\":15},\"zerolinecolor\":\"white\",\"automargin\":true,\"zerolinewidth\":2},\"yaxis\":{\"gridcolor\":\"white\",\"linecolor\":\"white\",\"ticks\":\"\",\"title\":{\"standoff\":15},\"zerolinecolor\":\"white\",\"automargin\":true,\"zerolinewidth\":2},\"scene\":{\"xaxis\":{\"backgroundcolor\":\"#E5ECF6\",\"gridcolor\":\"white\",\"linecolor\":\"white\",\"showbackground\":true,\"ticks\":\"\",\"zerolinecolor\":\"white\",\"gridwidth\":2},\"yaxis\":{\"backgroundcolor\":\"#E5ECF6\",\"gridcolor\":\"white\",\"linecolor\":\"white\",\"showbackground\":true,\"ticks\":\"\",\"zerolinecolor\":\"white\",\"gridwidth\":2},\"zaxis\":{\"backgroundcolor\":\"#E5ECF6\",\"gridcolor\":\"white\",\"linecolor\":\"white\",\"showbackground\":true,\"ticks\":\"\",\"zerolinecolor\":\"white\",\"gridwidth\":2}},\"shapedefaults\":{\"line\":{\"color\":\"#2a3f5f\"}},\"annotationdefaults\":{\"arrowcolor\":\"#2a3f5f\",\"arrowhead\":0,\"arrowwidth\":1},\"geo\":{\"bgcolor\":\"white\",\"landcolor\":\"#E5ECF6\",\"subunitcolor\":\"white\",\"showland\":true,\"showlakes\":true,\"lakecolor\":\"white\"},\"title\":{\"x\":0.05},\"mapbox\":{\"style\":\"light\"}}},\"xaxis\":{\"anchor\":\"y\",\"domain\":[0.0,1.0],\"title\":{\"text\":\"year\"}},\"yaxis\":{\"anchor\":\"x\",\"domain\":[0.0,1.0],\"title\":{\"text\":\"time\"}},\"legend\":{\"title\":{\"text\":\"marathon\"},\"tracegroupgap\":0},\"title\":{\"text\":\"Female Winners Time\"}},                        {\"responsive\": true}                    ).then(function(){\n",
       "                            \n",
       "var gd = document.getElementById('6dde0e93-cbbd-4eb1-aa44-26c9fa0c14ba');\n",
       "var x = new MutationObserver(function (mutations, observer) {{\n",
       "        var display = window.getComputedStyle(gd).display;\n",
       "        if (!display || display === 'none') {{\n",
       "            console.log([gd, 'removed!']);\n",
       "            Plotly.purge(gd);\n",
       "            observer.disconnect();\n",
       "        }}\n",
       "}});\n",
       "\n",
       "// Listen for the removal of the full notebook cells\n",
       "var notebookContainer = gd.closest('#notebook-container');\n",
       "if (notebookContainer) {{\n",
       "    x.observe(notebookContainer, {childList: true});\n",
       "}}\n",
       "\n",
       "// Listen for the clearing of the current output cell\n",
       "var outputEl = gd.closest('.output');\n",
       "if (outputEl) {{\n",
       "    x.observe(outputEl, {childList: true});\n",
       "}}\n",
       "\n",
       "                        })                };                });            </script>        </div>"
      ]
     },
     "metadata": {},
     "output_type": "display_data"
    }
   ],
   "source": [
    "female_won = df[df['gender'] == 'Female'].reset_index(drop=True)\n",
    "female_won.set_index(['year'])\n",
    "px.scatter(data_frame=female_won, y='time', x='year', color='marathon', hover_data=['winner'], title=\"Female Winners Time\")"
   ]
  },
  {
   "cell_type": "code",
   "execution_count": 91,
   "id": "f156a73f",
   "metadata": {},
   "outputs": [
    {
     "data": {
      "text/html": [
       "<div>\n",
       "<style scoped>\n",
       "    .dataframe tbody tr th:only-of-type {\n",
       "        vertical-align: middle;\n",
       "    }\n",
       "\n",
       "    .dataframe tbody tr th {\n",
       "        vertical-align: top;\n",
       "    }\n",
       "\n",
       "    .dataframe thead th {\n",
       "        text-align: right;\n",
       "    }\n",
       "</style>\n",
       "<table border=\"1\" class=\"dataframe\">\n",
       "  <thead>\n",
       "    <tr style=\"text-align: right;\">\n",
       "      <th></th>\n",
       "      <th>year</th>\n",
       "      <th>winner</th>\n",
       "      <th>gender</th>\n",
       "      <th>country</th>\n",
       "      <th>time</th>\n",
       "      <th>marathon</th>\n",
       "      <th>hours</th>\n",
       "      <th>minutes</th>\n",
       "      <th>seconds</th>\n",
       "      <th>formatted_time</th>\n",
       "      <th>second</th>\n",
       "    </tr>\n",
       "  </thead>\n",
       "  <tbody>\n",
       "    <tr>\n",
       "      <th>8</th>\n",
       "      <td>2014</td>\n",
       "      <td>Dickson Chumba</td>\n",
       "      <td>Male</td>\n",
       "      <td>Kenya</td>\n",
       "      <td>2024-01-08 02:05:42</td>\n",
       "      <td>Tokyo</td>\n",
       "      <td>2</td>\n",
       "      <td>5</td>\n",
       "      <td>42</td>\n",
       "      <td>2.05.42</td>\n",
       "      <td>7542</td>\n",
       "    </tr>\n",
       "    <tr>\n",
       "      <th>9</th>\n",
       "      <td>2014</td>\n",
       "      <td>Tirfi Tsegaye</td>\n",
       "      <td>Female</td>\n",
       "      <td>Ethiopia</td>\n",
       "      <td>2024-01-08 02:22:23</td>\n",
       "      <td>Tokyo</td>\n",
       "      <td>2</td>\n",
       "      <td>22</td>\n",
       "      <td>23</td>\n",
       "      <td>2.22.23</td>\n",
       "      <td>8543</td>\n",
       "    </tr>\n",
       "    <tr>\n",
       "      <th>30</th>\n",
       "      <td>2014</td>\n",
       "      <td>Dennis Kimetto</td>\n",
       "      <td>Male</td>\n",
       "      <td>Kenya</td>\n",
       "      <td>2024-01-08 02:02:57</td>\n",
       "      <td>Berlin</td>\n",
       "      <td>2</td>\n",
       "      <td>2</td>\n",
       "      <td>57</td>\n",
       "      <td>2.02.57</td>\n",
       "      <td>7377</td>\n",
       "    </tr>\n",
       "    <tr>\n",
       "      <th>31</th>\n",
       "      <td>2014</td>\n",
       "      <td>Tirfi Tsegaye</td>\n",
       "      <td>Female</td>\n",
       "      <td>Ethiopia</td>\n",
       "      <td>2024-01-08 02:20:18</td>\n",
       "      <td>Berlin</td>\n",
       "      <td>2</td>\n",
       "      <td>20</td>\n",
       "      <td>18</td>\n",
       "      <td>2.20.18</td>\n",
       "      <td>8418</td>\n",
       "    </tr>\n",
       "    <tr>\n",
       "      <th>120</th>\n",
       "      <td>2014</td>\n",
       "      <td>Meb Keflezighi</td>\n",
       "      <td>Male</td>\n",
       "      <td>United States</td>\n",
       "      <td>2024-01-08 02:08:37</td>\n",
       "      <td>Boston</td>\n",
       "      <td>2</td>\n",
       "      <td>8</td>\n",
       "      <td>37</td>\n",
       "      <td>2.08.37</td>\n",
       "      <td>7717</td>\n",
       "    </tr>\n",
       "    <tr>\n",
       "      <th>121</th>\n",
       "      <td>2014</td>\n",
       "      <td>Rita Jeptoo</td>\n",
       "      <td>Female</td>\n",
       "      <td>Kenya</td>\n",
       "      <td>2024-01-08 02:18:57</td>\n",
       "      <td>Boston</td>\n",
       "      <td>2</td>\n",
       "      <td>18</td>\n",
       "      <td>57</td>\n",
       "      <td>2.18.57</td>\n",
       "      <td>8337</td>\n",
       "    </tr>\n",
       "    <tr>\n",
       "      <th>122</th>\n",
       "      <td>2014</td>\n",
       "      <td>Bizunesh Deba</td>\n",
       "      <td>Female</td>\n",
       "      <td>Ethiopia</td>\n",
       "      <td>2024-01-08 02:19:59</td>\n",
       "      <td>Boston</td>\n",
       "      <td>2</td>\n",
       "      <td>19</td>\n",
       "      <td>59</td>\n",
       "      <td>2.19.59</td>\n",
       "      <td>8399</td>\n",
       "    </tr>\n",
       "    <tr>\n",
       "      <th>293</th>\n",
       "      <td>2014</td>\n",
       "      <td>Wilson Kipsang</td>\n",
       "      <td>Male</td>\n",
       "      <td>Kenya</td>\n",
       "      <td>2024-01-08 02:10:59</td>\n",
       "      <td>NYC</td>\n",
       "      <td>2</td>\n",
       "      <td>10</td>\n",
       "      <td>59</td>\n",
       "      <td>2.10.59</td>\n",
       "      <td>7859</td>\n",
       "    </tr>\n",
       "    <tr>\n",
       "      <th>294</th>\n",
       "      <td>2014</td>\n",
       "      <td>Mary Keitany</td>\n",
       "      <td>Female</td>\n",
       "      <td>Kenya</td>\n",
       "      <td>2024-01-08 02:25:07</td>\n",
       "      <td>NYC</td>\n",
       "      <td>2</td>\n",
       "      <td>25</td>\n",
       "      <td>7</td>\n",
       "      <td>2.25.07</td>\n",
       "      <td>8707</td>\n",
       "    </tr>\n",
       "    <tr>\n",
       "      <th>386</th>\n",
       "      <td>2014</td>\n",
       "      <td>Wilson Kipsang</td>\n",
       "      <td>Male</td>\n",
       "      <td>Kenya</td>\n",
       "      <td>2024-01-08 02:04:29</td>\n",
       "      <td>London</td>\n",
       "      <td>2</td>\n",
       "      <td>4</td>\n",
       "      <td>29</td>\n",
       "      <td>2.04.29</td>\n",
       "      <td>7469</td>\n",
       "    </tr>\n",
       "    <tr>\n",
       "      <th>387</th>\n",
       "      <td>2014</td>\n",
       "      <td>Edna Kiplagat</td>\n",
       "      <td>Female</td>\n",
       "      <td>Kenya</td>\n",
       "      <td>2024-01-08 02:20:21</td>\n",
       "      <td>London</td>\n",
       "      <td>2</td>\n",
       "      <td>20</td>\n",
       "      <td>21</td>\n",
       "      <td>2.20.21</td>\n",
       "      <td>8421</td>\n",
       "    </tr>\n",
       "    <tr>\n",
       "      <th>461</th>\n",
       "      <td>2014</td>\n",
       "      <td>Eliud Kipchoge</td>\n",
       "      <td>Male</td>\n",
       "      <td>Kenya</td>\n",
       "      <td>2024-01-08 02:04:11</td>\n",
       "      <td>Chicago</td>\n",
       "      <td>2</td>\n",
       "      <td>4</td>\n",
       "      <td>11</td>\n",
       "      <td>2.04.11</td>\n",
       "      <td>7451</td>\n",
       "    </tr>\n",
       "    <tr>\n",
       "      <th>462</th>\n",
       "      <td>2014</td>\n",
       "      <td>Mare Dibaba</td>\n",
       "      <td>Female</td>\n",
       "      <td>Ethiopia</td>\n",
       "      <td>2024-01-08 02:25:37</td>\n",
       "      <td>Chicago</td>\n",
       "      <td>2</td>\n",
       "      <td>25</td>\n",
       "      <td>37</td>\n",
       "      <td>2.25.37</td>\n",
       "      <td>8737</td>\n",
       "    </tr>\n",
       "  </tbody>\n",
       "</table>\n",
       "</div>"
      ],
      "text/plain": [
       "     year          winner  gender        country                time marathon  \\\n",
       "8    2014  Dickson Chumba    Male          Kenya 2024-01-08 02:05:42    Tokyo   \n",
       "9    2014   Tirfi Tsegaye  Female       Ethiopia 2024-01-08 02:22:23    Tokyo   \n",
       "30   2014  Dennis Kimetto    Male          Kenya 2024-01-08 02:02:57   Berlin   \n",
       "31   2014   Tirfi Tsegaye  Female       Ethiopia 2024-01-08 02:20:18   Berlin   \n",
       "120  2014  Meb Keflezighi    Male  United States 2024-01-08 02:08:37   Boston   \n",
       "121  2014     Rita Jeptoo  Female          Kenya 2024-01-08 02:18:57   Boston   \n",
       "122  2014   Bizunesh Deba  Female       Ethiopia 2024-01-08 02:19:59   Boston   \n",
       "293  2014  Wilson Kipsang    Male          Kenya 2024-01-08 02:10:59      NYC   \n",
       "294  2014    Mary Keitany  Female          Kenya 2024-01-08 02:25:07      NYC   \n",
       "386  2014  Wilson Kipsang    Male          Kenya 2024-01-08 02:04:29   London   \n",
       "387  2014   Edna Kiplagat  Female          Kenya 2024-01-08 02:20:21   London   \n",
       "461  2014  Eliud Kipchoge    Male          Kenya 2024-01-08 02:04:11  Chicago   \n",
       "462  2014     Mare Dibaba  Female       Ethiopia 2024-01-08 02:25:37  Chicago   \n",
       "\n",
       "     hours  minutes  seconds formatted_time  second  \n",
       "8        2        5       42        2.05.42    7542  \n",
       "9        2       22       23        2.22.23    8543  \n",
       "30       2        2       57        2.02.57    7377  \n",
       "31       2       20       18        2.20.18    8418  \n",
       "120      2        8       37        2.08.37    7717  \n",
       "121      2       18       57        2.18.57    8337  \n",
       "122      2       19       59        2.19.59    8399  \n",
       "293      2       10       59        2.10.59    7859  \n",
       "294      2       25        7        2.25.07    8707  \n",
       "386      2        4       29        2.04.29    7469  \n",
       "387      2       20       21        2.20.21    8421  \n",
       "461      2        4       11        2.04.11    7451  \n",
       "462      2       25       37        2.25.37    8737  "
      ]
     },
     "execution_count": 91,
     "metadata": {},
     "output_type": "execute_result"
    }
   ],
   "source": [
    "df[df.year==2014]"
   ]
  },
  {
   "cell_type": "code",
   "execution_count": null,
   "id": "90536f6f",
   "metadata": {},
   "outputs": [],
   "source": [
    "# In 2014 Boston Marathon has 3 winners,a quick Google search shows Rita Jeptoo was disqualified for doping."
   ]
  },
  {
   "cell_type": "code",
   "execution_count": 92,
   "id": "49dfbab5",
   "metadata": {},
   "outputs": [
    {
     "data": {
      "text/html": [
       "<div>\n",
       "<style scoped>\n",
       "    .dataframe tbody tr th:only-of-type {\n",
       "        vertical-align: middle;\n",
       "    }\n",
       "\n",
       "    .dataframe tbody tr th {\n",
       "        vertical-align: top;\n",
       "    }\n",
       "\n",
       "    .dataframe thead th {\n",
       "        text-align: right;\n",
       "    }\n",
       "</style>\n",
       "<table border=\"1\" class=\"dataframe\">\n",
       "  <thead>\n",
       "    <tr style=\"text-align: right;\">\n",
       "      <th></th>\n",
       "      <th>year</th>\n",
       "      <th>winner</th>\n",
       "      <th>gender</th>\n",
       "      <th>country</th>\n",
       "      <th>time</th>\n",
       "      <th>marathon</th>\n",
       "      <th>hours</th>\n",
       "      <th>minutes</th>\n",
       "      <th>seconds</th>\n",
       "      <th>formatted_time</th>\n",
       "      <th>second</th>\n",
       "    </tr>\n",
       "  </thead>\n",
       "  <tbody>\n",
       "    <tr>\n",
       "      <th>124</th>\n",
       "      <td>2013</td>\n",
       "      <td>Rita Jeptoo</td>\n",
       "      <td>Female</td>\n",
       "      <td>Kenya</td>\n",
       "      <td>2024-01-08 02:26:25</td>\n",
       "      <td>Boston</td>\n",
       "      <td>2</td>\n",
       "      <td>26</td>\n",
       "      <td>25</td>\n",
       "      <td>2.26.25</td>\n",
       "      <td>8785</td>\n",
       "    </tr>\n",
       "    <tr>\n",
       "      <th>138</th>\n",
       "      <td>2006</td>\n",
       "      <td>Rita Jeptoo</td>\n",
       "      <td>Female</td>\n",
       "      <td>Kenya</td>\n",
       "      <td>2024-01-08 02:23:38</td>\n",
       "      <td>Boston</td>\n",
       "      <td>2</td>\n",
       "      <td>23</td>\n",
       "      <td>38</td>\n",
       "      <td>2.23.38</td>\n",
       "      <td>8618</td>\n",
       "    </tr>\n",
       "    <tr>\n",
       "      <th>464</th>\n",
       "      <td>2013</td>\n",
       "      <td>Rita Jeptoo</td>\n",
       "      <td>Female</td>\n",
       "      <td>Kenya</td>\n",
       "      <td>2024-01-08 02:19:57</td>\n",
       "      <td>Chicago</td>\n",
       "      <td>2</td>\n",
       "      <td>19</td>\n",
       "      <td>57</td>\n",
       "      <td>2.19.57</td>\n",
       "      <td>8397</td>\n",
       "    </tr>\n",
       "  </tbody>\n",
       "</table>\n",
       "</div>"
      ],
      "text/plain": [
       "     year       winner  gender country                time marathon  hours  \\\n",
       "124  2013  Rita Jeptoo  Female   Kenya 2024-01-08 02:26:25   Boston      2   \n",
       "138  2006  Rita Jeptoo  Female   Kenya 2024-01-08 02:23:38   Boston      2   \n",
       "464  2013  Rita Jeptoo  Female   Kenya 2024-01-08 02:19:57  Chicago      2   \n",
       "\n",
       "     minutes  seconds formatted_time  second  \n",
       "124       26       25        2.26.25    8785  \n",
       "138       23       38        2.23.38    8618  \n",
       "464       19       57        2.19.57    8397  "
      ]
     },
     "execution_count": 92,
     "metadata": {},
     "output_type": "execute_result"
    }
   ],
   "source": [
    "#We are dropping Rita Jeptoo from the list\n",
    "df.drop(df[(df['winner'] == 'Rita Jeptoo') & (df['year'] == 2014)].index, inplace=True)\n",
    "df[df['winner'] == 'Rita Jeptoo']"
   ]
  },
  {
   "cell_type": "code",
   "execution_count": 93,
   "id": "6b0b08b9",
   "metadata": {},
   "outputs": [
    {
     "data": {
      "text/html": [
       "<div>\n",
       "<style scoped>\n",
       "    .dataframe tbody tr th:only-of-type {\n",
       "        vertical-align: middle;\n",
       "    }\n",
       "\n",
       "    .dataframe tbody tr th {\n",
       "        vertical-align: top;\n",
       "    }\n",
       "\n",
       "    .dataframe thead th {\n",
       "        text-align: right;\n",
       "    }\n",
       "</style>\n",
       "<table border=\"1\" class=\"dataframe\">\n",
       "  <thead>\n",
       "    <tr style=\"text-align: right;\">\n",
       "      <th></th>\n",
       "      <th>year</th>\n",
       "      <th>winner</th>\n",
       "      <th>gender</th>\n",
       "      <th>country</th>\n",
       "      <th>time</th>\n",
       "      <th>marathon</th>\n",
       "      <th>hours</th>\n",
       "      <th>minutes</th>\n",
       "      <th>seconds</th>\n",
       "      <th>formatted_time</th>\n",
       "      <th>second</th>\n",
       "    </tr>\n",
       "  </thead>\n",
       "  <tbody>\n",
       "    <tr>\n",
       "      <th>8</th>\n",
       "      <td>2014</td>\n",
       "      <td>Dickson Chumba</td>\n",
       "      <td>Male</td>\n",
       "      <td>Kenya</td>\n",
       "      <td>2024-01-08 02:05:42</td>\n",
       "      <td>Tokyo</td>\n",
       "      <td>2</td>\n",
       "      <td>5</td>\n",
       "      <td>42</td>\n",
       "      <td>2.05.42</td>\n",
       "      <td>7542</td>\n",
       "    </tr>\n",
       "    <tr>\n",
       "      <th>9</th>\n",
       "      <td>2014</td>\n",
       "      <td>Tirfi Tsegaye</td>\n",
       "      <td>Female</td>\n",
       "      <td>Ethiopia</td>\n",
       "      <td>2024-01-08 02:22:23</td>\n",
       "      <td>Tokyo</td>\n",
       "      <td>2</td>\n",
       "      <td>22</td>\n",
       "      <td>23</td>\n",
       "      <td>2.22.23</td>\n",
       "      <td>8543</td>\n",
       "    </tr>\n",
       "    <tr>\n",
       "      <th>30</th>\n",
       "      <td>2014</td>\n",
       "      <td>Dennis Kimetto</td>\n",
       "      <td>Male</td>\n",
       "      <td>Kenya</td>\n",
       "      <td>2024-01-08 02:02:57</td>\n",
       "      <td>Berlin</td>\n",
       "      <td>2</td>\n",
       "      <td>2</td>\n",
       "      <td>57</td>\n",
       "      <td>2.02.57</td>\n",
       "      <td>7377</td>\n",
       "    </tr>\n",
       "    <tr>\n",
       "      <th>31</th>\n",
       "      <td>2014</td>\n",
       "      <td>Tirfi Tsegaye</td>\n",
       "      <td>Female</td>\n",
       "      <td>Ethiopia</td>\n",
       "      <td>2024-01-08 02:20:18</td>\n",
       "      <td>Berlin</td>\n",
       "      <td>2</td>\n",
       "      <td>20</td>\n",
       "      <td>18</td>\n",
       "      <td>2.20.18</td>\n",
       "      <td>8418</td>\n",
       "    </tr>\n",
       "    <tr>\n",
       "      <th>120</th>\n",
       "      <td>2014</td>\n",
       "      <td>Meb Keflezighi</td>\n",
       "      <td>Male</td>\n",
       "      <td>United States</td>\n",
       "      <td>2024-01-08 02:08:37</td>\n",
       "      <td>Boston</td>\n",
       "      <td>2</td>\n",
       "      <td>8</td>\n",
       "      <td>37</td>\n",
       "      <td>2.08.37</td>\n",
       "      <td>7717</td>\n",
       "    </tr>\n",
       "    <tr>\n",
       "      <th>122</th>\n",
       "      <td>2014</td>\n",
       "      <td>Bizunesh Deba</td>\n",
       "      <td>Female</td>\n",
       "      <td>Ethiopia</td>\n",
       "      <td>2024-01-08 02:19:59</td>\n",
       "      <td>Boston</td>\n",
       "      <td>2</td>\n",
       "      <td>19</td>\n",
       "      <td>59</td>\n",
       "      <td>2.19.59</td>\n",
       "      <td>8399</td>\n",
       "    </tr>\n",
       "    <tr>\n",
       "      <th>293</th>\n",
       "      <td>2014</td>\n",
       "      <td>Wilson Kipsang</td>\n",
       "      <td>Male</td>\n",
       "      <td>Kenya</td>\n",
       "      <td>2024-01-08 02:10:59</td>\n",
       "      <td>NYC</td>\n",
       "      <td>2</td>\n",
       "      <td>10</td>\n",
       "      <td>59</td>\n",
       "      <td>2.10.59</td>\n",
       "      <td>7859</td>\n",
       "    </tr>\n",
       "    <tr>\n",
       "      <th>294</th>\n",
       "      <td>2014</td>\n",
       "      <td>Mary Keitany</td>\n",
       "      <td>Female</td>\n",
       "      <td>Kenya</td>\n",
       "      <td>2024-01-08 02:25:07</td>\n",
       "      <td>NYC</td>\n",
       "      <td>2</td>\n",
       "      <td>25</td>\n",
       "      <td>7</td>\n",
       "      <td>2.25.07</td>\n",
       "      <td>8707</td>\n",
       "    </tr>\n",
       "    <tr>\n",
       "      <th>386</th>\n",
       "      <td>2014</td>\n",
       "      <td>Wilson Kipsang</td>\n",
       "      <td>Male</td>\n",
       "      <td>Kenya</td>\n",
       "      <td>2024-01-08 02:04:29</td>\n",
       "      <td>London</td>\n",
       "      <td>2</td>\n",
       "      <td>4</td>\n",
       "      <td>29</td>\n",
       "      <td>2.04.29</td>\n",
       "      <td>7469</td>\n",
       "    </tr>\n",
       "    <tr>\n",
       "      <th>387</th>\n",
       "      <td>2014</td>\n",
       "      <td>Edna Kiplagat</td>\n",
       "      <td>Female</td>\n",
       "      <td>Kenya</td>\n",
       "      <td>2024-01-08 02:20:21</td>\n",
       "      <td>London</td>\n",
       "      <td>2</td>\n",
       "      <td>20</td>\n",
       "      <td>21</td>\n",
       "      <td>2.20.21</td>\n",
       "      <td>8421</td>\n",
       "    </tr>\n",
       "    <tr>\n",
       "      <th>461</th>\n",
       "      <td>2014</td>\n",
       "      <td>Eliud Kipchoge</td>\n",
       "      <td>Male</td>\n",
       "      <td>Kenya</td>\n",
       "      <td>2024-01-08 02:04:11</td>\n",
       "      <td>Chicago</td>\n",
       "      <td>2</td>\n",
       "      <td>4</td>\n",
       "      <td>11</td>\n",
       "      <td>2.04.11</td>\n",
       "      <td>7451</td>\n",
       "    </tr>\n",
       "    <tr>\n",
       "      <th>462</th>\n",
       "      <td>2014</td>\n",
       "      <td>Mare Dibaba</td>\n",
       "      <td>Female</td>\n",
       "      <td>Ethiopia</td>\n",
       "      <td>2024-01-08 02:25:37</td>\n",
       "      <td>Chicago</td>\n",
       "      <td>2</td>\n",
       "      <td>25</td>\n",
       "      <td>37</td>\n",
       "      <td>2.25.37</td>\n",
       "      <td>8737</td>\n",
       "    </tr>\n",
       "  </tbody>\n",
       "</table>\n",
       "</div>"
      ],
      "text/plain": [
       "     year          winner  gender        country                time marathon  \\\n",
       "8    2014  Dickson Chumba    Male          Kenya 2024-01-08 02:05:42    Tokyo   \n",
       "9    2014   Tirfi Tsegaye  Female       Ethiopia 2024-01-08 02:22:23    Tokyo   \n",
       "30   2014  Dennis Kimetto    Male          Kenya 2024-01-08 02:02:57   Berlin   \n",
       "31   2014   Tirfi Tsegaye  Female       Ethiopia 2024-01-08 02:20:18   Berlin   \n",
       "120  2014  Meb Keflezighi    Male  United States 2024-01-08 02:08:37   Boston   \n",
       "122  2014   Bizunesh Deba  Female       Ethiopia 2024-01-08 02:19:59   Boston   \n",
       "293  2014  Wilson Kipsang    Male          Kenya 2024-01-08 02:10:59      NYC   \n",
       "294  2014    Mary Keitany  Female          Kenya 2024-01-08 02:25:07      NYC   \n",
       "386  2014  Wilson Kipsang    Male          Kenya 2024-01-08 02:04:29   London   \n",
       "387  2014   Edna Kiplagat  Female          Kenya 2024-01-08 02:20:21   London   \n",
       "461  2014  Eliud Kipchoge    Male          Kenya 2024-01-08 02:04:11  Chicago   \n",
       "462  2014     Mare Dibaba  Female       Ethiopia 2024-01-08 02:25:37  Chicago   \n",
       "\n",
       "     hours  minutes  seconds formatted_time  second  \n",
       "8        2        5       42        2.05.42    7542  \n",
       "9        2       22       23        2.22.23    8543  \n",
       "30       2        2       57        2.02.57    7377  \n",
       "31       2       20       18        2.20.18    8418  \n",
       "120      2        8       37        2.08.37    7717  \n",
       "122      2       19       59        2.19.59    8399  \n",
       "293      2       10       59        2.10.59    7859  \n",
       "294      2       25        7        2.25.07    8707  \n",
       "386      2        4       29        2.04.29    7469  \n",
       "387      2       20       21        2.20.21    8421  \n",
       "461      2        4       11        2.04.11    7451  \n",
       "462      2       25       37        2.25.37    8737  "
      ]
     },
     "execution_count": 93,
     "metadata": {},
     "output_type": "execute_result"
    }
   ],
   "source": [
    "df[df.year==2014]"
   ]
  },
  {
   "cell_type": "code",
   "execution_count": null,
   "id": "11a7c595",
   "metadata": {},
   "outputs": [],
   "source": []
  }
 ],
 "metadata": {
  "kernelspec": {
   "display_name": "Python 3 (ipykernel)",
   "language": "python",
   "name": "python3"
  },
  "language_info": {
   "codemirror_mode": {
    "name": "ipython",
    "version": 3
   },
   "file_extension": ".py",
   "mimetype": "text/x-python",
   "name": "python",
   "nbconvert_exporter": "python",
   "pygments_lexer": "ipython3",
   "version": "3.11.4"
  }
 },
 "nbformat": 4,
 "nbformat_minor": 5
}
